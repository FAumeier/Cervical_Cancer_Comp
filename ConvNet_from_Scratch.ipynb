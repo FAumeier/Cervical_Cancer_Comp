{
 "cells": [
  {
   "cell_type": "markdown",
   "metadata": {},
   "source": [
    "# small convnet from scratch"
   ]
  },
  {
   "cell_type": "code",
   "execution_count": 1,
   "metadata": {},
   "outputs": [
    {
     "name": "stderr",
     "output_type": "stream",
     "text": [
      "Using TensorFlow backend.\n"
     ]
    }
   ],
   "source": [
    "from keras.preprocessing.image import ImageDataGenerator\n",
    "from keras.models import Sequential\n",
    "from keras.layers import Conv2D, MaxPooling2D\n",
    "from keras.layers import Activation, Dropout, Flatten, Dense\n",
    "from keras.optimizers import Nadam\n",
    "from keras import regularizers\n",
    "from keras.layers.normalization import BatchNormalization\n",
    "from keras.callbacks import ModelCheckpoint\n",
    "from keras import backend as K"
   ]
  },
  {
   "cell_type": "code",
   "execution_count": 2,
   "metadata": {
    "collapsed": true
   },
   "outputs": [],
   "source": [
    "import matplotlib\n",
    "import matplotlib.pyplot as plt\n",
    "%matplotlib inline"
   ]
  },
  {
   "cell_type": "code",
   "execution_count": 3,
   "metadata": {
    "collapsed": true
   },
   "outputs": [],
   "source": [
    "# dimensions of our images.\n",
    "img_width, img_height = 299, 299"
   ]
  },
  {
   "cell_type": "code",
   "execution_count": 4,
   "metadata": {
    "collapsed": true
   },
   "outputs": [],
   "source": [
    "train_data_dir = 'data/train'\n",
    "validation_data_dir = 'data/valid'\n",
    "nb_train_samples = 1037\n",
    "nb_validation_samples = 444\n",
    "nb_classes = 3  # number of classes\n",
    "epochs = 100\n",
    "batch_size = 16"
   ]
  },
  {
   "cell_type": "code",
   "execution_count": 5,
   "metadata": {
    "collapsed": true
   },
   "outputs": [],
   "source": [
    "if K.image_data_format() == 'channels_first':\n",
    "    input_shape = (3, img_width, img_height)\n",
    "else:\n",
    "    input_shape = (img_width, img_height, 3)"
   ]
  },
  {
   "cell_type": "code",
   "execution_count": 6,
   "metadata": {
    "collapsed": true
   },
   "outputs": [],
   "source": [
    "model = Sequential()\n",
    "model.add(Conv2D(32, (3, 3), input_shape=input_shape, kernel_regularizer=regularizers.l2(0.01)))\n",
    "model.add(BatchNormalization())\n",
    "model.add(Activation('relu'))\n",
    "model.add(MaxPooling2D(pool_size=(2, 2)))\n",
    "\n",
    "model.add(Conv2D(32, (3, 3), kernel_regularizer=regularizers.l2(0.01)))\n",
    "model.add(BatchNormalization())\n",
    "model.add(Activation('relu'))\n",
    "model.add(MaxPooling2D(pool_size=(2, 2)))\n",
    "\n",
    "model.add(Conv2D(64, (3, 3), kernel_regularizer=regularizers.l2(0.01)))\n",
    "model.add(BatchNormalization())\n",
    "model.add(Activation('relu'))\n",
    "model.add(MaxPooling2D(pool_size=(2, 2)))\n",
    "\n",
    "model.add(Flatten())\n",
    "model.add(Dense(64, kernel_regularizer=regularizers.l2(0.01)))\n",
    "model.add(Activation('relu'))\n",
    "model.add(Dropout(0.5))\n",
    "model.add(Dense(3, kernel_regularizer=regularizers.l2(0.01)))\n",
    "model.add(Activation('sigmoid'))"
   ]
  },
  {
   "cell_type": "code",
   "execution_count": 7,
   "metadata": {
    "collapsed": true
   },
   "outputs": [],
   "source": [
    "nadam = Nadam(lr=0.002, beta_1=0.9, beta_2=0.999, epsilon=1e-08, schedule_decay=0.004)\n",
    "model.compile(loss='categorical_crossentropy',\n",
    "              optimizer=nadam,\n",
    "metrics=['accuracy'])"
   ]
  },
  {
   "cell_type": "code",
   "execution_count": 8,
   "metadata": {},
   "outputs": [
    {
     "name": "stdout",
     "output_type": "stream",
     "text": [
      "_________________________________________________________________\n",
      "Layer (type)                 Output Shape              Param #   \n",
      "=================================================================\n",
      "conv2d_1 (Conv2D)            (None, 297, 297, 32)      896       \n",
      "_________________________________________________________________\n",
      "batch_normalization_1 (Batch (None, 297, 297, 32)      128       \n",
      "_________________________________________________________________\n",
      "activation_1 (Activation)    (None, 297, 297, 32)      0         \n",
      "_________________________________________________________________\n",
      "max_pooling2d_1 (MaxPooling2 (None, 148, 148, 32)      0         \n",
      "_________________________________________________________________\n",
      "conv2d_2 (Conv2D)            (None, 146, 146, 32)      9248      \n",
      "_________________________________________________________________\n",
      "batch_normalization_2 (Batch (None, 146, 146, 32)      128       \n",
      "_________________________________________________________________\n",
      "activation_2 (Activation)    (None, 146, 146, 32)      0         \n",
      "_________________________________________________________________\n",
      "max_pooling2d_2 (MaxPooling2 (None, 73, 73, 32)        0         \n",
      "_________________________________________________________________\n",
      "conv2d_3 (Conv2D)            (None, 71, 71, 64)        18496     \n",
      "_________________________________________________________________\n",
      "batch_normalization_3 (Batch (None, 71, 71, 64)        256       \n",
      "_________________________________________________________________\n",
      "activation_3 (Activation)    (None, 71, 71, 64)        0         \n",
      "_________________________________________________________________\n",
      "max_pooling2d_3 (MaxPooling2 (None, 35, 35, 64)        0         \n",
      "_________________________________________________________________\n",
      "flatten_1 (Flatten)          (None, 78400)             0         \n",
      "_________________________________________________________________\n",
      "dense_1 (Dense)              (None, 64)                5017664   \n",
      "_________________________________________________________________\n",
      "activation_4 (Activation)    (None, 64)                0         \n",
      "_________________________________________________________________\n",
      "dropout_1 (Dropout)          (None, 64)                0         \n",
      "_________________________________________________________________\n",
      "dense_2 (Dense)              (None, 3)                 195       \n",
      "_________________________________________________________________\n",
      "activation_5 (Activation)    (None, 3)                 0         \n",
      "=================================================================\n",
      "Total params: 5,047,011\n",
      "Trainable params: 5,046,755\n",
      "Non-trainable params: 256\n",
      "_________________________________________________________________\n"
     ]
    }
   ],
   "source": [
    "model.summary()"
   ]
  },
  {
   "cell_type": "code",
   "execution_count": 9,
   "metadata": {
    "collapsed": true
   },
   "outputs": [],
   "source": [
    "# this is the augmentation configuration we will use for training\n",
    "train_datagen = ImageDataGenerator(\n",
    "    rescale=1. / 255,\n",
    "    shear_range=0.2,\n",
    "    zoom_range=0.2,\n",
    "horizontal_flip=True)"
   ]
  },
  {
   "cell_type": "code",
   "execution_count": 10,
   "metadata": {
    "collapsed": true
   },
   "outputs": [],
   "source": [
    "# this is the augmentation configuration we will use for testing:\n",
    "# only rescaling\n",
    "test_datagen = ImageDataGenerator(rescale=1. / 255)"
   ]
  },
  {
   "cell_type": "code",
   "execution_count": 11,
   "metadata": {},
   "outputs": [
    {
     "name": "stdout",
     "output_type": "stream",
     "text": [
      "Found 1037 images belonging to 3 classes.\n"
     ]
    }
   ],
   "source": [
    "train_generator = train_datagen.flow_from_directory(\n",
    "    train_data_dir,\n",
    "    target_size=(img_width, img_height),\n",
    "    batch_size=batch_size,\n",
    "class_mode='categorical')"
   ]
  },
  {
   "cell_type": "code",
   "execution_count": 12,
   "metadata": {},
   "outputs": [
    {
     "name": "stdout",
     "output_type": "stream",
     "text": [
      "Found 444 images belonging to 3 classes.\n"
     ]
    }
   ],
   "source": [
    "validation_generator = test_datagen.flow_from_directory(\n",
    "    validation_data_dir,\n",
    "    target_size=(img_width, img_height),\n",
    "    batch_size=batch_size,\n",
    "class_mode='categorical')"
   ]
  },
  {
   "cell_type": "code",
   "execution_count": 13,
   "metadata": {
    "collapsed": true
   },
   "outputs": [],
   "source": [
    "# See: https://github.com/fchollet/keras/issues/5475\n",
    "from PIL import ImageFile\n",
    "ImageFile.LOAD_TRUNCATED_IMAGES = True"
   ]
  },
  {
   "cell_type": "code",
   "execution_count": 14,
   "metadata": {
    "collapsed": true
   },
   "outputs": [],
   "source": [
    "# checkpoint\n",
    "filepath=\"weights-improvement-{epoch:02d}-{val_acc:.2f}.hdf5\"\n",
    "checkpoint = ModelCheckpoint(filepath, monitor='val_acc', verbose=1, save_best_only=True, mode='max')\n",
    "callbacks_list = [checkpoint]"
   ]
  },
  {
   "cell_type": "code",
   "execution_count": 15,
   "metadata": {},
   "outputs": [
    {
     "name": "stdout",
     "output_type": "stream",
     "text": [
      "\n",
      "Training\n",
      "\n",
      "Epoch 1/100\n",
      "63/64 [============================>.] - ETA: 2s - loss: 3.9371 - acc: 0.2748Epoch 00000: val_acc improved from -inf to 0.16898, saving model to weights-improvement-00-0.17.hdf5\n",
      "64/64 [==============================] - 224s - loss: 3.9160 - acc: 0.2725 - val_loss: 2.6505 - val_acc: 0.1690\n",
      "Epoch 2/100\n",
      "63/64 [============================>.] - ETA: 2s - loss: 2.8601 - acc: 0.1870Epoch 00001: val_acc did not improve\n",
      "64/64 [==============================] - 209s - loss: 2.8507 - acc: 0.1889 - val_loss: 2.2668 - val_acc: 0.1667\n",
      "Epoch 3/100\n",
      "63/64 [============================>.] - ETA: 2s - loss: 2.0563 - acc: 0.1828Epoch 00002: val_acc did not improve\n",
      "64/64 [==============================] - 202s - loss: 2.0545 - acc: 0.1819 - val_loss: 1.7902 - val_acc: 0.1644\n",
      "Epoch 4/100\n",
      "63/64 [============================>.] - ETA: 2s - loss: 1.7937 - acc: 0.1904Epoch 00003: val_acc did not improve\n",
      "64/64 [==============================] - 198s - loss: 1.7984 - acc: 0.1903 - val_loss: 1.7378 - val_acc: 0.1690\n",
      "Epoch 5/100\n",
      "63/64 [============================>.] - ETA: 2s - loss: 1.7081 - acc: 0.2063Epoch 00004: val_acc improved from 0.16898 to 0.41435, saving model to weights-improvement-04-0.41.hdf5\n",
      "64/64 [==============================] - 208s - loss: 1.7058 - acc: 0.2070 - val_loss: 1.6167 - val_acc: 0.4144\n",
      "Epoch 6/100\n",
      "63/64 [============================>.] - ETA: 2s - loss: 2.0827 - acc: 0.2571Epoch 00005: val_acc did not improve\n",
      "64/64 [==============================] - 209s - loss: 2.0785 - acc: 0.2599 - val_loss: 1.8475 - val_acc: 0.1690\n",
      "Epoch 7/100\n",
      "63/64 [============================>.] - ETA: 2s - loss: 1.7840 - acc: 0.2053Epoch 00006: val_acc did not improve\n",
      "64/64 [==============================] - 205s - loss: 1.8013 - acc: 0.2079 - val_loss: 2.1075 - val_acc: 0.1667\n",
      "Epoch 8/100\n",
      "63/64 [============================>.] - ETA: 2s - loss: 2.1208 - acc: 0.2001Epoch 00007: val_acc did not improve\n",
      "64/64 [==============================] - 196s - loss: 2.1114 - acc: 0.1979 - val_loss: 1.4934 - val_acc: 0.1690\n",
      "Epoch 9/100\n",
      "63/64 [============================>.] - ETA: 2s - loss: 1.9205 - acc: 0.2611Epoch 00008: val_acc did not improve\n",
      "64/64 [==============================] - 196s - loss: 1.9167 - acc: 0.2620 - val_loss: 1.6579 - val_acc: 0.1644\n",
      "Epoch 10/100\n",
      "63/64 [============================>.] - ETA: 2s - loss: 1.8024 - acc: 0.2273Epoch 00009: val_acc did not improve\n",
      "64/64 [==============================] - 196s - loss: 1.7966 - acc: 0.2277 - val_loss: 1.4776 - val_acc: 0.1644\n",
      "Epoch 11/100\n",
      "63/64 [============================>.] - ETA: 2s - loss: 1.5086 - acc: 0.2273Epoch 00010: val_acc did not improve\n",
      "64/64 [==============================] - 196s - loss: 1.5082 - acc: 0.2238 - val_loss: 1.5280 - val_acc: 0.2685\n",
      "Epoch 12/100\n",
      "63/64 [============================>.] - ETA: 2s - loss: 1.6127 - acc: 0.2640Epoch 00011: val_acc did not improve\n",
      "64/64 [==============================] - 196s - loss: 1.6131 - acc: 0.2619 - val_loss: 1.6161 - val_acc: 0.1782\n",
      "Epoch 13/100\n",
      "63/64 [============================>.] - ETA: 2s - loss: 1.5472 - acc: 0.2219Epoch 00012: val_acc did not improve\n",
      "64/64 [==============================] - 195s - loss: 1.5496 - acc: 0.2224 - val_loss: 1.8114 - val_acc: 0.1667\n",
      "Epoch 14/100\n",
      "63/64 [============================>.] - ETA: 2s - loss: 1.6479 - acc: 0.2437Epoch 00013: val_acc did not improve\n",
      "64/64 [==============================] - 195s - loss: 1.6454 - acc: 0.2438 - val_loss: 1.4764 - val_acc: 0.1667\n",
      "Epoch 15/100\n",
      "63/64 [============================>.] - ETA: 2s - loss: 1.3571 - acc: 0.2564Epoch 00014: val_acc did not improve\n",
      "64/64 [==============================] - 195s - loss: 1.3586 - acc: 0.2563 - val_loss: 1.4332 - val_acc: 0.1597\n",
      "Epoch 16/100\n",
      "63/64 [============================>.] - ETA: 2s - loss: 1.3900 - acc: 0.2499Epoch 00015: val_acc did not improve\n",
      "64/64 [==============================] - 196s - loss: 1.3887 - acc: 0.2519 - val_loss: 1.3276 - val_acc: 0.4005\n",
      "Epoch 17/100\n",
      "63/64 [============================>.] - ETA: 2s - loss: 1.5596 - acc: 0.2502Epoch 00016: val_acc did not improve\n",
      "64/64 [==============================] - 194s - loss: 1.5568 - acc: 0.2512 - val_loss: 1.3875 - val_acc: 0.2662\n",
      "Epoch 18/100\n",
      "63/64 [============================>.] - ETA: 2s - loss: 1.3464 - acc: 0.3417Epoch 00017: val_acc improved from 0.41435 to 0.49306, saving model to weights-improvement-17-0.49.hdf5\n",
      "64/64 [==============================] - 195s - loss: 1.3474 - acc: 0.3431 - val_loss: 1.4022 - val_acc: 0.4931\n",
      "Epoch 19/100\n",
      "63/64 [============================>.] - ETA: 2s - loss: 1.3743 - acc: 0.3980Epoch 00018: val_acc did not improve\n",
      "64/64 [==============================] - 195s - loss: 1.3738 - acc: 0.3966 - val_loss: 1.3466 - val_acc: 0.1690\n",
      "Epoch 20/100\n",
      "63/64 [============================>.] - ETA: 2s - loss: 1.3063 - acc: 0.4966Epoch 00019: val_acc improved from 0.49306 to 0.54398, saving model to weights-improvement-19-0.54.hdf5\n",
      "64/64 [==============================] - 196s - loss: 1.3039 - acc: 0.4957 - val_loss: 1.1503 - val_acc: 0.5440\n",
      "Epoch 21/100\n",
      "63/64 [============================>.] - ETA: 2s - loss: 1.4756 - acc: 0.4464Epoch 00020: val_acc did not improve\n",
      "64/64 [==============================] - 196s - loss: 1.4803 - acc: 0.4423 - val_loss: 1.7712 - val_acc: 0.1667\n",
      "Epoch 22/100\n",
      "63/64 [============================>.] - ETA: 2s - loss: 1.6670 - acc: 0.3787Epoch 00021: val_acc did not improve\n",
      "64/64 [==============================] - 196s - loss: 1.6683 - acc: 0.3786 - val_loss: 1.7754 - val_acc: 0.1667\n",
      "Epoch 23/100\n",
      "63/64 [============================>.] - ETA: 2s - loss: 1.4091 - acc: 0.3566Epoch 00022: val_acc did not improve\n",
      "64/64 [==============================] - 196s - loss: 1.4102 - acc: 0.3569 - val_loss: 1.5009 - val_acc: 0.5370\n",
      "Epoch 24/100\n",
      "63/64 [============================>.] - ETA: 2s - loss: 1.2185 - acc: 0.4832Epoch 00023: val_acc did not improve\n",
      "64/64 [==============================] - 195s - loss: 1.2184 - acc: 0.4815 - val_loss: 1.1787 - val_acc: 0.5417\n",
      "Epoch 25/100\n",
      "63/64 [============================>.] - ETA: 2s - loss: 1.1058 - acc: 0.4547Epoch 00024: val_acc did not improve\n",
      "64/64 [==============================] - 195s - loss: 1.1074 - acc: 0.4535 - val_loss: 1.1524 - val_acc: 0.3056\n",
      "Epoch 26/100\n",
      "63/64 [============================>.] - ETA: 2s - loss: 1.1242 - acc: 0.3784Epoch 00025: val_acc did not improve\n",
      "64/64 [==============================] - 194s - loss: 1.1230 - acc: 0.3812 - val_loss: 1.0840 - val_acc: 0.5440\n",
      "Epoch 27/100\n",
      "63/64 [============================>.] - ETA: 2s - loss: 1.0848 - acc: 0.4996Epoch 00026: val_acc did not improve\n",
      "64/64 [==============================] - 194s - loss: 1.0842 - acc: 0.5016 - val_loss: 1.0618 - val_acc: 0.5394\n",
      "Epoch 28/100\n",
      "63/64 [============================>.] - ETA: 2s - loss: 1.1025 - acc: 0.4865Epoch 00027: val_acc did not improve\n",
      "64/64 [==============================] - 194s - loss: 1.1038 - acc: 0.4818 - val_loss: 1.1669 - val_acc: 0.1667\n",
      "Epoch 29/100\n",
      "63/64 [============================>.] - ETA: 2s - loss: 1.1716 - acc: 0.3687Epoch 00028: val_acc improved from 0.54398 to 0.54861, saving model to weights-improvement-28-0.55.hdf5\n",
      "64/64 [==============================] - 194s - loss: 1.1748 - acc: 0.3708 - val_loss: 1.3444 - val_acc: 0.5486\n",
      "Epoch 30/100\n",
      "63/64 [============================>.] - ETA: 2s - loss: 1.1493 - acc: 0.4915Epoch 00029: val_acc did not improve\n",
      "64/64 [==============================] - 195s - loss: 1.1506 - acc: 0.4887 - val_loss: 1.1845 - val_acc: 0.3843\n",
      "Epoch 31/100\n",
      "63/64 [============================>.] - ETA: 2s - loss: 1.1538 - acc: 0.4714Epoch 00030: val_acc did not improve\n",
      "64/64 [==============================] - 195s - loss: 1.1569 - acc: 0.4699 - val_loss: 1.3086 - val_acc: 0.1620\n",
      "Epoch 32/100\n",
      "63/64 [============================>.] - ETA: 2s - loss: 1.2304 - acc: 0.4096Epoch 00031: val_acc did not improve\n",
      "64/64 [==============================] - 194s - loss: 1.2308 - acc: 0.4052 - val_loss: 1.1947 - val_acc: 0.2130\n",
      "Epoch 33/100\n",
      "63/64 [============================>.] - ETA: 2s - loss: 1.2740 - acc: 0.3521Epoch 00032: val_acc did not improve\n",
      "64/64 [==============================] - 195s - loss: 1.2759 - acc: 0.3505 - val_loss: 1.4200 - val_acc: 0.4792\n",
      "Epoch 34/100\n",
      "63/64 [============================>.] - ETA: 2s - loss: 1.1837 - acc: 0.3739Epoch 00033: val_acc did not improve\n",
      "64/64 [==============================] - 194s - loss: 1.1835 - acc: 0.3740 - val_loss: 1.1622 - val_acc: 0.3032\n",
      "Epoch 35/100\n",
      "63/64 [============================>.] - ETA: 2s - loss: 1.2806 - acc: 0.3610Epoch 00034: val_acc did not improve\n",
      "64/64 [==============================] - 195s - loss: 1.2776 - acc: 0.3603 - val_loss: 1.1652 - val_acc: 0.3819\n",
      "Epoch 36/100\n",
      "63/64 [============================>.] - ETA: 2s - loss: 1.2060 - acc: 0.3747Epoch 00035: val_acc did not improve\n",
      "64/64 [==============================] - 193s - loss: 1.2063 - acc: 0.3767 - val_loss: 1.2699 - val_acc: 0.2431\n",
      "Epoch 37/100\n",
      "63/64 [============================>.] - ETA: 2s - loss: 1.1670 - acc: 0.3875Epoch 00036: val_acc did not improve\n",
      "64/64 [==============================] - 195s - loss: 1.1662 - acc: 0.3902 - val_loss: 1.1717 - val_acc: 0.5440\n",
      "Epoch 38/100\n",
      "63/64 [============================>.] - ETA: 2s - loss: 1.1524 - acc: 0.4418Epoch 00037: val_acc did not improve\n",
      "64/64 [==============================] - 194s - loss: 1.1518 - acc: 0.4418 - val_loss: 1.0509 - val_acc: 0.5440\n",
      "Epoch 39/100\n",
      "63/64 [============================>.] - ETA: 2s - loss: 1.0771 - acc: 0.5063Epoch 00038: val_acc did not improve\n",
      "64/64 [==============================] - 194s - loss: 1.0782 - acc: 0.5033 - val_loss: 1.0243 - val_acc: 0.5486\n",
      "Epoch 40/100\n",
      "63/64 [============================>.] - ETA: 2s - loss: 1.0930 - acc: 0.4307Epoch 00039: val_acc did not improve\n",
      "64/64 [==============================] - 194s - loss: 1.0930 - acc: 0.4308 - val_loss: 1.1384 - val_acc: 0.5046\n",
      "Epoch 41/100\n",
      "63/64 [============================>.] - ETA: 2s - loss: 1.0998 - acc: 0.4701Epoch 00040: val_acc did not improve\n",
      "64/64 [==============================] - 194s - loss: 1.1009 - acc: 0.4686 - val_loss: 1.0544 - val_acc: 0.5394\n",
      "Epoch 42/100\n",
      "63/64 [============================>.] - ETA: 2s - loss: 1.0863 - acc: 0.4811Epoch 00041: val_acc did not improve\n",
      "64/64 [==============================] - 193s - loss: 1.0846 - acc: 0.4804 - val_loss: 1.0659 - val_acc: 0.5278\n",
      "Epoch 43/100\n",
      "63/64 [============================>.] - ETA: 2s - loss: 1.0862 - acc: 0.4706Epoch 00042: val_acc did not improve\n",
      "64/64 [==============================] - 194s - loss: 1.0886 - acc: 0.4691 - val_loss: 1.2522 - val_acc: 0.2894\n",
      "Epoch 44/100\n",
      "63/64 [============================>.] - ETA: 2s - loss: 1.1741 - acc: 0.3615Epoch 00043: val_acc did not improve\n",
      "64/64 [==============================] - 193s - loss: 1.1744 - acc: 0.3627 - val_loss: 1.1255 - val_acc: 0.5347\n",
      "Epoch 45/100\n",
      "63/64 [============================>.] - ETA: 2s - loss: 1.0651 - acc: 0.5016Epoch 00044: val_acc did not improve\n",
      "64/64 [==============================] - 194s - loss: 1.0657 - acc: 0.4986 - val_loss: 1.1675 - val_acc: 0.2523\n",
      "Epoch 46/100\n",
      "63/64 [============================>.] - ETA: 2s - loss: 1.0976 - acc: 0.4855Epoch 00045: val_acc did not improve\n",
      "64/64 [==============================] - 194s - loss: 1.0987 - acc: 0.4857 - val_loss: 1.1205 - val_acc: 0.4907\n",
      "Epoch 47/100\n",
      "63/64 [============================>.] - ETA: 2s - loss: 1.1973 - acc: 0.3780Epoch 00046: val_acc did not improve\n",
      "64/64 [==============================] - 194s - loss: 1.1974 - acc: 0.3789 - val_loss: 1.2002 - val_acc: 0.5301\n",
      "Epoch 48/100\n",
      "63/64 [============================>.] - ETA: 2s - loss: 1.0890 - acc: 0.5207Epoch 00047: val_acc did not improve\n",
      "64/64 [==============================] - 194s - loss: 1.0895 - acc: 0.5194 - val_loss: 1.0146 - val_acc: 0.5347\n",
      "Epoch 49/100\n",
      "63/64 [============================>.] - ETA: 2s - loss: 1.0245 - acc: 0.5453Epoch 00048: val_acc did not improve\n",
      "64/64 [==============================] - 193s - loss: 1.0246 - acc: 0.5445 - val_loss: 1.0355 - val_acc: 0.5394\n",
      "Epoch 50/100\n",
      "63/64 [============================>.] - ETA: 2s - loss: 1.0545 - acc: 0.5105Epoch 00049: val_acc did not improve\n",
      "64/64 [==============================] - 194s - loss: 1.0543 - acc: 0.5113 - val_loss: 1.0728 - val_acc: 0.5394\n",
      "Epoch 51/100\n",
      "63/64 [============================>.] - ETA: 2s - loss: 1.0818 - acc: 0.4841Epoch 00050: val_acc did not improve\n",
      "64/64 [==============================] - 193s - loss: 1.0825 - acc: 0.4853 - val_loss: 1.0795 - val_acc: 0.5440\n",
      "Epoch 52/100\n",
      "63/64 [============================>.] - ETA: 2s - loss: 1.0270 - acc: 0.5435Epoch 00051: val_acc did not improve\n",
      "64/64 [==============================] - 197s - loss: 1.0267 - acc: 0.5428 - val_loss: 1.0103 - val_acc: 0.5463\n",
      "Epoch 53/100\n",
      "63/64 [============================>.] - ETA: 2s - loss: 1.0536 - acc: 0.5056Epoch 00052: val_acc did not improve\n",
      "64/64 [==============================] - 192s - loss: 1.0532 - acc: 0.5065 - val_loss: 1.0372 - val_acc: 0.5394\n",
      "Epoch 54/100\n",
      "63/64 [============================>.] - ETA: 2s - loss: 1.0325 - acc: 0.5205Epoch 00053: val_acc did not improve\n",
      "64/64 [==============================] - 194s - loss: 1.0323 - acc: 0.5211 - val_loss: 1.0147 - val_acc: 0.5463\n",
      "Epoch 55/100\n",
      "63/64 [============================>.] - ETA: 2s - loss: 1.0350 - acc: 0.5113Epoch 00054: val_acc did not improve\n",
      "64/64 [==============================] - 195s - loss: 1.0335 - acc: 0.5131 - val_loss: 1.1447 - val_acc: 0.2245\n",
      "Epoch 56/100\n",
      "63/64 [============================>.] - ETA: 2s - loss: 1.0482 - acc: 0.5037Epoch 00055: val_acc did not improve\n",
      "64/64 [==============================] - 196s - loss: 1.0501 - acc: 0.5007 - val_loss: 1.2113 - val_acc: 0.1690\n",
      "Epoch 57/100\n",
      "63/64 [============================>.] - ETA: 2s - loss: 1.1035 - acc: 0.4877Epoch 00056: val_acc did not improve\n",
      "64/64 [==============================] - 195s - loss: 1.1017 - acc: 0.4879 - val_loss: 1.0866 - val_acc: 0.5023\n",
      "Epoch 58/100\n",
      "63/64 [============================>.] - ETA: 2s - loss: 1.0592 - acc: 0.5009Epoch 00057: val_acc did not improve\n",
      "64/64 [==============================] - 195s - loss: 1.0588 - acc: 0.5019 - val_loss: 1.0554 - val_acc: 0.5324\n",
      "Epoch 59/100\n",
      "63/64 [============================>.] - ETA: 2s - loss: 1.0872 - acc: 0.5056Epoch 00058: val_acc did not improve\n",
      "64/64 [==============================] - 193s - loss: 1.0871 - acc: 0.5045 - val_loss: 1.0258 - val_acc: 0.5394\n",
      "Epoch 60/100\n",
      "63/64 [============================>.] - ETA: 2s - loss: 1.0192 - acc: 0.5210Epoch 00059: val_acc did not improve\n",
      "64/64 [==============================] - 194s - loss: 1.0206 - acc: 0.5187 - val_loss: 1.0071 - val_acc: 0.5463\n",
      "Epoch 61/100\n",
      "63/64 [============================>.] - ETA: 2s - loss: 1.0141 - acc: 0.5301Epoch 00060: val_acc did not improve\n",
      "64/64 [==============================] - 194s - loss: 1.0145 - acc: 0.5296 - val_loss: 1.0079 - val_acc: 0.5370\n",
      "Epoch 62/100\n",
      "63/64 [============================>.] - ETA: 2s - loss: 1.0117 - acc: 0.5256Epoch 00061: val_acc did not improve\n",
      "64/64 [==============================] - 195s - loss: 1.0115 - acc: 0.5272 - val_loss: 1.0003 - val_acc: 0.5347\n",
      "Epoch 63/100\n",
      "63/64 [============================>.] - ETA: 2s - loss: 1.0067 - acc: 0.5229Epoch 00062: val_acc did not improve\n",
      "64/64 [==============================] - 194s - loss: 1.0059 - acc: 0.5235 - val_loss: 0.9982 - val_acc: 0.5370\n",
      "Epoch 64/100\n",
      "63/64 [============================>.] - ETA: 2s - loss: 1.0066 - acc: 0.5202Epoch 00063: val_acc did not improve\n",
      "64/64 [==============================] - 194s - loss: 1.0069 - acc: 0.5199 - val_loss: 0.9978 - val_acc: 0.5347\n",
      "Epoch 65/100\n",
      "63/64 [============================>.] - ETA: 2s - loss: 1.0060 - acc: 0.5228Epoch 00064: val_acc did not improve\n",
      "64/64 [==============================] - 193s - loss: 1.0064 - acc: 0.5219 - val_loss: 0.9965 - val_acc: 0.5394\n",
      "Epoch 66/100\n",
      "63/64 [============================>.] - ETA: 2s - loss: 1.0058 - acc: 0.5218Epoch 00065: val_acc did not improve\n",
      "64/64 [==============================] - 194s - loss: 1.0061 - acc: 0.5215 - val_loss: 0.9989 - val_acc: 0.5347\n",
      "Epoch 67/100\n",
      "63/64 [============================>.] - ETA: 2s - loss: 1.0044 - acc: 0.5224Epoch 00066: val_acc did not improve\n"
     ]
    },
    {
     "name": "stdout",
     "output_type": "stream",
     "text": [
      "64/64 [==============================] - 195s - loss: 1.0044 - acc: 0.5240 - val_loss: 0.9948 - val_acc: 0.5394\n",
      "Epoch 68/100\n",
      "63/64 [============================>.] - ETA: 2s - loss: 1.0078 - acc: 0.5179Epoch 00067: val_acc did not improve\n",
      "64/64 [==============================] - 194s - loss: 1.0087 - acc: 0.5176 - val_loss: 0.9947 - val_acc: 0.5394\n",
      "Epoch 69/100\n",
      "63/64 [============================>.] - ETA: 2s - loss: 1.0043 - acc: 0.5239Epoch 00068: val_acc did not improve\n",
      "64/64 [==============================] - 194s - loss: 1.0036 - acc: 0.5255 - val_loss: 0.9932 - val_acc: 0.5394\n",
      "Epoch 70/100\n",
      "63/64 [============================>.] - ETA: 2s - loss: 1.0052 - acc: 0.5250Epoch 00069: val_acc did not improve\n",
      "64/64 [==============================] - 194s - loss: 1.0055 - acc: 0.5236 - val_loss: 0.9982 - val_acc: 0.5347\n",
      "Epoch 71/100\n",
      "63/64 [============================>.] - ETA: 2s - loss: 1.0026 - acc: 0.5256Epoch 00070: val_acc did not improve\n",
      "64/64 [==============================] - 194s - loss: 1.0036 - acc: 0.5252 - val_loss: 0.9995 - val_acc: 0.5347\n",
      "Epoch 72/100\n",
      "63/64 [============================>.] - ETA: 2s - loss: 1.0127 - acc: 0.5108Epoch 00071: val_acc did not improve\n",
      "64/64 [==============================] - 194s - loss: 1.0128 - acc: 0.5097 - val_loss: 1.0006 - val_acc: 0.5324\n",
      "Epoch 73/100\n",
      "63/64 [============================>.] - ETA: 2s - loss: 1.0027 - acc: 0.5274Epoch 00072: val_acc did not improve\n",
      "64/64 [==============================] - 194s - loss: 1.0014 - acc: 0.5270 - val_loss: 0.9991 - val_acc: 0.5324\n",
      "Epoch 74/100\n",
      "63/64 [============================>.] - ETA: 2s - loss: 1.0114 - acc: 0.5127Epoch 00073: val_acc did not improve\n",
      "64/64 [==============================] - 194s - loss: 1.0094 - acc: 0.5145 - val_loss: 0.9954 - val_acc: 0.5394\n",
      "Epoch 75/100\n",
      "63/64 [============================>.] - ETA: 2s - loss: 0.9945 - acc: 0.5333Epoch 00074: val_acc did not improve\n",
      "64/64 [==============================] - 194s - loss: 0.9941 - acc: 0.5357 - val_loss: 0.9989 - val_acc: 0.5324\n",
      "Epoch 76/100\n",
      "63/64 [============================>.] - ETA: 2s - loss: 1.0165 - acc: 0.5103Epoch 00075: val_acc did not improve\n",
      "64/64 [==============================] - 195s - loss: 1.0145 - acc: 0.5131 - val_loss: 0.9888 - val_acc: 0.5463\n",
      "Epoch 77/100\n",
      "63/64 [============================>.] - ETA: 2s - loss: 1.0066 - acc: 0.5201Epoch 00076: val_acc did not improve\n",
      "64/64 [==============================] - 195s - loss: 1.0042 - acc: 0.5228 - val_loss: 0.9935 - val_acc: 0.5370\n",
      "Epoch 78/100\n",
      "63/64 [============================>.] - ETA: 2s - loss: 1.0071 - acc: 0.5256Epoch 00077: val_acc did not improve\n",
      "64/64 [==============================] - 194s - loss: 1.0047 - acc: 0.5272 - val_loss: 0.9961 - val_acc: 0.5370\n",
      "Epoch 79/100\n",
      "63/64 [============================>.] - ETA: 2s - loss: 1.0034 - acc: 0.5125Epoch 00078: val_acc did not improve\n",
      "64/64 [==============================] - 194s - loss: 1.0021 - acc: 0.5143 - val_loss: 0.9974 - val_acc: 0.5347\n",
      "Epoch 80/100\n",
      "63/64 [============================>.] - ETA: 2s - loss: 1.0172 - acc: 0.5105Epoch 00079: val_acc did not improve\n",
      "64/64 [==============================] - 194s - loss: 1.0184 - acc: 0.5094 - val_loss: 0.9897 - val_acc: 0.5440\n",
      "Epoch 81/100\n",
      "63/64 [============================>.] - ETA: 2s - loss: 0.9853 - acc: 0.5425Epoch 00080: val_acc did not improve\n",
      "64/64 [==============================] - 193s - loss: 0.9860 - acc: 0.5418 - val_loss: 0.9921 - val_acc: 0.5417\n",
      "Epoch 82/100\n",
      "63/64 [============================>.] - ETA: 2s - loss: 1.0168 - acc: 0.5113Epoch 00081: val_acc did not improve\n",
      "64/64 [==============================] - 194s - loss: 1.0158 - acc: 0.5121 - val_loss: 0.9972 - val_acc: 0.5370\n",
      "Epoch 83/100\n",
      "63/64 [============================>.] - ETA: 2s - loss: 0.9968 - acc: 0.5358Epoch 00082: val_acc did not improve\n",
      "64/64 [==============================] - 194s - loss: 0.9984 - acc: 0.5352 - val_loss: 0.9919 - val_acc: 0.5417\n",
      "Epoch 84/100\n",
      "63/64 [============================>.] - ETA: 2s - loss: 1.0093 - acc: 0.5124Epoch 00083: val_acc did not improve\n",
      "64/64 [==============================] - 194s - loss: 1.0086 - acc: 0.5141 - val_loss: 0.9919 - val_acc: 0.5417\n",
      "Epoch 85/100\n",
      "63/64 [============================>.] - ETA: 2s - loss: 0.9992 - acc: 0.5224Epoch 00084: val_acc did not improve\n",
      "64/64 [==============================] - 194s - loss: 1.0007 - acc: 0.5201 - val_loss: 0.9903 - val_acc: 0.5394\n",
      "Epoch 86/100\n",
      "63/64 [============================>.] - ETA: 2s - loss: 1.0100 - acc: 0.5199Epoch 00085: val_acc did not improve\n",
      "64/64 [==============================] - 195s - loss: 1.0103 - acc: 0.5196 - val_loss: 0.9866 - val_acc: 0.5463\n",
      "Epoch 87/100\n",
      "63/64 [============================>.] - ETA: 2s - loss: 1.0035 - acc: 0.5214Epoch 00086: val_acc did not improve\n",
      "64/64 [==============================] - 194s - loss: 1.0028 - acc: 0.5221 - val_loss: 0.9942 - val_acc: 0.5370\n",
      "Epoch 88/100\n",
      "63/64 [============================>.] - ETA: 2s - loss: 0.9975 - acc: 0.5324Epoch 00087: val_acc did not improve\n",
      "64/64 [==============================] - 194s - loss: 0.9958 - acc: 0.5338 - val_loss: 0.9967 - val_acc: 0.5370\n",
      "Epoch 89/100\n",
      "63/64 [============================>.] - ETA: 2s - loss: 1.0030 - acc: 0.5217Epoch 00088: val_acc did not improve\n",
      "64/64 [==============================] - 195s - loss: 1.0023 - acc: 0.5223 - val_loss: 0.9903 - val_acc: 0.5440\n",
      "Epoch 90/100\n",
      "63/64 [============================>.] - ETA: 2s - loss: 1.0034 - acc: 0.5244Epoch 00089: val_acc did not improve\n",
      "64/64 [==============================] - 194s - loss: 1.0043 - acc: 0.5240 - val_loss: 0.9965 - val_acc: 0.5347\n",
      "Epoch 91/100\n",
      "63/64 [============================>.] - ETA: 2s - loss: 1.0101 - acc: 0.5140Epoch 00090: val_acc did not improve\n",
      "64/64 [==============================] - 195s - loss: 1.0108 - acc: 0.5119 - val_loss: 0.9875 - val_acc: 0.5440\n",
      "Epoch 92/100\n",
      "63/64 [============================>.] - ETA: 2s - loss: 1.0056 - acc: 0.5106Epoch 00091: val_acc did not improve\n",
      "64/64 [==============================] - 193s - loss: 1.0096 - acc: 0.5056 - val_loss: 0.9969 - val_acc: 0.5370\n",
      "Epoch 93/100\n",
      "63/64 [============================>.] - ETA: 2s - loss: 0.9996 - acc: 0.5304Epoch 00092: val_acc did not improve\n",
      "64/64 [==============================] - 198s - loss: 1.0006 - acc: 0.5299 - val_loss: 0.9903 - val_acc: 0.5440\n",
      "Epoch 94/100\n",
      "63/64 [============================>.] - ETA: 2s - loss: 0.9952 - acc: 0.5316Epoch 00093: val_acc did not improve\n",
      "64/64 [==============================] - 196s - loss: 0.9990 - acc: 0.5282 - val_loss: 0.9990 - val_acc: 0.5324\n",
      "Epoch 95/100\n",
      "63/64 [============================>.] - ETA: 2s - loss: 0.9996 - acc: 0.5282Epoch 00094: val_acc did not improve\n",
      "64/64 [==============================] - 194s - loss: 1.0016 - acc: 0.5258 - val_loss: 0.9875 - val_acc: 0.5463\n",
      "Epoch 96/100\n",
      "63/64 [============================>.] - ETA: 2s - loss: 1.0079 - acc: 0.5199Epoch 00095: val_acc did not improve\n",
      "64/64 [==============================] - 194s - loss: 1.0093 - acc: 0.5196 - val_loss: 0.9925 - val_acc: 0.5394\n",
      "Epoch 97/100\n",
      "63/64 [============================>.] - ETA: 2s - loss: 1.0047 - acc: 0.5158Epoch 00096: val_acc did not improve\n",
      "64/64 [==============================] - 194s - loss: 1.0060 - acc: 0.5136 - val_loss: 0.9875 - val_acc: 0.5463\n",
      "Epoch 98/100\n",
      "63/64 [============================>.] - ETA: 2s - loss: 1.0015 - acc: 0.5232Epoch 00097: val_acc did not improve\n",
      "64/64 [==============================] - 193s - loss: 1.0042 - acc: 0.5219 - val_loss: 0.9925 - val_acc: 0.5394\n",
      "Epoch 99/100\n",
      "63/64 [============================>.] - ETA: 2s - loss: 0.9960 - acc: 0.5306Epoch 00098: val_acc did not improve\n",
      "64/64 [==============================] - 195s - loss: 0.9938 - acc: 0.5330 - val_loss: 0.9900 - val_acc: 0.5440\n",
      "Epoch 100/100\n",
      "63/64 [============================>.] - ETA: 2s - loss: 1.0012 - acc: 0.5197Epoch 00099: val_acc did not improve\n",
      "64/64 [==============================] - 193s - loss: 1.0010 - acc: 0.5194 - val_loss: 0.9912 - val_acc: 0.5417\n",
      "Finished training\n"
     ]
    }
   ],
   "source": [
    "print(\"\\nTraining\\n\")\n",
    "hist = model.fit_generator(\n",
    "    train_generator,\n",
    "    steps_per_epoch=nb_train_samples // batch_size,\n",
    "    epochs=epochs,\n",
    "    validation_data=validation_generator,\n",
    "validation_steps=nb_validation_samples // batch_size,\n",
    "callbacks=callbacks_list)\n",
    "print('Finished training')"
   ]
  },
  {
   "cell_type": "code",
   "execution_count": 16,
   "metadata": {
    "collapsed": true
   },
   "outputs": [],
   "source": [
    "model.save_weights('third_try.h5')"
   ]
  },
  {
   "cell_type": "code",
   "execution_count": 17,
   "metadata": {
    "collapsed": true
   },
   "outputs": [],
   "source": [
    "# serialize model to JSON\n",
    "model_json = model.to_json()\n",
    "with open(\"model.json\", \"w\") as json_file:\n",
    "    json_file.write(model_json)"
   ]
  },
  {
   "cell_type": "code",
   "execution_count": 19,
   "metadata": {},
   "outputs": [
    {
     "name": "stdout",
     "output_type": "stream",
     "text": [
      "dict_keys(['val_acc', 'acc', 'loss', 'val_loss'])\n"
     ]
    },
    {
     "data": {
      "image/png": "[encoded data removed]",
      "text/plain": [
       "<matplotlib.figure.Figure at 0x27493674f28>"
      ]
     },
     "metadata": {},
     "output_type": "display_data"
    }
   ],
   "source": [
    "# list all data in history\n",
    "print(hist.history.keys())\n",
    "# summarize history for accuracy\n",
    "plt.plot(hist.history['acc'])\n",
    "plt.plot(hist.history['val_acc'])\n",
    "plt.title('model accuracy')\n",
    "plt.ylabel('accuracy')\n",
    "plt.xlabel('epoch')\n",
    "plt.legend(['train', 'test'], loc='upper left')\n",
    "plt.show()"
   ]
  },
  {
   "cell_type": "code",
   "execution_count": 20,
   "metadata": {},
   "outputs": [
    {
     "data": {
      "image/png": "[encoded data removed]",
      "text/plain": [
       "<matplotlib.figure.Figure at 0x27493674e10>"
      ]
     },
     "metadata": {},
     "output_type": "display_data"
    }
   ],
   "source": [
    "# summarize history for loss\n",
    "plt.plot(hist.history['loss'])\n",
    "plt.plot(hist.history['val_loss'])\n",
    "plt.title('model loss')\n",
    "plt.ylabel('loss')\n",
    "plt.xlabel('epoch')\n",
    "plt.legend(['train', 'test'], loc='upper left')\n",
    "plt.show()"
   ]
  },
  {
   "cell_type": "code",
   "execution_count": null,
   "metadata": {
    "collapsed": true
   },
   "outputs": [],
   "source": []
  }
 ],
 "metadata": {
  "kernelspec": {
   "display_name": "Python 3",
   "language": "python",
   "name": "python3"
  },
  "language_info": {
   "codemirror_mode": {
    "name": "ipython",
    "version": 3
   },
   "file_extension": ".py",
   "mimetype": "text/x-python",
   "name": "python",
   "nbconvert_exporter": "python",
   "pygments_lexer": "ipython3",
   "version": "3.5.3"
  }
 },
 "nbformat": 4,
 "nbformat_minor": 2
}
