{
 "cells": [
  {
   "cell_type": "code",
   "execution_count": 1,
   "metadata": {},
   "outputs": [
    {
     "name": "stderr",
     "output_type": "stream",
     "text": [
      "Using TensorFlow backend.\n"
     ]
    }
   ],
   "source": [
    "from keras.wrappers.scikit_learn import KerasClassifier\n",
    "from keras.models import Sequential\n",
    "from keras.layers.core import Dense, Dropout, Flatten, Activation\n",
    "from keras.layers.convolutional import Convolution2D, ZeroPadding2D, MaxPooling2D, Conv2D, MaxPooling2D\n",
    "from keras.layers.normalization import BatchNormalization\n",
    "from keras.optimizers import SGD, RMSprop, Adam, Nadam\n",
    "from keras import regularizers\n",
    "from keras.preprocessing.image import ImageDataGenerator\n",
    "from keras.callbacks import ModelCheckpoint\n",
    "from keras.models import model_from_json\n",
    "from keras.callbacks import TensorBoard\n",
    "from sklearn.model_selection import train_test_split\n",
    "from keras import backend as K\n",
    "import keras.initializers\n",
    "import pandas as pd\n",
    "import numpy as np\n",
    "np.random.seed(17)"
   ]
  },
  {
   "cell_type": "code",
   "execution_count": 2,
   "metadata": {
    "collapsed": true
   },
   "outputs": [],
   "source": [
    "img_width, img_height = 299, 299\n",
    "train_data_dir = 'data/train'\n",
    "batch_size = 16\n",
    "nb_classes = 3\n",
    "steps = 6363 // batch_size"
   ]
  },
  {
   "cell_type": "code",
   "execution_count": 3,
   "metadata": {},
   "outputs": [
    {
     "name": "stdout",
     "output_type": "stream",
     "text": [
      "Found 6363 images belonging to 3 classes.\n"
     ]
    }
   ],
   "source": [
    "train_datagen =  ImageDataGenerator(\n",
    "        rotation_range=10,\n",
    "        width_shift_range=0.2,\n",
    "        height_shift_range=0.2,\n",
    "        rescale=1./255,\n",
    "        zoom_range=0.2,\n",
    "        fill_mode='nearest')\n",
    "itr = train_generator = train_datagen.flow_from_directory(\n",
    "    train_data_dir,\n",
    "    target_size=(img_height, img_width),\n",
    "    batch_size=6363,\n",
    "    class_mode='categorical')"
   ]
  },
  {
   "cell_type": "code",
   "execution_count": 4,
   "metadata": {
    "collapsed": true
   },
   "outputs": [],
   "source": [
    "if K.image_data_format() == 'channels_first':\n",
    "    input_shape = (3, img_width, img_height)\n",
    "else:\n",
    "    input_shape = (img_width, img_height, 3)"
   ]
  },
  {
   "cell_type": "code",
   "execution_count": 5,
   "metadata": {
    "collapsed": true
   },
   "outputs": [],
   "source": [
    "model = Sequential()\n",
    "model.add(Conv2D(32, (3, 3), input_shape=input_shape, kernel_initializer='glorot_uniform'))\n",
    "model.add(BatchNormalization())\n",
    "model.add(Activation('relu'))\n",
    "model.add(MaxPooling2D(pool_size=(2, 2)))\n",
    "\n",
    "model.add(Conv2D(32, (3, 3), kernel_initializer='glorot_uniform'))\n",
    "model.add(BatchNormalization())\n",
    "model.add(Activation('relu'))\n",
    "model.add(Dropout(0.5))\n",
    "model.add(MaxPooling2D(pool_size=(2, 2)))\n",
    "\n",
    "model.add(Conv2D(64, (3, 3), kernel_regularizer=regularizers.l2(0.01)))\n",
    "model.add(BatchNormalization())\n",
    "model.add(Activation('relu'))\n",
    "model.add(Dropout(0.5))\n",
    "model.add(MaxPooling2D(pool_size=(2, 2)))\n",
    "\n",
    "model.add(Flatten())\n",
    "model.add(Dense(64, ))\n",
    "model.add(Activation('relu'))\n",
    "model.add(Dropout(0.5))\n",
    "model.add(Dense(3, activation='softmax', kernel_initializer='glorot_uniform'))"
   ]
  },
  {
   "cell_type": "code",
   "execution_count": 6,
   "metadata": {
    "collapsed": true
   },
   "outputs": [],
   "source": [
    "from PIL import ImageFile\n",
    "ImageFile.LOAD_TRUNCATED_IMAGES=True"
   ]
  },
  {
   "cell_type": "code",
   "execution_count": 7,
   "metadata": {
    "collapsed": true
   },
   "outputs": [],
   "source": [
    "X, y = itr.next()"
   ]
  },
  {
   "cell_type": "code",
   "execution_count": 8,
   "metadata": {
    "collapsed": true
   },
   "outputs": [],
   "source": [
    "#opt =  Nadam(lr=0.00001, beta_1=0.9, beta_2=0.999, epsilon=1e-08, schedule_decay=0.004)\n",
    "#RMSprop(lr=1e-5, rho=0.9, decay=0.0001)\n",
    "opt = SGD(lr=1e-2, momentum=0.0, decay=0.001, nesterov=False)\n",
    "model.compile(optimizer=opt, loss='categorical_crossentropy', metrics=['accuracy']) "
   ]
  },
  {
   "cell_type": "code",
   "execution_count": 9,
   "metadata": {
    "collapsed": true
   },
   "outputs": [],
   "source": [
    "# zero center data\n",
    "zero_centered_X = X\n",
    "zero_centered_X -= np.mean(zero_centered_X, axis = 0)"
   ]
  },
  {
   "cell_type": "code",
   "execution_count": null,
   "metadata": {
    "collapsed": true
   },
   "outputs": [],
   "source": [
    "filepath=\"scratch-top-weights-improvement-{epoch:02d}-{val_loss:}-{val_acc:}-{acc:}.hdf5\"\n",
    "checkpoint = ModelCheckpoint(filepath, monitor='val_loss', verbose=1, save_best_only=True, mode='min')\n",
    "callbacks_list = [checkpoint]\n",
    "tbCallBack = TensorBoard(log_dir='./graph_incep_top', histogram_freq=0, write_graph=True, write_images=True)\n",
    "callbacks_list.append(tbCallBack)"
   ]
  },
  {
   "cell_type": "code",
   "execution_count": null,
   "metadata": {},
   "outputs": [
    {
     "name": "stdout",
     "output_type": "stream",
     "text": [
      "Train on 4963 samples, validate on 1400 samples\n",
      "Epoch 1/200\n",
      "4960/4963 [============================>.] - ETA: 0s - loss: 9.5843 - acc: 0.4052Epoch 00000: val_loss improved from inf to 9.88283, saving model to scratch-top-weights-improvement-00-9.882831824166434-0.4107142857142857-0.40519846867414916.hdf5\n",
      "4963/4963 [==============================] - 87s - loss: 9.5852 - acc: 0.4052 - val_loss: 9.8828 - val_acc: 0.4107\n",
      "Epoch 2/200\n",
      "4960/4963 [============================>.] - ETA: 0s - loss: 9.4260 - acc: 0.4044-Epoch 00001: val_loss improved from 9.88283 to 9.85149, saving model to scratch-top-weights-improvement-01-9.8514931842259-0.4107142857142857-0.40439250453955317.hdf5\n",
      "4963/4963 [==============================] - 68s - loss: 9.4271 - acc: 0.4044 - val_loss: 9.8515 - val_acc: 0.4107\n",
      "Epoch 3/200\n",
      "4960/4963 [============================>.] - ETA: 0s - loss: 9.4095 - acc: 0.4048Epoch 00002: val_loss improved from 9.85149 to 9.82756, saving model to scratch-top-weights-improvement-02-9.82755774634225-0.4107142857142857-0.40479548660685116.hdf5\n",
      "4963/4963 [==============================] - 67s - loss: 9.4105 - acc: 0.4048 - val_loss: 9.8276 - val_acc: 0.4107\n",
      "Epoch 4/200\n",
      "4960/4963 [============================>.] - ETA: 0s - loss: 9.3354 - acc: 0.4040Epoch 00003: val_loss improved from 9.82756 to 9.80848, saving model to scratch-top-weights-improvement-03-9.808482420785086-0.4107142857142857-0.40419101351190906.hdf5\n",
      "4963/4963 [==============================] - 64s - loss: 9.3332 - acc: 0.4042 - val_loss: 9.8085 - val_acc: 0.4107\n",
      "Epoch 5/200\n",
      "4960/4963 [============================>.] - ETA: 0s - loss: 9.3221 - acc: 0.4048Epoch 00004: val_loss improved from 9.80848 to 9.79279, saving model to scratch-top-weights-improvement-04-9.792786848885672-0.4107142857142857-0.4045939955671973.hdf5\n",
      "4963/4963 [==============================] - 64s - loss: 9.3234 - acc: 0.4046 - val_loss: 9.7928 - val_acc: 0.4107\n",
      "Epoch 6/200\n",
      "4960/4963 [============================>.] - ETA: 0s - loss: 9.3348 - acc: 0.4042Epoch 00005: val_loss improved from 9.79279 to 9.77956, saving model to scratch-top-weights-improvement-05-9.77955911908831-0.4107142857142857-0.40419101350590414.hdf5\n",
      "4963/4963 [==============================] - 64s - loss: 9.3358 - acc: 0.4042 - val_loss: 9.7796 - val_acc: 0.4107\n",
      "Epoch 7/200\n",
      "4960/4963 [============================>.] - ETA: 0s - loss: 9.2833 - acc: 0.4071Epoch 00006: val_loss improved from 9.77956 to 9.76820, saving model to scratch-top-weights-improvement-06-9.768201056889126-0.4107142857142857-0.40701188797699017.hdf5\n",
      "4963/4963 [==============================] - 64s - loss: 9.2844 - acc: 0.4070 - val_loss: 9.7682 - val_acc: 0.4107\n",
      "Epoch 8/200\n",
      "4960/4963 [============================>.] - ETA: 0s - loss: 9.3243 - acc: 0.4071Epoch 00007: val_loss improved from 9.76820 to 9.75830, saving model to scratch-top-weights-improvement-07-9.758301029205322-0.4107142857142857-0.4068103969373363.hdf5\n",
      "4963/4963 [==============================] - 64s - loss: 9.3285 - acc: 0.4068 - val_loss: 9.7583 - val_acc: 0.4107\n",
      "Epoch 9/200\n",
      "4960/4963 [============================>.] - ETA: 0s - loss: 9.2867 - acc: 0.4065Epoch 00008: val_loss improved from 9.75830 to 9.74957, saving model to scratch-top-weights-improvement-08-9.749565375191825-0.4107142857142857-0.4064074148760432.hdf5\n",
      "4963/4963 [==============================] - 64s - loss: 9.2848 - acc: 0.4064 - val_loss: 9.7496 - val_acc: 0.4107\n",
      "Epoch 10/200\n",
      "4960/4963 [============================>.] - ETA: 0s - loss: 9.2441 - acc: 0.4093Epoch 00009: val_loss improved from 9.74957 to 9.74178, saving model to scratch-top-weights-improvement-09-9.741776717049735-0.4107142857142857-0.4094297803867831.hdf5\n",
      "4963/4963 [==============================] - 72s - loss: 9.2419 - acc: 0.4094 - val_loss: 9.7418 - val_acc: 0.4107\n",
      "Epoch 11/200\n",
      "4960/4963 [============================>.] - ETA: 0s - loss: 9.3438 - acc: 0.4058Epoch 00010: val_loss improved from 9.74178 to 9.73477, saving model to scratch-top-weights-improvement-10-9.734772050040108-0.4107142857142857-0.4056014507354423.hdf5\n",
      "4963/4963 [==============================] - 73s - loss: 9.3480 - acc: 0.4056 - val_loss: 9.7348 - val_acc: 0.4107\n",
      "Epoch 12/200\n",
      "4960/4963 [============================>.] - ETA: 0s - loss: 9.3053 - acc: 0.4026Epoch 00011: val_loss improved from 9.73477 to 9.72843, saving model to scratch-top-weights-improvement-11-9.728426230294364-0.4107142857142857-0.40257908523671215.hdf5\n",
      "4963/4963 [==============================] - 74s - loss: 9.3063 - acc: 0.4026 - val_loss: 9.7284 - val_acc: 0.4107\n",
      "Epoch 13/200\n",
      "4960/4963 [============================>.] - ETA: 0s - loss: 9.2808 - acc: 0.4065Epoch 00012: val_loss improved from 9.72843 to 9.72264, saving model to scratch-top-weights-improvement-12-9.72263837814331-0.4107142857142857-0.4064074148760432.hdf5\n",
      "4963/4963 [==============================] - 74s - loss: 9.2819 - acc: 0.4064 - val_loss: 9.7226 - val_acc: 0.4107\n",
      "Epoch 14/200\n",
      "4960/4963 [============================>.] - ETA: 0s - loss: 9.2568 - acc: 0.4069Epoch 00013: val_loss improved from 9.72264 to 9.71733, saving model to scratch-top-weights-improvement-13-9.71732927594866-0.4107142857142857-0.4070118879829951.hdf5\n",
      "4963/4963 [==============================] - 73s - loss: 9.2546 - acc: 0.4070 - val_loss: 9.7173 - val_acc: 0.4107\n",
      "Epoch 15/200\n",
      "4960/4963 [============================>.] - ETA: 0s - loss: 9.2643 - acc: 0.4073Epoch 00014: val_loss improved from 9.71733 to 9.71244, saving model to scratch-top-weights-improvement-14-9.712435308183943-0.4107142857142857-0.4074148700502931.hdf5\n",
      "4963/4963 [==============================] - 70s - loss: 9.2590 - acc: 0.4074 - val_loss: 9.7124 - val_acc: 0.4107\n",
      "Epoch 16/200\n",
      "4960/4963 [============================>.] - ETA: 0s - loss: 9.2101 - acc: 0.4056Epoch 00015: val_loss improved from 9.71244 to 9.70790, saving model to scratch-top-weights-improvement-15-9.707904109954834-0.4107142857142857-0.40539995970179327.hdf5\n",
      "4963/4963 [==============================] - 68s - loss: 9.2144 - acc: 0.4054 - val_loss: 9.7079 - val_acc: 0.4107\n",
      "Epoch 17/200\n",
      "4960/4963 [============================>.] - ETA: 0s - loss: 9.2742 - acc: 0.4044Epoch 00016: val_loss improved from 9.70790 to 9.70369, saving model to scratch-top-weights-improvement-16-9.70369082042149-0.4107142857142857-0.40459399557920706.hdf5\n",
      "4963/4963 [==============================] - 65s - loss: 9.2720 - acc: 0.4046 - val_loss: 9.7037 - val_acc: 0.4107\n",
      "Epoch 18/200\n",
      "4960/4963 [============================>.] - ETA: 0s - loss: 9.2721 - acc: 0.4079Epoch 00017: val_loss improved from 9.70369 to 9.69976, saving model to scratch-top-weights-improvement-17-9.699759804861886-0.4107142857142857-0.4078178521115862.hdf5\n",
      "4963/4963 [==============================] - 64s - loss: 9.2731 - acc: 0.4078 - val_loss: 9.6998 - val_acc: 0.4107\n",
      "Epoch 19/200\n",
      "4960/4963 [============================>.] - ETA: 0s - loss: 9.2259 - acc: 0.4056Epoch 00018: val_loss improved from 9.69976 to 9.69608, saving model to scratch-top-weights-improvement-18-9.696080458504813-0.4107142857142857-0.40560145074144716.hdf5\n",
      "4963/4963 [==============================] - 67s - loss: 9.2240 - acc: 0.4056 - val_loss: 9.6961 - val_acc: 0.4107\n",
      "Epoch 20/200\n",
      "4960/4963 [============================>.] - ETA: 0s - loss: 9.2858 - acc: 0.4030Epoch 00019: val_loss improved from 9.69608 to 9.69263, saving model to scratch-top-weights-improvement-19-9.692625337328229-0.4107142857142857-0.40278057626435626.hdf5\n",
      "4963/4963 [==============================] - 65s - loss: 9.2901 - acc: 0.4028 - val_loss: 9.6926 - val_acc: 0.4107\n",
      "Epoch 21/200\n",
      "4960/4963 [============================>.] - ETA: 0s - loss: 9.1431 - acc: 0.4071Epoch 00020: val_loss improved from 9.69263 to 9.68937, saving model to scratch-top-weights-improvement-20-9.689373198917934-0.4107142857142857-0.4068103969373363.hdf5\n",
      "4963/4963 [==============================] - 65s - loss: 9.1475 - acc: 0.4068 - val_loss: 9.6894 - val_acc: 0.4107\n",
      "Epoch 22/200\n",
      "4960/4963 [============================>.] - ETA: 0s - loss: 9.2901 - acc: 0.4075Epoch 00021: val_loss improved from 9.68937 to 9.68630, saving model to scratch-top-weights-improvement-21-9.686303386688232-0.4107142857142857-0.4072133790046343.hdf5\n"
     ]
    },
    {
     "name": "stdout",
     "output_type": "stream",
     "text": [
      "4963/4963 [==============================] - 64s - loss: 9.2943 - acc: 0.4072 - val_loss: 9.6863 - val_acc: 0.4107\n",
      "Epoch 23/200\n",
      "4960/4963 [============================>.] - ETA: 0s - loss: 9.2193 - acc: 0.4056Epoch 00022: val_loss improved from 9.68630 to 9.68340, saving model to scratch-top-weights-improvement-22-9.68339945111956-0.4107142857142857-0.40539995970179327.hdf5\n",
      "4963/4963 [==============================] - 63s - loss: 9.2206 - acc: 0.4054 - val_loss: 9.6834 - val_acc: 0.4107\n",
      "Epoch 24/200\n",
      "4960/4963 [============================>.] - ETA: 0s - loss: 9.2092 - acc: 0.4056Epoch 00023: val_loss improved from 9.68340 to 9.68065, saving model to scratch-top-weights-improvement-23-9.680646264212472-0.4107142857142857-0.40560145074144716.hdf5\n",
      "4963/4963 [==============================] - 67s - loss: 9.2102 - acc: 0.4056 - val_loss: 9.6806 - val_acc: 0.4107\n",
      "Epoch 25/200\n",
      "4960/4963 [============================>.] - ETA: 0s - loss: 9.1985 - acc: 0.4052Epoch 00024: val_loss improved from 9.68065 to 9.67803, saving model to scratch-top-weights-improvement-24-9.678032103947231-0.4107142857142857-0.40519846867414916.hdf5\n",
      "4963/4963 [==============================] - 65s - loss: 9.1995 - acc: 0.4052 - val_loss: 9.6780 - val_acc: 0.4107\n",
      "Epoch 26/200\n",
      "4960/4963 [============================>.] - ETA: 0s - loss: 9.2257 - acc: 0.4089Epoch 00025: val_loss improved from 9.67803 to 9.67554, saving model to scratch-top-weights-improvement-25-9.675543967655727-0.4107142857142857-0.40882530727983124.hdf5\n",
      "4963/4963 [==============================] - 66s - loss: 9.2267 - acc: 0.4088 - val_loss: 9.6755 - val_acc: 0.4107\n",
      "Epoch 27/200\n",
      "4960/4963 [============================>.] - ETA: 0s - loss: 9.1362 - acc: 0.4087- ETA: 1s - loss: 9.1265 - acEpoch 00026: val_loss improved from 9.67554 to 9.67317, saving model to scratch-top-weights-improvement-26-9.673172245025635-0.4107142857142857-0.4086238162461822.hdf5\n",
      "4963/4963 [==============================] - 66s - loss: 9.1372 - acc: 0.4086 - val_loss: 9.6732 - val_acc: 0.4107\n",
      "Epoch 28/200\n",
      "4960/4963 [============================>.] - ETA: 0s - loss: 9.2443 - acc: 0.4046Epoch 00027: val_loss improved from 9.67317 to 9.67091, saving model to scratch-top-weights-improvement-27-9.670908154078893-0.4107142857142857-0.40459399557320214.hdf5\n",
      "4963/4963 [==============================] - 65s - loss: 9.2454 - acc: 0.4046 - val_loss: 9.6709 - val_acc: 0.4107\n",
      "Epoch 29/200\n",
      "4960/4963 [============================>.] - ETA: 0s - loss: 9.2050 - acc: 0.4085Epoch 00028: val_loss improved from 9.67091 to 9.66874, saving model to scratch-top-weights-improvement-28-9.668743128095354-0.4107142857142857-0.4082208341728793.hdf5\n",
      "4963/4963 [==============================] - 66s - loss: 9.2093 - acc: 0.4082 - val_loss: 9.6687 - val_acc: 0.4107\n",
      "Epoch 30/200\n",
      "4960/4963 [============================>.] - ETA: 0s - loss: 9.2415 - acc: 0.4034Epoch 00029: val_loss improved from 9.66874 to 9.66667, saving model to scratch-top-weights-improvement-29-9.66667009626116-0.4107142857142857-0.40358654041096204.hdf5\n",
      "4963/4963 [==============================] - 79s - loss: 9.2393 - acc: 0.4036 - val_loss: 9.6667 - val_acc: 0.4107\n",
      "Epoch 31/200\n",
      "4960/4963 [============================>.] - ETA: 0s - loss: 9.1597 - acc: 0.4042Epoch 00030: val_loss improved from 9.66667 to 9.66468, saving model to scratch-top-weights-improvement-30-9.66468263898577-0.4107142857142857-0.40419101350590414.hdf5\n",
      "4963/4963 [==============================] - 66s - loss: 9.1607 - acc: 0.4042 - val_loss: 9.6647 - val_acc: 0.4107\n",
      "Epoch 32/200\n",
      "4960/4963 [============================>.] - ETA: 0s - loss: 9.2749 - acc: 0.4054Epoch 00031: val_loss improved from 9.66468 to 9.66278, saving model to scratch-top-weights-improvement-31-9.662775249481202-0.4107142857142857-0.4053999597077982.hdf5\n",
      "4963/4963 [==============================] - 67s - loss: 9.2759 - acc: 0.4054 - val_loss: 9.6628 - val_acc: 0.4107\n",
      "Epoch 33/200\n",
      "4960/4963 [============================>.] - ETA: 0s - loss: 9.2239 - acc: 0.4062Epoch 00032: val_loss improved from 9.66278 to 9.66094, saving model to scratch-top-weights-improvement-32-9.660941445486886-0.4107142857142857-0.40640741488204807.hdf5\n",
      "4963/4963 [==============================] - 66s - loss: 9.2217 - acc: 0.4064 - val_loss: 9.6609 - val_acc: 0.4107\n",
      "Epoch 34/200\n",
      "4960/4963 [============================>.] - ETA: 0s - loss: 9.2153 - acc: 0.4077Epoch 00033: val_loss improved from 9.66094 to 9.65918, saving model to scratch-top-weights-improvement-33-9.659178030831473-0.4107142857142857-0.4076163610779372.hdf5\n",
      "4963/4963 [==============================] - 67s - loss: 9.2163 - acc: 0.4076 - val_loss: 9.6592 - val_acc: 0.4107\n",
      "Epoch 35/200\n",
      "4960/4963 [============================>.] - ETA: 0s - loss: 9.2360 - acc: 0.4052Epoch 00034: val_loss improved from 9.65918 to 9.65748, saving model to scratch-top-weights-improvement-34-9.657479536873954-0.4107142857142857-0.40499697763449527.hdf5\n",
      "4963/4963 [==============================] - 66s - loss: 9.2403 - acc: 0.4050 - val_loss: 9.6575 - val_acc: 0.4107\n",
      "Epoch 36/200\n",
      "2832/4963 [================>.............] - ETA: 25s - loss: 9.1730 - acc: 0.4107"
     ]
    }
   ],
   "source": [
    "history = model.fit(zero_centered_X, y, batch_size=16, epochs=200, validation_split=0.22, callbacks=callbacks_list, shuffle=True, initial_epoch=0)"
   ]
  },
  {
   "cell_type": "code",
   "execution_count": null,
   "metadata": {
    "collapsed": true
   },
   "outputs": [],
   "source": [
    "# serialize model to JSON\n",
    "model_json = model.to_json()\n",
    "with open(\"from_scratch_top_only_2.json\", \"w\") as json_file:\n",
    "    json_file.write(model_json)\n",
    "# serialize weights to HDF5\n",
    "model.save_weights(\"from_scratch_top_only_2.h5\")\n",
    "print(\"Saved model to disk\")"
   ]
  },
  {
   "cell_type": "code",
   "execution_count": null,
   "metadata": {
    "collapsed": true
   },
   "outputs": [],
   "source": []
  }
 ],
 "metadata": {
  "kernelspec": {
   "display_name": "Python 3",
   "language": "python",
   "name": "python3"
  },
  "language_info": {
   "codemirror_mode": {
    "name": "ipython",
    "version": 3
   },
   "file_extension": ".py",
   "mimetype": "text/x-python",
   "name": "python",
   "nbconvert_exporter": "python",
   "pygments_lexer": "ipython3",
   "version": "3.5.3"
  }
 },
 "nbformat": 4,
 "nbformat_minor": 2
}
