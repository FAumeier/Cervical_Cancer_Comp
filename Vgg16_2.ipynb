{
 "cells": [
  {
   "cell_type": "code",
   "execution_count": 1,
   "metadata": {},
   "outputs": [
    {
     "name": "stderr",
     "output_type": "stream",
     "text": [
      "Using TensorFlow backend.\n"
     ]
    }
   ],
   "source": [
    "from keras import applications\n",
    "from keras.preprocessing.image import ImageDataGenerator\n",
    "from keras import optimizers\n",
    "from keras import regularizers\n",
    "from keras.models import Sequential\n",
    "from keras.layers import Dropout, Flatten, Dense\n",
    "from keras.layers import Dense, GlobalAveragePooling2D\n",
    "from keras.models import Model\n",
    "from keras.optimizers import SGD, RMSprop, Adam, Nadam\n",
    "from keras.applications.vgg16 import preprocess_input\n",
    "from keras.callbacks import ModelCheckpoint\n",
    "from keras.models import model_from_json\n",
    "from keras.callbacks import TensorBoard\n",
    "from keras import backend as K\n",
    "\n",
    "import numpy as np"
   ]
  },
  {
   "cell_type": "markdown",
   "metadata": {},
   "source": [
    "# TODO\n",
    "- more aggresive data augmentation\n",
    "- more aggressive dropout\n",
    "- use of L1 and L2 regularization (also known as \"weight decay\")\n",
    "- fine-tuning one more convolutional block (alongside greater regularization)\n"
   ]
  },
  {
   "cell_type": "code",
   "execution_count": 2,
   "metadata": {
    "collapsed": true
   },
   "outputs": [],
   "source": [
    "# dimensions of our images.\n",
    "img_width, img_height = 224, 224\n",
    "\n",
    "train_data_dir = 'data/train'\n",
    "validation_data_dir = 'data/valid'\n",
    "test_data_dir = 'data/test'\n",
    "nb_train_samples = 6363\n",
    "nb_epochs = 15\n",
    "batch_size = 16\n",
    "nb_classes = 3"
   ]
  },
  {
   "cell_type": "code",
   "execution_count": 3,
   "metadata": {
    "collapsed": true
   },
   "outputs": [],
   "source": [
    "from PIL import ImageFile\n",
    "ImageFile.LOAD_TRUNCATED_IMAGES = True"
   ]
  },
  {
   "cell_type": "code",
   "execution_count": 4,
   "metadata": {},
   "outputs": [
    {
     "name": "stdout",
     "output_type": "stream",
     "text": [
      "Found 6363 images belonging to 3 classes.\n"
     ]
    }
   ],
   "source": [
    "train_datagen = ImageDataGenerator(rescale=1. / 255)\n",
    "itr = train_generator = train_datagen.flow_from_directory(\n",
    "    train_data_dir,\n",
    "    target_size=(img_height, img_width),\n",
    "    batch_size=1000,\n",
    "    class_mode='categorical')"
   ]
  },
  {
   "cell_type": "code",
   "execution_count": 5,
   "metadata": {},
   "outputs": [],
   "source": [
    "X, y = itr.next()"
   ]
  },
  {
   "cell_type": "code",
   "execution_count": 6,
   "metadata": {},
   "outputs": [
    {
     "name": "stdout",
     "output_type": "stream",
     "text": [
      "(1000, 224, 224, 3)\n",
      "(1000, 3)\n"
     ]
    }
   ],
   "source": [
    "print(X.shape)\n",
    "print(y.shape)"
   ]
  },
  {
   "cell_type": "code",
   "execution_count": null,
   "metadata": {
    "collapsed": true
   },
   "outputs": [],
   "source": [
    "pre_processed_X_incep = preprocess_input(X)"
   ]
  },
  {
   "cell_type": "code",
   "execution_count": 40,
   "metadata": {},
   "outputs": [
    {
     "name": "stdout",
     "output_type": "stream",
     "text": [
      "Model loaded.\n"
     ]
    }
   ],
   "source": [
    "base_model = applications.VGG16(weights='imagenet', include_top=False, input_shape=(img_width, img_height, 3))\n",
    "print('Model loaded.')"
   ]
  },
  {
   "cell_type": "code",
   "execution_count": 41,
   "metadata": {
    "collapsed": true
   },
   "outputs": [],
   "source": [
    "x = base_model.output\n",
    "x = Flatten()(x)\n",
    "predictions = Dense(nb_classes, activation='softmax', kernel_initializer='glorot_uniform')(x)"
   ]
  },
  {
   "cell_type": "code",
   "execution_count": 42,
   "metadata": {
    "collapsed": true
   },
   "outputs": [],
   "source": [
    "# this is the model we will train\n",
    "# add your top layer block to your base model\n",
    "model = Model(base_model.input, predictions)"
   ]
  },
  {
   "cell_type": "code",
   "execution_count": 11,
   "metadata": {
    "collapsed": true
   },
   "outputs": [],
   "source": [
    "def printAllLayers():\n",
    "    for i, layer in enumerate(model.layers):\n",
    "       print(i, layer.name)"
   ]
  },
  {
   "cell_type": "code",
   "execution_count": 43,
   "metadata": {},
   "outputs": [
    {
     "name": "stdout",
     "output_type": "stream",
     "text": [
      "0 input_2\n",
      "1 block1_conv1\n",
      "2 block1_conv2\n",
      "3 block1_pool\n",
      "4 block2_conv1\n",
      "5 block2_conv2\n",
      "6 block2_pool\n",
      "7 block3_conv1\n",
      "8 block3_conv2\n",
      "9 block3_conv3\n",
      "10 block3_pool\n",
      "11 block4_conv1\n",
      "12 block4_conv2\n",
      "13 block4_conv3\n",
      "14 block4_pool\n",
      "15 block5_conv1\n",
      "16 block5_conv2\n",
      "17 block5_conv3\n",
      "18 block5_pool\n",
      "19 flatten_2\n",
      "20 dense_3\n"
     ]
    }
   ],
   "source": [
    "# let's visualize layer names and layer indices to see how many layers\n",
    "# we should freeze:\n",
    "printAllLayers()"
   ]
  },
  {
   "cell_type": "code",
   "execution_count": 44,
   "metadata": {
    "collapsed": true
   },
   "outputs": [],
   "source": [
    "# set the first 25 layers (up to the last conv block)\n",
    "# to non-trainable (weights will not be updated)\n",
    "for layer in model.layers[:19]:\n",
    "    layer.trainable = False"
   ]
  },
  {
   "cell_type": "code",
   "execution_count": 45,
   "metadata": {
    "collapsed": true
   },
   "outputs": [],
   "source": [
    "def printTrainableLayers():\n",
    "    for i, layer in enumerate(model.layers):\n",
    "       if layer.trainable == True: \n",
    "           print(i, layer.name)"
   ]
  },
  {
   "cell_type": "code",
   "execution_count": 46,
   "metadata": {},
   "outputs": [
    {
     "name": "stdout",
     "output_type": "stream",
     "text": [
      "19 flatten_2\n",
      "20 dense_3\n"
     ]
    }
   ],
   "source": [
    "# let's visualize layer names and layer indices to see how many layers\n",
    "# we should freeze:\n",
    "printTrainableLayers()"
   ]
  },
  {
   "cell_type": "code",
   "execution_count": 47,
   "metadata": {
    "collapsed": true
   },
   "outputs": [],
   "source": [
    "# checkpoint\n",
    "filepath=\"vgg16-top-weights-improvement-{epoch:02d}-{val_loss:.2f}.hdf5\"\n",
    "checkpoint = ModelCheckpoint(filepath, monitor='val_loss', verbose=1, save_best_only=True, mode='min')\n",
    "callbacks_list = [checkpoint]"
   ]
  },
  {
   "cell_type": "code",
   "execution_count": 48,
   "metadata": {
    "collapsed": true
   },
   "outputs": [],
   "source": [
    "#histogram_freq=0, write_graph=True, write_grads=False, write_images=False, embeddings_freq=0, embeddings_layer_names=None, embeddings_metadata=None)\n",
    "tbCallBack = TensorBoard(log_dir='./Graph', histogram_freq=0, write_graph=True, write_images=True)\n",
    "callbacks_list.append(tbCallBack)"
   ]
  },
  {
   "cell_type": "code",
   "execution_count": 49,
   "metadata": {
    "collapsed": true
   },
   "outputs": [],
   "source": [
    "#opt = RMSprop(lr=0.1)\n",
    "opt = Adam(lr=0.001, beta_1=0.9, beta_2=0.999, epsilon=1e-08 )# decay=0.0\n",
    "#SGD(lr=1e-4, momentum=0.9)\n",
    "#opt=SGD(lr=0.01, momentum=0.9, nesterov=True, decay=0.5)\n",
    "model.compile(optimizer=opt, loss='categorical_crossentropy', metrics=['accuracy'])"
   ]
  },
  {
   "cell_type": "markdown",
   "metadata": {},
   "source": [
    "# Goal: < 0.96188 val_loss"
   ]
  },
  {
   "cell_type": "code",
   "execution_count": 50,
   "metadata": {
    "scrolled": true
   },
   "outputs": [
    {
     "name": "stdout",
     "output_type": "stream",
     "text": [
      "Train on 4454 samples, validate on 1909 samples\n",
      "Epoch 1/8\n",
      "4448/4454 [============================>.] - ETA: 0s - loss: 1.2951 - acc: 0.3806Epoch 00000: val_loss improved from inf to 1.12918, saving model to vgg16-top-weights-improvement-00-1.13.hdf5\n",
      "4454/4454 [==============================] - 87s - loss: 1.2953 - acc: 0.3803 - val_loss: 1.1292 - val_acc: 0.3887\n",
      "Epoch 2/8\n",
      "4448/4454 [============================>.] - ETA: 0s - loss: 1.1801 - acc: 0.3993Epoch 00001: val_loss improved from 1.12918 to 1.08734, saving model to vgg16-top-weights-improvement-01-1.09.hdf5\n",
      "4454/4454 [==============================] - 87s - loss: 1.1800 - acc: 0.3992 - val_loss: 1.0873 - val_acc: 0.4144\n",
      "Epoch 3/8\n",
      "4448/4454 [============================>.] - ETA: 0s - loss: 1.1681 - acc: 0.4018Epoch 00002: val_loss improved from 1.08734 to 1.04952, saving model to vgg16-top-weights-improvement-02-1.05.hdf5\n",
      "4454/4454 [==============================] - 86s - loss: 1.1684 - acc: 0.4012 - val_loss: 1.0495 - val_acc: 0.4274\n",
      "Epoch 4/8\n",
      "4448/4454 [============================>.] - ETA: 0s - loss: 1.2060 - acc: 0.3937Epoch 00003: val_loss did not improve\n",
      "4454/4454 [==============================] - 86s - loss: 1.2063 - acc: 0.3934 - val_loss: 1.1131 - val_acc: 0.3394\n",
      "Epoch 5/8\n",
      "4448/4454 [============================>.] - ETA: 0s - loss: 1.1868 - acc: 0.3995Epoch 00004: val_loss did not improve\n",
      "4454/4454 [==============================] - 86s - loss: 1.1867 - acc: 0.3994 - val_loss: 1.0690 - val_acc: 0.3897\n",
      "Epoch 6/8\n",
      "4448/4454 [============================>.] - ETA: 0s - loss: 1.2081 - acc: 0.4038Epoch 00005: val_loss did not improve\n",
      "4454/4454 [==============================] - 86s - loss: 1.2088 - acc: 0.4035 - val_loss: 1.3394 - val_acc: 0.4274\n",
      "Epoch 7/8\n",
      "4448/4454 [============================>.] - ETA: 0s - loss: 1.2074 - acc: 0.4080Epoch 00006: val_loss did not improve\n",
      "4454/4454 [==============================] - 82s - loss: 1.2068 - acc: 0.4084 - val_loss: 1.0796 - val_acc: 0.3897\n",
      "Epoch 8/8\n",
      "4448/4454 [============================>.] - ETA: 0s - loss: 1.1704 - acc: 0.4146- ETA: 8s - loss: 1.1664 -  - ETA: 6s - loss: 1.1740 - acc: 0 - ETA: 5s - lEpoch 00007: val_loss did not improve\n",
      "4454/4454 [==============================] - 80s - loss: 1.1704 - acc: 0.4145 - val_loss: 1.4471 - val_acc: 0.3887\n"
     ]
    }
   ],
   "source": [
    "history = model.fit(pre_processed_X, y, batch_size=16, epochs=8, callbacks=callbacks_list, validation_split=0.3, shuffle=True, initial_epoch=0)"
   ]
  },
  {
   "cell_type": "code",
   "execution_count": 51,
   "metadata": {},
   "outputs": [
    {
     "name": "stdout",
     "output_type": "stream",
     "text": [
      "Saved model to disk\n"
     ]
    }
   ],
   "source": [
    "# serialize model to JSON\n",
    "model_json = model.to_json()\n",
    "with open(\"vgg16_top_only.json\", \"w\") as json_file:\n",
    "    json_file.write(model_json)\n",
    "# serialize weights to HDF5\n",
    "model.save_weights(\"vgg16_top_only.h5\")\n",
    "print(\"Saved model to disk\")"
   ]
  },
  {
   "cell_type": "code",
   "execution_count": 61,
   "metadata": {
    "collapsed": true
   },
   "outputs": [],
   "source": [
    "# load json and create model\n",
    "json_file = open(\"vgg16_top_only.json\", 'r')\n",
    "loaded_model_json = json_file.read()\n",
    "json_file.close()\n",
    "model = model_from_json(loaded_model_json)"
   ]
  },
  {
   "cell_type": "code",
   "execution_count": 62,
   "metadata": {
    "collapsed": true
   },
   "outputs": [],
   "source": [
    "opt = Adam(lr=0.0001, beta_1=0.9, beta_2=0.999, epsilon=1e-08 )# decay=0.0\n",
    "#SGD(lr=1e-4, momentum=0.9)\n",
    "#opt=SGD(lr=0.01, momentum=0.9, nesterov=True, decay=0.5)\n",
    "model.compile(optimizer=opt, loss='categorical_crossentropy', metrics=['accuracy'])"
   ]
  },
  {
   "cell_type": "code",
   "execution_count": 63,
   "metadata": {
    "collapsed": true
   },
   "outputs": [],
   "source": [
    "model.load_weights(\"vgg16-top-weights-improvement-02-1.05.hdf5\")"
   ]
  },
  {
   "cell_type": "code",
   "execution_count": 64,
   "metadata": {
    "scrolled": true
   },
   "outputs": [
    {
     "name": "stdout",
     "output_type": "stream",
     "text": [
      "Train on 4454 samples, validate on 1909 samples\n",
      "Epoch 11/16\n",
      "4448/4454 [============================>.] - ETA: 0s - loss: 1.0537 - acc: 0.4449Epoch 00010: val_loss improved from 1.04952 to 1.03562, saving model to vgg16-top-weights-improvement-10-1.04.hdf5\n",
      "4454/4454 [==============================] - 210s - loss: 1.0539 - acc: 0.4448 - val_loss: 1.0356 - val_acc: 0.4741\n",
      "Epoch 12/16\n",
      "4448/4454 [============================>.] - ETA: 0s - loss: 1.0604 - acc: 0.4375Epoch 00011: val_loss did not improve\n",
      "4454/4454 [==============================] - 169s - loss: 1.0603 - acc: 0.4374 - val_loss: 1.0759 - val_acc: 0.4804\n",
      "Epoch 13/16\n",
      "4448/4454 [============================>.] - ETA: 0s - loss: 1.0486 - acc: 0.4422- ETA: 5s - Epoch 00012: val_loss did not improve\n",
      "4454/4454 [==============================] - 77s - loss: 1.0484 - acc: 0.4421 - val_loss: 1.0539 - val_acc: 0.4034\n",
      "Epoch 14/16\n",
      "4448/4454 [============================>.] - ETA: 0s - loss: 1.0427 - acc: 0.4505Epoch 00013: val_loss did not improve\n",
      "4454/4454 [==============================] - 77s - loss: 1.0422 - acc: 0.4511 - val_loss: 1.1380 - val_acc: 0.4034\n",
      "Epoch 15/16\n",
      "4448/4454 [============================>.] - ETA: 0s - loss: 1.0512 - acc: 0.4465Epoch 00014: val_loss did not improve\n",
      "4454/4454 [==============================] - 77s - loss: 1.0511 - acc: 0.4466 - val_loss: 1.0617 - val_acc: 0.4248\n",
      "Epoch 16/16\n",
      "4448/4454 [============================>.] - ETA: 0s - loss: 1.0526 - acc: 0.4442Epoch 00015: val_loss did not improve\n",
      "4454/4454 [==============================] - 77s - loss: 1.0526 - acc: 0.4443 - val_loss: 1.0359 - val_acc: 0.4694\n"
     ]
    }
   ],
   "source": [
    "history2 = model.fit(pre_processed_X, y, batch_size=16, epochs=16, callbacks=callbacks_list, validation_split=0.3, shuffle=True, initial_epoch=10)"
   ]
  },
  {
   "cell_type": "code",
   "execution_count": 65,
   "metadata": {},
   "outputs": [
    {
     "name": "stdout",
     "output_type": "stream",
     "text": [
      "Saved model to disk\n"
     ]
    }
   ],
   "source": [
    "# serialize model to JSON\n",
    "model_json = model.to_json()\n",
    "with open(\"vgg16_top_only_2.json\", \"w\") as json_file:\n",
    "    json_file.write(model_json)\n",
    "# serialize weights to HDF5\n",
    "model.save_weights(\"vgg16_top_only_2.h5\")\n",
    "print(\"Saved model to disk\")"
   ]
  },
  {
   "cell_type": "code",
   "execution_count": 78,
   "metadata": {
    "collapsed": true
   },
   "outputs": [],
   "source": [
    "# load json and create model\n",
    "json_file = open(\"vgg16_top_only_2.json\", 'r')\n",
    "loaded_model_json = json_file.read()\n",
    "json_file.close()\n",
    "model = model_from_json(loaded_model_json)"
   ]
  },
  {
   "cell_type": "code",
   "execution_count": 79,
   "metadata": {
    "collapsed": true
   },
   "outputs": [],
   "source": [
    "opt = Adam(lr=0.00001, beta_1=0.9, beta_2=0.999, epsilon=1e-08 )# decay=0.0\n",
    "#SGD(lr=1e-4, momentum=0.9)\n",
    "#opt=SGD(lr=0.01, momentum=0.9, nesterov=True, decay=0.5)\n",
    "model.compile(optimizer=opt, loss='categorical_crossentropy', metrics=['accuracy'])"
   ]
  },
  {
   "cell_type": "code",
   "execution_count": 80,
   "metadata": {
    "collapsed": true
   },
   "outputs": [],
   "source": [
    "model.load_weights(\"vgg16-top-weights-improvement-10-1.04.hdf5\")"
   ]
  },
  {
   "cell_type": "code",
   "execution_count": 81,
   "metadata": {},
   "outputs": [
    {
     "name": "stdout",
     "output_type": "stream",
     "text": [
      "Train on 4454 samples, validate on 1909 samples\n",
      "Epoch 17/22\n",
      "4448/4454 [============================>.] - ETA: 0s - loss: 1.0343 - acc: 0.4728  ETA: 10s - loss: 1.0362 - acc: Epoch 00016: val_loss improved from 1.03562 to 1.03531, saving model to vgg16-top-weights-improvement-16-1.04.hdf5\n",
      "4454/4454 [==============================] - 89s - loss: 1.0343 - acc: 0.4728 - val_loss: 1.0353 - val_acc: 0.4772\n",
      "Epoch 18/22\n",
      "4448/4454 [============================>.] - ETA: 0s - loss: 1.0358 - acc: 0.4692- ETA: 5s - loss: 1.0352  - ETA: 2s - loss: 1.0373 -Epoch 00017: val_loss did not improve\n",
      "4454/4454 [==============================] - 79s - loss: 1.0360 - acc: 0.4690 - val_loss: 1.0358 - val_acc: 0.4709\n",
      "Epoch 19/22\n",
      "4448/4454 [============================>.] - ETA: 0s - loss: 1.0340 - acc: 0.4699Epoch 00018: val_loss did not improve\n",
      "4454/4454 [==============================] - 78s - loss: 1.0342 - acc: 0.4697 - val_loss: 1.0421 - val_acc: 0.4269\n",
      "Epoch 20/22\n",
      "4448/4454 [============================>.] - ETA: 0s - loss: 1.0357 - acc: 0.4719  ETA: 2Epoch 00019: val_loss did not improve\n",
      "4454/4454 [==============================] - 79s - loss: 1.0358 - acc: 0.4719 - val_loss: 1.0378 - val_acc: 0.4662\n",
      "Epoch 21/22\n",
      "4448/4454 [============================>.] - ETA: 0s - loss: 1.0350 - acc: 0.4645Epoch 00020: val_loss did not improve\n",
      "4454/4454 [==============================] - 78s - loss: 1.0348 - acc: 0.4648 - val_loss: 1.0437 - val_acc: 0.4515\n",
      "Epoch 22/22\n",
      "4448/4454 [============================>.] - ETA: 0s - loss: 1.0350 - acc: 0.4690  ETA: 13s - loss: 1.0320 - ETA: 5s - loss:  - ETA: 1s - loss: 1.0342 - acc:Epoch 00021: val_loss did not improve\n",
      "4454/4454 [==============================] - 79s - loss: 1.0348 - acc: 0.4690 - val_loss: 1.0379 - val_acc: 0.4646\n"
     ]
    }
   ],
   "source": [
    "history3 = model.fit(pre_processed_X, y, batch_size=16, epochs=22, callbacks=callbacks_list, validation_split=0.3, shuffle=True, initial_epoch=16)"
   ]
  },
  {
   "cell_type": "code",
   "execution_count": 82,
   "metadata": {},
   "outputs": [
    {
     "name": "stdout",
     "output_type": "stream",
     "text": [
      "Saved model to disk\n"
     ]
    }
   ],
   "source": [
    "# serialize model to JSON\n",
    "model_json = model.to_json()\n",
    "with open(\"vgg16_top_only_3.json\", \"w\") as json_file:\n",
    "    json_file.write(model_json)\n",
    "# serialize weights to HDF5\n",
    "model.save_weights(\"vgg16_top_only_3.h5\")\n",
    "print(\"Saved model to disk\")"
   ]
  },
  {
   "cell_type": "code",
   "execution_count": 138,
   "metadata": {
    "collapsed": true
   },
   "outputs": [],
   "source": [
    "# load json and create model\n",
    "json_file = open(\"vgg16_top_only_3.json\", 'r')\n",
    "loaded_model_json = json_file.read()\n",
    "json_file.close()\n",
    "model = model_from_json(loaded_model_json)"
   ]
  },
  {
   "cell_type": "code",
   "execution_count": 139,
   "metadata": {
    "collapsed": true
   },
   "outputs": [],
   "source": [
    "opt = Adam(lr=1e-6, beta_1=0.9, beta_2=0.999, epsilon=1e-08 )# decay=0.0\n",
    "#SGD(lr=1e-4, momentum=0.9)\n",
    "#opt=SGD(lr=0.01, momentum=0.9, nesterov=True, decay=0.5)\n",
    "model.compile(optimizer=opt, loss='categorical_crossentropy', metrics=['accuracy'])"
   ]
  },
  {
   "cell_type": "code",
   "execution_count": 140,
   "metadata": {
    "collapsed": true
   },
   "outputs": [],
   "source": [
    "model.load_weights(\"vgg16_top_only_3.h5\")"
   ]
  },
  {
   "cell_type": "code",
   "execution_count": 141,
   "metadata": {},
   "outputs": [
    {
     "name": "stdout",
     "output_type": "stream",
     "text": [
      "Train on 4454 samples, validate on 1909 samples\n",
      "Epoch 23/30\n",
      "4448/4454 [============================>.] - ETA: 0s - loss: 1.0322 - acc: 0.4741Epoch 00022: val_loss did not improve\n",
      "4454/4454 [==============================] - 86s - loss: 1.0323 - acc: 0.4742 - val_loss: 1.0357 - val_acc: 0.4683\n",
      "Epoch 24/30\n",
      "4448/4454 [============================>.] - ETA: 0s - loss: 1.0320 - acc: 0.4735Epoch 00023: val_loss improved from 1.03531 to 1.03518, saving model to vgg16-top-weights-improvement-23-1.04.hdf5\n",
      "4454/4454 [==============================] - 91s - loss: 1.0320 - acc: 0.4733 - val_loss: 1.0352 - val_acc: 0.4725\n",
      "Epoch 25/30\n",
      "4448/4454 [============================>.] - ETA: 0s - loss: 1.0322 - acc: 0.4762- EEpoch 00024: val_loss did not improve\n",
      "4454/4454 [==============================] - 82s - loss: 1.0321 - acc: 0.4762 - val_loss: 1.0353 - val_acc: 0.4709\n",
      "Epoch 26/30\n",
      "4448/4454 [============================>.] - ETA: 0s - loss: 1.0323 - acc: 0.4741Epoch 00025: val_loss did not improve\n",
      "4454/4454 [==============================] - 85s - loss: 1.0321 - acc: 0.4744 - val_loss: 1.0359 - val_acc: 0.4662\n",
      "Epoch 27/30\n",
      "4448/4454 [============================>.] - ETA: 0s - loss: 1.0324 - acc: 0.4757Epoch 00026: val_loss did not improve\n",
      "4454/4454 [==============================] - 102s - loss: 1.0322 - acc: 0.4762 - val_loss: 1.0354 - val_acc: 0.4688\n",
      "Epoch 28/30\n",
      "4448/4454 [============================>.] - ETA: 0s - loss: 1.0322 - acc: 0.4753Epoch 00027: val_loss did not improve\n",
      "4454/4454 [==============================] - 103s - loss: 1.0320 - acc: 0.4755 - val_loss: 1.0354 - val_acc: 0.4694\n",
      "Epoch 29/30\n",
      "4448/4454 [============================>.] - ETA: 0s - loss: 1.0321 - acc: 0.4764Epoch 00028: val_loss did not improve\n",
      "4454/4454 [==============================] - 81s - loss: 1.0320 - acc: 0.4764 - val_loss: 1.0356 - val_acc: 0.4704\n",
      "Epoch 30/30\n",
      "4448/4454 [============================>.] - ETA: 0s - loss: 1.0320 - acc: 0.4748- ETA: 0s - loss: 1.0319 - acc: 0.47Epoch 00029: val_loss improved from 1.03518 to 1.03506, saving model to vgg16-top-weights-improvement-29-1.04.hdf5\n",
      "4454/4454 [==============================] - 209s - loss: 1.0320 - acc: 0.4749 - val_loss: 1.0351 - val_acc: 0.4751\n"
     ]
    }
   ],
   "source": [
    "history4 = model.fit(pre_processed_X, y, batch_size=16, epochs=30, callbacks=callbacks_list, validation_split=0.3, shuffle=True, initial_epoch=22)"
   ]
  },
  {
   "cell_type": "code",
   "execution_count": 165,
   "metadata": {
    "collapsed": true
   },
   "outputs": [],
   "source": [
    "predictions = model.predict(pre_processed_X, batch_size=32, verbose=0)"
   ]
  },
  {
   "cell_type": "code",
   "execution_count": 166,
   "metadata": {},
   "outputs": [
    {
     "name": "stdout",
     "output_type": "stream",
     "text": [
      "(6363, 3)\n"
     ]
    }
   ],
   "source": [
    "y_actu = y\n",
    "print(y_actu.shape)"
   ]
  },
  {
   "cell_type": "code",
   "execution_count": 167,
   "metadata": {},
   "outputs": [
    {
     "name": "stdout",
     "output_type": "stream",
     "text": [
      "(6363, 3)\n"
     ]
    }
   ],
   "source": [
    "y_pred = predictions\n",
    "print(y_pred.shape)"
   ]
  },
  {
   "cell_type": "code",
   "execution_count": 168,
   "metadata": {
    "collapsed": true
   },
   "outputs": [],
   "source": [
    "our_labels = (y_pred == y_pred.max(axis=1)[:,None]).astype(int)"
   ]
  },
  {
   "cell_type": "code",
   "execution_count": 169,
   "metadata": {},
   "outputs": [
    {
     "name": "stdout",
     "output_type": "stream",
     "text": [
      "[[9383 3343]\n",
      " [3343 3020]]\n"
     ]
    }
   ],
   "source": [
    "from sklearn.metrics import confusion_matrix\n",
    "# y = (6363, 3)\n",
    "print(confusion_matrix(y_actu.flatten(), our_labels.flatten())) #confusion_matrix(y_actu, y_pred)"
   ]
  },
  {
   "cell_type": "markdown",
   "metadata": {},
   "source": [
    "# Now lets train inceptionv3"
   ]
  },
  {
   "cell_type": "code",
   "execution_count": 6,
   "metadata": {
    "collapsed": true
   },
   "outputs": [],
   "source": [
    "from keras.applications.inception_v3 import InceptionV3\n",
    "from keras.layers import Dense, GlobalAveragePooling2D"
   ]
  },
  {
   "cell_type": "code",
   "execution_count": 179,
   "metadata": {
    "collapsed": true
   },
   "outputs": [],
   "source": [
    "# create the base pre-trained model\n",
    "base_inception_model = InceptionV3(weights='imagenet', include_top=False)"
   ]
  },
  {
   "cell_type": "code",
   "execution_count": 180,
   "metadata": {
    "collapsed": true
   },
   "outputs": [],
   "source": [
    "# add a global spatial average pooling layer\n",
    "x_incep = base_inception_model.output\n",
    "x_incep = GlobalAveragePooling2D()(x_incep)\n",
    "# let's add a fully-connected layer\n",
    "x_incep = Dense(1024, activation='relu', kernel_initializer='glorot_uniform')(x_incep)\n",
    "# and a logistic layer -- let's say we have 200 classes\n",
    "predictions_incep = Dense(3, activation='softmax', kernel_initializer='glorot_uniform')(x_incep)"
   ]
  },
  {
   "cell_type": "code",
   "execution_count": 181,
   "metadata": {
    "collapsed": true
   },
   "outputs": [],
   "source": [
    "# this is the model we will train\n",
    "model_inception = Model(inputs=base_inception_model.input, outputs=predictions_incep)"
   ]
  },
  {
   "cell_type": "code",
   "execution_count": 182,
   "metadata": {},
   "outputs": [
    {
     "name": "stdout",
     "output_type": "stream",
     "text": [
      "0 input_4\n",
      "1 conv2d_95\n",
      "2 batch_normalization_95\n",
      "3 activation_95\n",
      "4 conv2d_96\n",
      "5 batch_normalization_96\n",
      "6 activation_96\n",
      "7 conv2d_97\n",
      "8 batch_normalization_97\n",
      "9 activation_97\n",
      "10 max_pooling2d_5\n",
      "11 conv2d_98\n",
      "12 batch_normalization_98\n",
      "13 activation_98\n",
      "14 conv2d_99\n",
      "15 batch_normalization_99\n",
      "16 activation_99\n",
      "17 max_pooling2d_6\n",
      "18 conv2d_103\n",
      "19 batch_normalization_103\n",
      "20 activation_103\n",
      "21 conv2d_101\n",
      "22 conv2d_104\n",
      "23 batch_normalization_101\n",
      "24 batch_normalization_104\n",
      "25 activation_101\n",
      "26 activation_104\n",
      "27 average_pooling2d_10\n",
      "28 conv2d_100\n",
      "29 conv2d_102\n",
      "30 conv2d_105\n",
      "31 conv2d_106\n",
      "32 batch_normalization_100\n",
      "33 batch_normalization_102\n",
      "34 batch_normalization_105\n",
      "35 batch_normalization_106\n",
      "36 activation_100\n",
      "37 activation_102\n",
      "38 activation_105\n",
      "39 activation_106\n",
      "40 mixed0\n",
      "41 conv2d_110\n",
      "42 batch_normalization_110\n",
      "43 activation_110\n",
      "44 conv2d_108\n",
      "45 conv2d_111\n",
      "46 batch_normalization_108\n",
      "47 batch_normalization_111\n",
      "48 activation_108\n",
      "49 activation_111\n",
      "50 average_pooling2d_11\n",
      "51 conv2d_107\n",
      "52 conv2d_109\n",
      "53 conv2d_112\n",
      "54 conv2d_113\n",
      "55 batch_normalization_107\n",
      "56 batch_normalization_109\n",
      "57 batch_normalization_112\n",
      "58 batch_normalization_113\n",
      "59 activation_107\n",
      "60 activation_109\n",
      "61 activation_112\n",
      "62 activation_113\n",
      "63 mixed1\n",
      "64 conv2d_117\n",
      "65 batch_normalization_117\n",
      "66 activation_117\n",
      "67 conv2d_115\n",
      "68 conv2d_118\n",
      "69 batch_normalization_115\n",
      "70 batch_normalization_118\n",
      "71 activation_115\n",
      "72 activation_118\n",
      "73 average_pooling2d_12\n",
      "74 conv2d_114\n",
      "75 conv2d_116\n",
      "76 conv2d_119\n",
      "77 conv2d_120\n",
      "78 batch_normalization_114\n",
      "79 batch_normalization_116\n",
      "80 batch_normalization_119\n",
      "81 batch_normalization_120\n",
      "82 activation_114\n",
      "83 activation_116\n",
      "84 activation_119\n",
      "85 activation_120\n",
      "86 mixed2\n",
      "87 conv2d_122\n",
      "88 batch_normalization_122\n",
      "89 activation_122\n",
      "90 conv2d_123\n",
      "91 batch_normalization_123\n",
      "92 activation_123\n",
      "93 conv2d_121\n",
      "94 conv2d_124\n",
      "95 batch_normalization_121\n",
      "96 batch_normalization_124\n",
      "97 activation_121\n",
      "98 activation_124\n",
      "99 max_pooling2d_7\n",
      "100 mixed3\n",
      "101 conv2d_129\n",
      "102 batch_normalization_129\n",
      "103 activation_129\n",
      "104 conv2d_130\n",
      "105 batch_normalization_130\n",
      "106 activation_130\n",
      "107 conv2d_126\n",
      "108 conv2d_131\n",
      "109 batch_normalization_126\n",
      "110 batch_normalization_131\n",
      "111 activation_126\n",
      "112 activation_131\n",
      "113 conv2d_127\n",
      "114 conv2d_132\n",
      "115 batch_normalization_127\n",
      "116 batch_normalization_132\n",
      "117 activation_127\n",
      "118 activation_132\n",
      "119 average_pooling2d_13\n",
      "120 conv2d_125\n",
      "121 conv2d_128\n",
      "122 conv2d_133\n",
      "123 conv2d_134\n",
      "124 batch_normalization_125\n",
      "125 batch_normalization_128\n",
      "126 batch_normalization_133\n",
      "127 batch_normalization_134\n",
      "128 activation_125\n",
      "129 activation_128\n",
      "130 activation_133\n",
      "131 activation_134\n",
      "132 mixed4\n",
      "133 conv2d_139\n",
      "134 batch_normalization_139\n",
      "135 activation_139\n",
      "136 conv2d_140\n",
      "137 batch_normalization_140\n",
      "138 activation_140\n",
      "139 conv2d_136\n",
      "140 conv2d_141\n",
      "141 batch_normalization_136\n",
      "142 batch_normalization_141\n",
      "143 activation_136\n",
      "144 activation_141\n",
      "145 conv2d_137\n",
      "146 conv2d_142\n",
      "147 batch_normalization_137\n",
      "148 batch_normalization_142\n",
      "149 activation_137\n",
      "150 activation_142\n",
      "151 average_pooling2d_14\n",
      "152 conv2d_135\n",
      "153 conv2d_138\n",
      "154 conv2d_143\n",
      "155 conv2d_144\n",
      "156 batch_normalization_135\n",
      "157 batch_normalization_138\n",
      "158 batch_normalization_143\n",
      "159 batch_normalization_144\n",
      "160 activation_135\n",
      "161 activation_138\n",
      "162 activation_143\n",
      "163 activation_144\n",
      "164 mixed5\n",
      "165 conv2d_149\n",
      "166 batch_normalization_149\n",
      "167 activation_149\n",
      "168 conv2d_150\n",
      "169 batch_normalization_150\n",
      "170 activation_150\n",
      "171 conv2d_146\n",
      "172 conv2d_151\n",
      "173 batch_normalization_146\n",
      "174 batch_normalization_151\n",
      "175 activation_146\n",
      "176 activation_151\n",
      "177 conv2d_147\n",
      "178 conv2d_152\n",
      "179 batch_normalization_147\n",
      "180 batch_normalization_152\n",
      "181 activation_147\n",
      "182 activation_152\n",
      "183 average_pooling2d_15\n",
      "184 conv2d_145\n",
      "185 conv2d_148\n",
      "186 conv2d_153\n",
      "187 conv2d_154\n",
      "188 batch_normalization_145\n",
      "189 batch_normalization_148\n",
      "190 batch_normalization_153\n",
      "191 batch_normalization_154\n",
      "192 activation_145\n",
      "193 activation_148\n",
      "194 activation_153\n",
      "195 activation_154\n",
      "196 mixed6\n",
      "197 conv2d_159\n",
      "198 batch_normalization_159\n",
      "199 activation_159\n",
      "200 conv2d_160\n",
      "201 batch_normalization_160\n",
      "202 activation_160\n",
      "203 conv2d_156\n",
      "204 conv2d_161\n",
      "205 batch_normalization_156\n",
      "206 batch_normalization_161\n",
      "207 activation_156\n",
      "208 activation_161\n",
      "209 conv2d_157\n",
      "210 conv2d_162\n",
      "211 batch_normalization_157\n",
      "212 batch_normalization_162\n",
      "213 activation_157\n",
      "214 activation_162\n",
      "215 average_pooling2d_16\n",
      "216 conv2d_155\n",
      "217 conv2d_158\n",
      "218 conv2d_163\n",
      "219 conv2d_164\n",
      "220 batch_normalization_155\n",
      "221 batch_normalization_158\n",
      "222 batch_normalization_163\n",
      "223 batch_normalization_164\n",
      "224 activation_155\n",
      "225 activation_158\n",
      "226 activation_163\n",
      "227 activation_164\n",
      "228 mixed7\n",
      "229 conv2d_167\n",
      "230 batch_normalization_167\n",
      "231 activation_167\n",
      "232 conv2d_168\n",
      "233 batch_normalization_168\n",
      "234 activation_168\n",
      "235 conv2d_165\n",
      "236 conv2d_169\n",
      "237 batch_normalization_165\n",
      "238 batch_normalization_169\n",
      "239 activation_165\n",
      "240 activation_169\n",
      "241 conv2d_166\n",
      "242 conv2d_170\n",
      "243 batch_normalization_166\n",
      "244 batch_normalization_170\n",
      "245 activation_166\n",
      "246 activation_170\n",
      "247 max_pooling2d_8\n",
      "248 mixed8\n",
      "249 conv2d_175\n",
      "250 batch_normalization_175\n",
      "251 activation_175\n",
      "252 conv2d_172\n",
      "253 conv2d_176\n",
      "254 batch_normalization_172\n",
      "255 batch_normalization_176\n",
      "256 activation_172\n",
      "257 activation_176\n",
      "258 conv2d_173\n",
      "259 conv2d_174\n",
      "260 conv2d_177\n",
      "261 conv2d_178\n",
      "262 average_pooling2d_17\n",
      "263 conv2d_171\n",
      "264 batch_normalization_173\n",
      "265 batch_normalization_174\n",
      "266 batch_normalization_177\n",
      "267 batch_normalization_178\n",
      "268 conv2d_179\n",
      "269 batch_normalization_171\n",
      "270 activation_173\n",
      "271 activation_174\n",
      "272 activation_177\n",
      "273 activation_178\n",
      "274 batch_normalization_179\n",
      "275 activation_171\n",
      "276 mixed9_0\n",
      "277 concatenate_3\n",
      "278 activation_179\n",
      "279 mixed9\n",
      "280 conv2d_184\n",
      "281 batch_normalization_184\n",
      "282 activation_184\n",
      "283 conv2d_181\n",
      "284 conv2d_185\n",
      "285 batch_normalization_181\n",
      "286 batch_normalization_185\n",
      "287 activation_181\n",
      "288 activation_185\n",
      "289 conv2d_182\n",
      "290 conv2d_183\n",
      "291 conv2d_186\n",
      "292 conv2d_187\n",
      "293 average_pooling2d_18\n",
      "294 conv2d_180\n",
      "295 batch_normalization_182\n",
      "296 batch_normalization_183\n",
      "297 batch_normalization_186\n",
      "298 batch_normalization_187\n",
      "299 conv2d_188\n",
      "300 batch_normalization_180\n",
      "301 activation_182\n",
      "302 activation_183\n",
      "303 activation_186\n",
      "304 activation_187\n",
      "305 batch_normalization_188\n",
      "306 activation_180\n",
      "307 mixed9_1\n",
      "308 concatenate_4\n",
      "309 activation_188\n",
      "310 mixed10\n",
      "311 global_average_pooling2d_3\n",
      "312 dense_8\n",
      "313 dense_9\n"
     ]
    }
   ],
   "source": [
    "for i, layer in enumerate(model_inception.layers):\n",
    "       print(i, layer.name)"
   ]
  },
  {
   "cell_type": "code",
   "execution_count": 184,
   "metadata": {
    "collapsed": true
   },
   "outputs": [],
   "source": [
    "for layer in model_inception.layers[:311]:\n",
    "    layer.trainable = False"
   ]
  },
  {
   "cell_type": "code",
   "execution_count": 185,
   "metadata": {},
   "outputs": [
    {
     "name": "stdout",
     "output_type": "stream",
     "text": [
      "311 global_average_pooling2d_3\n",
      "312 dense_8\n",
      "313 dense_9\n"
     ]
    }
   ],
   "source": [
    "for i, layer in enumerate(model_inception.layers):\n",
    "       if layer.trainable == True: \n",
    "           print(i, layer.name)"
   ]
  },
  {
   "cell_type": "code",
   "execution_count": 204,
   "metadata": {
    "collapsed": true
   },
   "outputs": [],
   "source": [
    "opt = RMSprop(lr=1e-5, rho=0.9)\n",
    "model.compile(optimizer=opt, loss='categorical_crossentropy', metrics=['categorical_accuracy'])"
   ]
  },
  {
   "cell_type": "code",
   "execution_count": 197,
   "metadata": {
    "collapsed": true
   },
   "outputs": [],
   "source": [
    "filepath=\"inception-top-weights-improvement-{epoch:02d}-{val_loss:}.hdf5\"\n",
    "checkpoint = ModelCheckpoint(filepath, monitor='val_loss', verbose=1, save_best_only=True, mode='min')\n",
    "callbacks_list_inception = [checkpoint]\n",
    "tbCallBack = TensorBoard(log_dir='./graph_incep_top', histogram_freq=0, write_graph=True, write_images=True)\n",
    "callbacks_list_inception.append(tbCallBack)"
   ]
  },
  {
   "cell_type": "code",
   "execution_count": 205,
   "metadata": {
    "scrolled": true
   },
   "outputs": [
    {
     "ename": "ValueError",
     "evalue": "Input arrays should have the same number of samples as target arrays. Found 6363 input samples and 19089 target samples.",
     "output_type": "error",
     "traceback": [
      "\u001b[1;31m---------------------------------------------------------------------------\u001b[0m",
      "\u001b[1;31mValueError\u001b[0m                                Traceback (most recent call last)",
      "\u001b[1;32m<ipython-input-205-4636f8ef08f8>\u001b[0m in \u001b[0;36m<module>\u001b[1;34m()\u001b[0m\n\u001b[1;32m----> 1\u001b[1;33m \u001b[0mhistory_incep\u001b[0m \u001b[1;33m=\u001b[0m \u001b[0mmodel\u001b[0m\u001b[1;33m.\u001b[0m\u001b[0mfit\u001b[0m\u001b[1;33m(\u001b[0m\u001b[0mpre_processed_X_incep\u001b[0m\u001b[1;33m,\u001b[0m \u001b[0mcategorical_labels\u001b[0m\u001b[1;33m,\u001b[0m \u001b[0mbatch_size\u001b[0m\u001b[1;33m=\u001b[0m\u001b[1;36m16\u001b[0m\u001b[1;33m,\u001b[0m \u001b[0mepochs\u001b[0m\u001b[1;33m=\u001b[0m\u001b[1;36m3\u001b[0m\u001b[1;33m,\u001b[0m \u001b[0mcallbacks\u001b[0m\u001b[1;33m=\u001b[0m\u001b[0mcallbacks_list_inception\u001b[0m\u001b[1;33m,\u001b[0m \u001b[0mvalidation_split\u001b[0m\u001b[1;33m=\u001b[0m\u001b[1;36m0.22\u001b[0m\u001b[1;33m,\u001b[0m \u001b[0mshuffle\u001b[0m\u001b[1;33m=\u001b[0m\u001b[1;32mTrue\u001b[0m\u001b[1;33m,\u001b[0m \u001b[0minitial_epoch\u001b[0m\u001b[1;33m=\u001b[0m\u001b[1;36m2\u001b[0m\u001b[1;33m)\u001b[0m\u001b[1;33m\u001b[0m\u001b[0m\n\u001b[0m",
      "\u001b[1;32mC:\\Users\\Flo\\Anaconda3\\envs\\tensorflow\\lib\\site-packages\\keras\\engine\\training.py\u001b[0m in \u001b[0;36mfit\u001b[1;34m(self, x, y, batch_size, epochs, verbose, callbacks, validation_split, validation_data, shuffle, class_weight, sample_weight, initial_epoch, **kwargs)\u001b[0m\n\u001b[0;32m   1427\u001b[0m             \u001b[0mclass_weight\u001b[0m\u001b[1;33m=\u001b[0m\u001b[0mclass_weight\u001b[0m\u001b[1;33m,\u001b[0m\u001b[1;33m\u001b[0m\u001b[0m\n\u001b[0;32m   1428\u001b[0m             \u001b[0mcheck_batch_axis\u001b[0m\u001b[1;33m=\u001b[0m\u001b[1;32mFalse\u001b[0m\u001b[1;33m,\u001b[0m\u001b[1;33m\u001b[0m\u001b[0m\n\u001b[1;32m-> 1429\u001b[1;33m             batch_size=batch_size)\n\u001b[0m\u001b[0;32m   1430\u001b[0m         \u001b[1;31m# Prepare validation data.\u001b[0m\u001b[1;33m\u001b[0m\u001b[1;33m\u001b[0m\u001b[0m\n\u001b[0;32m   1431\u001b[0m         \u001b[1;32mif\u001b[0m \u001b[0mvalidation_data\u001b[0m\u001b[1;33m:\u001b[0m\u001b[1;33m\u001b[0m\u001b[0m\n",
      "\u001b[1;32mC:\\Users\\Flo\\Anaconda3\\envs\\tensorflow\\lib\\site-packages\\keras\\engine\\training.py\u001b[0m in \u001b[0;36m_standardize_user_data\u001b[1;34m(self, x, y, sample_weight, class_weight, check_batch_axis, batch_size)\u001b[0m\n\u001b[0;32m   1315\u001b[0m                           \u001b[1;32mfor\u001b[0m \u001b[1;33m(\u001b[0m\u001b[0mref\u001b[0m\u001b[1;33m,\u001b[0m \u001b[0msw\u001b[0m\u001b[1;33m,\u001b[0m \u001b[0mcw\u001b[0m\u001b[1;33m,\u001b[0m \u001b[0mmode\u001b[0m\u001b[1;33m)\u001b[0m\u001b[1;33m\u001b[0m\u001b[0m\n\u001b[0;32m   1316\u001b[0m                           in zip(y, sample_weights, class_weights, self._feed_sample_weight_modes)]\n\u001b[1;32m-> 1317\u001b[1;33m         \u001b[0m_check_array_lengths\u001b[0m\u001b[1;33m(\u001b[0m\u001b[0mx\u001b[0m\u001b[1;33m,\u001b[0m \u001b[0my\u001b[0m\u001b[1;33m,\u001b[0m \u001b[0msample_weights\u001b[0m\u001b[1;33m)\u001b[0m\u001b[1;33m\u001b[0m\u001b[0m\n\u001b[0m\u001b[0;32m   1318\u001b[0m         _check_loss_and_target_compatibility(y,\n\u001b[0;32m   1319\u001b[0m                                              \u001b[0mself\u001b[0m\u001b[1;33m.\u001b[0m\u001b[0m_feed_loss_fns\u001b[0m\u001b[1;33m,\u001b[0m\u001b[1;33m\u001b[0m\u001b[0m\n",
      "\u001b[1;32mC:\\Users\\Flo\\Anaconda3\\envs\\tensorflow\\lib\\site-packages\\keras\\engine\\training.py\u001b[0m in \u001b[0;36m_check_array_lengths\u001b[1;34m(inputs, targets, weights)\u001b[0m\n\u001b[0;32m    233\u001b[0m                          \u001b[1;34m'the same number of samples as target arrays. '\u001b[0m\u001b[1;33m\u001b[0m\u001b[0m\n\u001b[0;32m    234\u001b[0m                          \u001b[1;34m'Found '\u001b[0m \u001b[1;33m+\u001b[0m \u001b[0mstr\u001b[0m\u001b[1;33m(\u001b[0m\u001b[0mlist\u001b[0m\u001b[1;33m(\u001b[0m\u001b[0mset_x\u001b[0m\u001b[1;33m)\u001b[0m\u001b[1;33m[\u001b[0m\u001b[1;36m0\u001b[0m\u001b[1;33m]\u001b[0m\u001b[1;33m)\u001b[0m \u001b[1;33m+\u001b[0m \u001b[1;34m' input samples '\u001b[0m\u001b[1;33m\u001b[0m\u001b[0m\n\u001b[1;32m--> 235\u001b[1;33m                          'and ' + str(list(set_y)[0]) + ' target samples.')\n\u001b[0m\u001b[0;32m    236\u001b[0m     \u001b[1;32mif\u001b[0m \u001b[0mset_y\u001b[0m \u001b[1;32mand\u001b[0m \u001b[0mset_w\u001b[0m \u001b[1;32mand\u001b[0m \u001b[0mlist\u001b[0m\u001b[1;33m(\u001b[0m\u001b[0mset_y\u001b[0m\u001b[1;33m)\u001b[0m\u001b[1;33m[\u001b[0m\u001b[1;36m0\u001b[0m\u001b[1;33m]\u001b[0m \u001b[1;33m!=\u001b[0m \u001b[0mlist\u001b[0m\u001b[1;33m(\u001b[0m\u001b[0mset_w\u001b[0m\u001b[1;33m)\u001b[0m\u001b[1;33m[\u001b[0m\u001b[1;36m0\u001b[0m\u001b[1;33m]\u001b[0m\u001b[1;33m:\u001b[0m\u001b[1;33m\u001b[0m\u001b[0m\n\u001b[0;32m    237\u001b[0m         raise ValueError('Sample_weight arrays should have '\n",
      "\u001b[1;31mValueError\u001b[0m: Input arrays should have the same number of samples as target arrays. Found 6363 input samples and 19089 target samples."
     ]
    }
   ],
   "source": [
    "history_incep = model.fit(pre_processed_X_incep, y, batch_size=16, epochs=3, callbacks=callbacks_list_inception, validation_split=0.22, shuffle=True, initial_epoch=2)"
   ]
  },
  {
   "cell_type": "markdown",
   "metadata": {},
   "source": [
    "# Gridsearch with scikit-learn"
   ]
  },
  {
   "cell_type": "code",
   "execution_count": 7,
   "metadata": {
    "collapsed": true
   },
   "outputs": [],
   "source": [
    "base_inception_model = InceptionV3(weights='imagenet', include_top=False)"
   ]
  },
  {
   "cell_type": "code",
   "execution_count": 8,
   "metadata": {
    "collapsed": true
   },
   "outputs": [],
   "source": [
    "def create_model(opt_):\n",
    "    # add a global spatial average pooling layer\n",
    "    x_incep = base_inception_model.output\n",
    "    x_incep = GlobalAveragePooling2D()(x_incep)\n",
    "    # let's add a fully-connected layer\n",
    "    x_incep = Dense(1024, activation='relu', kernel_initializer='glorot_uniform')(x_incep)\n",
    "    # and a logistic layer \n",
    "    predictions_incep = Dense(3, activation='softmax', kernel_initializer='glorot_uniform')(x_incep)\n",
    "    # this is the model we will train\n",
    "    model_inception = Model(inputs=base_inception_model.input, outputs=predictions_incep)\n",
    "    model_inception.compile(optimizer=opt_, loss='categorical_crossentropy', metrics=['accuracy']) #loss='binary_crossentropy' not working\n",
    "    return model_inception\n"
   ]
  },
  {
   "cell_type": "code",
   "execution_count": null,
   "metadata": {
    "collapsed": true
   },
   "outputs": [],
   "source": [
    "from sklearn.model_selection import GridSearchCV, KFold\n",
    "from sklearn.preprocessing import LabelEncoder\n",
    "from sklearn.metrics import log_loss\n",
    "from keras.wrappers.scikit_learn import KerasClassifier\n",
    "from keras.models import Sequential\n",
    "from keras import optimizers\n",
    "\n",
    "import tensorflow as tf"
   ]
  },
  {
   "cell_type": "code",
   "execution_count": 21,
   "metadata": {
    "collapsed": true
   },
   "outputs": [],
   "source": [
    "config = tf.ConfigProto()\n",
    "config.gpu_options.allocator_type = 'BFC'"
   ]
  },
  {
   "cell_type": "code",
   "execution_count": 22,
   "metadata": {
    "collapsed": true
   },
   "outputs": [],
   "source": [
    "model = KerasClassifier(build_fn=create_model, nb_epoch=2, batch_size=batch_size, verbose=2)"
   ]
  },
  {
   "cell_type": "code",
   "execution_count": 9,
   "metadata": {
    "collapsed": true
   },
   "outputs": [],
   "source": [
    "# zero center data\n",
    "zero_centered_X = X\n",
    "zero_centered_X -= np.mean(zero_centered_X, axis = 0)"
   ]
  },
  {
   "cell_type": "code",
   "execution_count": 10,
   "metadata": {
    "collapsed": true
   },
   "outputs": [],
   "source": [
    "def make_all_layers_non_trainable_except_last(model):\n",
    "    for layer in model.layers[:311]:\n",
    "        layer.trainable = False\n",
    "    return model    "
   ]
  },
  {
   "cell_type": "code",
   "execution_count": 11,
   "metadata": {
    "collapsed": true
   },
   "outputs": [],
   "source": [
    "opts_ = ['RMSprop','sgd','nadam', 'adamax', 'adadelta'] #['adadelta','sgd','adagrad','adam','adamax']\n",
    "epochs = 8\n",
    "batche_size = 16\n",
    "accuracys = []"
   ]
  },
  {
   "cell_type": "code",
   "execution_count": 12,
   "metadata": {},
   "outputs": [
    {
     "name": "stdout",
     "output_type": "stream",
     "text": [
      "Train on 780 samples, validate on 220 samples\n",
      "Epoch 1/8\n",
      "780/780 [==============================] - 45s - loss: 1.8758 - acc: 0.3756 - val_loss: 9.0115 - val_acc: 0.4409\n",
      "Epoch 2/8\n",
      "780/780 [==============================] - 22s - loss: 1.7029 - acc: 0.3974 - val_loss: 9.5084 - val_acc: 0.3864\n",
      "Epoch 3/8\n",
      "780/780 [==============================] - 22s - loss: 1.1672 - acc: 0.3923 - val_loss: 2.8022 - val_acc: 0.4727\n",
      "Epoch 4/8\n",
      "780/780 [==============================] - 22s - loss: 1.0753 - acc: 0.3974 - val_loss: 1.0425 - val_acc: 0.4409\n",
      "Epoch 5/8\n",
      "780/780 [==============================] - 22s - loss: 1.0822 - acc: 0.4064 - val_loss: 5.7004 - val_acc: 0.3864\n",
      "Epoch 6/8\n",
      "780/780 [==============================] - 22s - loss: 1.0770 - acc: 0.3769 - val_loss: 2.7259 - val_acc: 0.4409\n",
      "Epoch 7/8\n",
      "780/780 [==============================] - 22s - loss: 1.0788 - acc: 0.3833 - val_loss: 1.5703 - val_acc: 0.4409\n",
      "Epoch 8/8\n",
      "780/780 [==============================] - 22s - loss: 1.0718 - acc: 0.4051 - val_loss: 4.1542 - val_acc: 0.4864\n",
      "Train on 780 samples, validate on 220 samples\n",
      "Epoch 1/8\n",
      "780/780 [==============================] - 12s - loss: 1.0830 - acc: 0.3974 - val_loss: 1.6723 - val_acc: 0.4000\n",
      "Epoch 2/8\n",
      "780/780 [==============================] - 11s - loss: 1.0707 - acc: 0.4090 - val_loss: 1.2023 - val_acc: 0.4500\n",
      "Epoch 3/8\n",
      "780/780 [==============================] - 10s - loss: 1.0625 - acc: 0.4192 - val_loss: 1.2202 - val_acc: 0.4591\n",
      "Epoch 4/8\n",
      "780/780 [==============================] - 10s - loss: 1.0611 - acc: 0.4141 - val_loss: 1.1097 - val_acc: 0.4545\n",
      "Epoch 5/8\n",
      "780/780 [==============================] - 10s - loss: 1.0613 - acc: 0.4141 - val_loss: 1.0757 - val_acc: 0.4409\n",
      "Epoch 6/8\n",
      "780/780 [==============================] - 11s - loss: 1.0572 - acc: 0.4231 - val_loss: 1.0461 - val_acc: 0.4455\n",
      "Epoch 7/8\n",
      "780/780 [==============================] - 11s - loss: 1.0577 - acc: 0.4115 - val_loss: 1.0632 - val_acc: 0.4409\n",
      "Epoch 8/8\n",
      "780/780 [==============================] - 11s - loss: 1.0584 - acc: 0.4115 - val_loss: 1.1097 - val_acc: 0.4409\n",
      "Train on 780 samples, validate on 220 samples\n",
      "Epoch 1/8\n",
      "780/780 [==============================] - 13s - loss: 1.0882 - acc: 0.4128 - val_loss: 1.2561 - val_acc: 0.4545\n",
      "Epoch 2/8\n",
      "780/780 [==============================] - 11s - loss: 1.0737 - acc: 0.4077 - val_loss: 1.1460 - val_acc: 0.4545\n",
      "Epoch 3/8\n",
      "780/780 [==============================] - 11s - loss: 1.0591 - acc: 0.4333 - val_loss: 1.2209 - val_acc: 0.4545\n",
      "Epoch 4/8\n",
      "780/780 [==============================] - 11s - loss: 1.0677 - acc: 0.4090 - val_loss: 1.2493 - val_acc: 0.4545\n",
      "Epoch 5/8\n",
      "780/780 [==============================] - 11s - loss: 1.0707 - acc: 0.4321 - val_loss: 1.2176 - val_acc: 0.3864\n",
      "Epoch 6/8\n",
      "780/780 [==============================] - 11s - loss: 1.0649 - acc: 0.4141 - val_loss: 1.0774 - val_acc: 0.3727\n",
      "Epoch 7/8\n",
      "780/780 [==============================] - 11s - loss: 1.0622 - acc: 0.4192 - val_loss: 1.1679 - val_acc: 0.4545\n",
      "Epoch 8/8\n",
      "780/780 [==============================] - 11s - loss: 1.0634 - acc: 0.4064 - val_loss: 1.1681 - val_acc: 0.4545\n",
      "Train on 780 samples, validate on 220 samples\n",
      "Epoch 1/8\n",
      "780/780 [==============================] - 13s - loss: 1.1019 - acc: 0.3641 - val_loss: 1.1524 - val_acc: 0.4455\n",
      "Epoch 2/8\n",
      "780/780 [==============================] - 11s - loss: 1.0766 - acc: 0.4013 - val_loss: 1.1215 - val_acc: 0.3727\n",
      "Epoch 3/8\n",
      "780/780 [==============================] - 10s - loss: 1.0618 - acc: 0.4128 - val_loss: 1.0956 - val_acc: 0.4500\n",
      "Epoch 4/8\n",
      "780/780 [==============================] - 11s - loss: 1.0646 - acc: 0.4167 - val_loss: 1.1556 - val_acc: 0.4545\n",
      "Epoch 5/8\n",
      "780/780 [==============================] - 11s - loss: 1.0628 - acc: 0.4218 - val_loss: 1.1328 - val_acc: 0.4545\n",
      "Epoch 6/8\n",
      "780/780 [==============================] - 11s - loss: 1.0616 - acc: 0.4090 - val_loss: 1.1126 - val_acc: 0.4409\n",
      "Epoch 7/8\n",
      "780/780 [==============================] - 11s - loss: 1.0668 - acc: 0.4077 - val_loss: 1.1475 - val_acc: 0.4864\n",
      "Epoch 8/8\n",
      "780/780 [==============================] - 11s - loss: 1.0566 - acc: 0.4346 - val_loss: 1.2170 - val_acc: 0.4545\n",
      "Train on 780 samples, validate on 220 samples\n",
      "Epoch 1/8\n",
      "780/780 [==============================] - 13s - loss: 1.0776 - acc: 0.4051 - val_loss: 1.1986 - val_acc: 0.4409\n",
      "Epoch 2/8\n",
      "780/780 [==============================] - 11s - loss: 1.0752 - acc: 0.4115 - val_loss: 1.0598 - val_acc: 0.4500\n",
      "Epoch 3/8\n",
      "780/780 [==============================] - 11s - loss: 1.0657 - acc: 0.4205 - val_loss: 1.2569 - val_acc: 0.4409\n",
      "Epoch 4/8\n",
      "780/780 [==============================] - 11s - loss: 1.0659 - acc: 0.4179 - val_loss: 1.1513 - val_acc: 0.4455\n",
      "Epoch 5/8\n",
      "780/780 [==============================] - 11s - loss: 1.0651 - acc: 0.4192 - val_loss: 1.2047 - val_acc: 0.4545\n",
      "Epoch 6/8\n",
      "780/780 [==============================] - 11s - loss: 1.0696 - acc: 0.4115 - val_loss: 1.1895 - val_acc: 0.4409\n",
      "Epoch 7/8\n",
      "780/780 [==============================] - 11s - loss: 1.0674 - acc: 0.4115 - val_loss: 1.2510 - val_acc: 0.4545\n",
      "Epoch 8/8\n",
      "780/780 [==============================] - 11s - loss: 1.0636 - acc: 0.4231 - val_loss: 1.1937 - val_acc: 0.4545\n"
     ]
    }
   ],
   "source": [
    "i = 1\n",
    "historys = []\n",
    "for opt in opts_:\n",
    "    model_current = create_model(opt)\n",
    "    model_current = make_all_layers_non_trainable_except_last(model_current)\n",
    "    history = model_current.fit(zero_centered_X, y, batch_size=batche_size, epochs=epochs, validation_split=0.22, shuffle=True, initial_epoch=0)\n",
    "    historys.append(history)"
   ]
  },
  {
   "cell_type": "code",
   "execution_count": 13,
   "metadata": {},
   "outputs": [
    {
     "name": "stdout",
     "output_type": "stream",
     "text": [
      "[<keras.callbacks.History object at 0x0000025328785898>, <keras.callbacks.History object at 0x000002532949CD30>, <keras.callbacks.History object at 0x000002532AE15358>, <keras.callbacks.History object at 0x000002532B5E7E48>, <keras.callbacks.History object at 0x000002532CE9CEB8>]\n"
     ]
    }
   ],
   "source": [
    "print(historys)"
   ]
  },
  {
   "cell_type": "code",
   "execution_count": 14,
   "metadata": {
    "collapsed": true
   },
   "outputs": [],
   "source": [
    "import matplotlib\n",
    "import matplotlib.pyplot as plt\n",
    "%matplotlib inline"
   ]
  },
  {
   "cell_type": "code",
   "execution_count": 19,
   "metadata": {},
   "outputs": [
    {
     "name": "stdout",
     "output_type": "stream",
     "text": [
      "dict_keys(['val_acc', 'loss', 'val_loss', 'acc'])\n"
     ]
    },
    {
     "data": {
      "image/png": "[encoded data removed]",
      "text/plain": [
       "<matplotlib.figure.Figure at 0x2532f412320>"
      ]
     },
     "metadata": {},
     "output_type": "display_data"
    },
    {
     "data": {
      "image/png": "[encoded data removed]",
      "text/plain": [
       "<matplotlib.figure.Figure at 0x2532f4c54e0>"
      ]
     },
     "metadata": {},
     "output_type": "display_data"
    },
    {
     "data": {
      "image/png": "[encoded data removed]",
      "text/plain": [
       "<matplotlib.figure.Figure at 0x2532f4c5748>"
      ]
     },
     "metadata": {},
     "output_type": "display_data"
    },
    {
     "data": {
      "image/png": "[encoded data removed]",
      "text/plain": [
       "<matplotlib.figure.Figure at 0x25330890128>"
      ]
     },
     "metadata": {},
     "output_type": "display_data"
    },
    {
     "data": {
      "image/png": "[encoded data removed]",
      "text/plain": [
       "<matplotlib.figure.Figure at 0x2532f734320>"
      ]
     },
     "metadata": {},
     "output_type": "display_data"
    },
    {
     "data": {
      "image/png": "[encoded data removed]",
      "text/plain": [
       "<matplotlib.figure.Figure at 0x253309dde80>"
      ]
     },
     "metadata": {},
     "output_type": "display_data"
    },
    {
     "data": {
      "image/png": "[encoded data removed]",
      "text/plain": [
       "<matplotlib.figure.Figure at 0x25330c53198>"
      ]
     },
     "metadata": {},
     "output_type": "display_data"
    },
    {
     "data": {
      "image/png": "[encoded data removed]",
      "text/plain": [
       "<matplotlib.figure.Figure at 0x2533087ad68>"
      ]
     },
     "metadata": {},
     "output_type": "display_data"
    },
    {
     "data": {
      "image/png": "[encoded data removed]",
      "text/plain": [
       "<matplotlib.figure.Figure at 0x25330f6b710>"
      ]
     },
     "metadata": {},
     "output_type": "display_data"
    },
    {
     "data": {
      "image/png": "[encoded data removed]",
      "text/plain": [
       "<matplotlib.figure.Figure at 0x253310b42b0>"
      ]
     },
     "metadata": {},
     "output_type": "display_data"
    }
   ],
   "source": [
    "# list all data in history\n",
    "# opts_ = ['RMSprop','sgd','nadam', 'adamax', 'adadelta']\n",
    "print(historys[0].history.keys())\n",
    "i = 0\n",
    "for history in historys:\n",
    "    # summarize history for accuracy\n",
    "    plt.plot(history.history['acc'])\n",
    "    plt.plot(history.history['val_acc'])\n",
    "    plt.title('model accuracy ' + opts_[i])\n",
    "    plt.ylabel('accuracy')\n",
    "    plt.xlabel('epoch')\n",
    "    plt.legend(['train', 'test'], loc='upper left')\n",
    "    plt.show()\n",
    "\n",
    "# summarize history for loss\n",
    "    plt.plot(history.history['loss'])\n",
    "    plt.plot(history.history['val_loss'])\n",
    "    plt.title('model loss ' + opts_[i])\n",
    "    plt.ylabel('loss')\n",
    "    plt.xlabel('epoch')\n",
    "    plt.legend(['train', 'test'], loc='upper left')\n",
    "    plt.show()\n",
    "    i += 1\n"
   ]
  },
  {
   "cell_type": "code",
   "execution_count": 28,
   "metadata": {},
   "outputs": [
    {
     "name": "stdout",
     "output_type": "stream",
     "text": [
      "RMSprop acc\n",
      "0.391826923301\n",
      "RMSprop loss\n",
      "1.26638636081\n",
      "sgd acc\n",
      "0.412500000153\n",
      "sgd loss\n",
      "1.06399479952\n",
      "nadam acc\n",
      "0.416826923177\n",
      "nadam loss\n",
      "1.06873405366\n",
      "adamax acc\n",
      "0.408493589906\n",
      "adamax loss\n",
      "1.06907953681\n",
      "adadelta acc\n",
      "0.415064102717\n",
      "adadelta loss\n",
      "1.06874341965\n"
     ]
    }
   ],
   "source": [
    "i = 0\n",
    "for history in historys:\n",
    "    print(opts_[i] + ' acc')\n",
    "    print(np.mean(history.history['acc']))\n",
    "    print(opts_[i] + ' loss')\n",
    "    print(np.mean(history.history['loss']))\n",
    "    i += 1"
   ]
  },
  {
   "cell_type": "markdown",
   "metadata": {},
   "source": [
    "# Overall best: nadam"
   ]
  },
  {
   "cell_type": "code",
   "execution_count": 29,
   "metadata": {
    "collapsed": true
   },
   "outputs": [],
   "source": [
    "model = create_model('Nadam')\n",
    "model = make_all_layers_non_trainable_except_last(model_current)"
   ]
  },
  {
   "cell_type": "code",
   "execution_count": 31,
   "metadata": {},
   "outputs": [
    {
     "name": "stdout",
     "output_type": "stream",
     "text": [
      "311 global_average_pooling2d_5\n",
      "312 dense_9\n",
      "313 dense_10\n"
     ]
    }
   ],
   "source": [
    "for i, layer in enumerate(model.layers):\n",
    "       if layer.trainable == True: \n",
    "           print(i, layer.name)"
   ]
  },
  {
   "cell_type": "code",
   "execution_count": 34,
   "metadata": {},
   "outputs": [
    {
     "name": "stdout",
     "output_type": "stream",
     "text": [
      "Found 6363 images belonging to 3 classes.\n"
     ]
    }
   ],
   "source": [
    "train_datagen = ImageDataGenerator(rescale=1. / 255)\n",
    "itr = train_generator = train_datagen.flow_from_directory(\n",
    "    train_data_dir,\n",
    "    target_size=(img_height, img_width),\n",
    "    batch_size=nb_train_samples,\n",
    "    class_mode='categorical')"
   ]
  },
  {
   "cell_type": "code",
   "execution_count": null,
   "metadata": {
    "collapsed": true
   },
   "outputs": [],
   "source": [
    "X, y = itr.next()"
   ]
  },
  {
   "cell_type": "code",
   "execution_count": null,
   "metadata": {
    "collapsed": true
   },
   "outputs": [],
   "source": [
    "# zero center data\n",
    "zero_centered_X = X\n",
    "zero_centered_X -= np.mean(zero_centered_X, axis = 0)"
   ]
  },
  {
   "cell_type": "code",
   "execution_count": null,
   "metadata": {
    "collapsed": true
   },
   "outputs": [],
   "source": [
    "filepath=\"inception-top-weights-improvement-{epoch:02d}-{val_loss:}-{val_acc:}-{acc:}.hdf5\"\n",
    "checkpoint = ModelCheckpoint(filepath, monitor='val_loss', verbose=1, save_best_only=True, mode='min')\n",
    "callbacks_list = [checkpoint]\n",
    "tbCallBack = TensorBoard(log_dir='./graph_incep_top', histogram_freq=0, write_graph=True, write_images=True)\n",
    "callbacks_list.append(tbCallBack)"
   ]
  },
  {
   "cell_type": "code",
   "execution_count": null,
   "metadata": {
    "collapsed": true
   },
   "outputs": [],
   "source": [
    "opt =  Nadam(lr=0.00001, beta_1=0.9, beta_2=0.999, epsilon=1e-08, schedule_decay=0.004)\n",
    "model_current.compile(optimizer=opt, loss='categorical_crossentropy', metrics=['accuracy'])"
   ]
  },
  {
   "cell_type": "code",
   "execution_count": null,
   "metadata": {
    "collapsed": true
   },
   "outputs": [],
   "source": [
    "history = model_current.fit(zero_centered_X, y, batch_size=16, epochs=100, validation_split=0.22, shuffle=True, initial_epoch=0)"
   ]
  },
  {
   "cell_type": "code",
   "execution_count": null,
   "metadata": {
    "collapsed": true
   },
   "outputs": [],
   "source": [
    "# serialize model to JSON\n",
    "model_json = model.to_json()\n",
    "with open(\"incep_top_only.json\", \"w\") as json_file:\n",
    "    json_file.write(model_json)\n",
    "# serialize weights to HDF5\n",
    "model.save_weights(\"incep_top_only.h5\")\n",
    "print(\"Saved model to disk\")"
   ]
  },
  {
   "cell_type": "code",
   "execution_count": null,
   "metadata": {
    "collapsed": true
   },
   "outputs": [],
   "source": []
  }
 ],
 "metadata": {
  "kernelspec": {
   "display_name": "Python 3",
   "language": "python",
   "name": "python3"
  },
  "language_info": {
   "codemirror_mode": {
    "name": "ipython",
    "version": 3
   },
   "file_extension": ".py",
   "mimetype": "text/x-python",
   "name": "python",
   "nbconvert_exporter": "python",
   "pygments_lexer": "ipython3",
   "version": "3.5.3"
  }
 },
 "nbformat": 4,
 "nbformat_minor": 2
}
