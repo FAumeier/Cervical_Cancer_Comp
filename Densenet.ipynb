{
 "cells": [
  {
   "cell_type": "markdown",
   "metadata": {},
   "source": [
    "# Xception"
   ]
  },
  {
   "cell_type": "code",
   "execution_count": 50,
   "metadata": {
    "scrolled": true
   },
   "outputs": [],
   "source": [
    "import densenet_fast\n",
    "\n",
    "from keras.optimizers import RMSprop, SGD\n",
    "from keras import regularizers\n",
    "from keras.preprocessing.image import ImageDataGenerator\n",
    "from keras.models import Model\n",
    "from keras.layers import Dropout, Flatten, Dense, GlobalAveragePooling2D\n",
    "from keras import backend as K\n",
    "from keras.callbacks import ModelCheckpoint\n",
    "from keras.models import model_from_json\n",
    "from keras.callbacks import TensorBoard"
   ]
  },
  {
   "cell_type": "code",
   "execution_count": 2,
   "metadata": {
    "collapsed": true
   },
   "outputs": [],
   "source": [
    "import os, sys\n",
    "current_dir = os.getcwd()\n",
    "LESSON_HOME_DIR = current_dir\n",
    "DATA_HOME_DIR = current_dir+'/data/'\n",
    "train_data_dir = DATA_HOME_DIR+'train'"
   ]
  },
  {
   "cell_type": "code",
   "execution_count": 3,
   "metadata": {},
   "outputs": [
    {
     "name": "stderr",
     "output_type": "stream",
     "text": [
      "/home/paperspace/anaconda2/envs/tensorflow/lib/python2.7/site-packages/sklearn/cross_validation.py:44: DeprecationWarning: This module was deprecated in version 0.18 in favor of the model_selection module into which all the refactored classes and functions are moved. Also note that the interface of the new CV iterators are different from that of this module. This module will be removed in 0.20.\n",
      "  \"This module will be removed in 0.20.\", DeprecationWarning)\n"
     ]
    }
   ],
   "source": [
    "import numpy as np\n",
    "np.random.seed(2016)\n",
    "\n",
    "import os\n",
    "import glob\n",
    "import cv2\n",
    "import math\n",
    "import pickle\n",
    "import datetime\n",
    "import pandas as pd\n",
    "\n",
    "from sklearn.cross_validation import train_test_split\n",
    "from keras.utils import np_utils\n",
    "from keras.models import model_from_json\n",
    "from sklearn.metrics import log_loss"
   ]
  },
  {
   "cell_type": "code",
   "execution_count": 4,
   "metadata": {
    "collapsed": true
   },
   "outputs": [],
   "source": [
    "def split_validation_set(train, target, test_size):\n",
    "    random_state = 51\n",
    "    X_train, X_test, y_train, y_test = train_test_split(train, target, test_size=test_size, random_state=random_state)\n",
    "    return X_train, X_test, y_train, y_test"
   ]
  },
  {
   "cell_type": "code",
   "execution_count": 5,
   "metadata": {
    "collapsed": true
   },
   "outputs": [],
   "source": [
    "def split_validation_set_with_hold_out(train, target, test_size):\n",
    "    random_state = 51\n",
    "    train, X_test, target, y_test = train_test_split(train, target, test_size=test_size, random_state=random_state)\n",
    "    X_train, X_holdout, y_train, y_holdout = train_test_split(train, target, test_size=test_size, random_state=random_state)\n",
    "    return X_train, X_test, X_holdout, y_train, y_test, y_holdout"
   ]
  },
  {
   "cell_type": "markdown",
   "metadata": {},
   "source": [
    "# Loading the data"
   ]
  },
  {
   "cell_type": "code",
   "execution_count": 6,
   "metadata": {
    "collapsed": true
   },
   "outputs": [],
   "source": [
    "from PIL import ImageFilter, ImageStat, Image, ImageDraw\n",
    "from multiprocessing import Pool, cpu_count\n",
    "from sklearn.preprocessing import LabelEncoder\n",
    "import pandas as pd\n",
    "import numpy as np\n",
    "import glob\n",
    "import cv2"
   ]
  },
  {
   "cell_type": "code",
   "execution_count": 7,
   "metadata": {
    "collapsed": true
   },
   "outputs": [],
   "source": [
    "def im_multi(path):\n",
    "    try:\n",
    "        im_stats_im_ = Image.open(path)\n",
    "        return [path, {'size': im_stats_im_.size}]\n",
    "    except:\n",
    "        print(path)\n",
    "        return [path, {'size': [0,0]}]\n",
    "\n",
    "def im_stats(im_stats_df):\n",
    "    im_stats_d = {}\n",
    "    p = Pool(cpu_count())\n",
    "    ret = p.map(im_multi, im_stats_df['path'])\n",
    "    for i in range(len(ret)):\n",
    "        im_stats_d[ret[i][0]] = ret[i][1]\n",
    "    im_stats_df['size'] = im_stats_df['path'].map(lambda x: ' '.join(str(s) for s in im_stats_d[x]['size']))\n",
    "    return im_stats_df\n",
    "\n",
    "def get_im_cv2(path):\n",
    "    img = cv2.imread(path)\n",
    "    resized = cv2.resize(img, (32, 32), cv2.INTER_LINEAR) #use cv2.resize(img, (64, 64), cv2.INTER_LINEAR)\n",
    "    return [path, resized]"
   ]
  },
  {
   "cell_type": "markdown",
   "metadata": {},
   "source": [
    "InceptionV3 hat pre_process input: https://github.com/fchollet/deep-learning-models/blob/master/inception_v3.py\n",
    "def preprocess_input(x):\n",
    "    x /= 255.\n",
    "    x -= 0.5\n",
    "    x *= 2.\n",
    "    return x"
   ]
  },
  {
   "cell_type": "code",
   "execution_count": 8,
   "metadata": {
    "collapsed": true
   },
   "outputs": [],
   "source": [
    "def normalize_image_features(paths):\n",
    "    imf_d = {}\n",
    "    p = Pool(cpu_count())\n",
    "    ret = p.map(get_im_cv2, paths)\n",
    "    for i in range(len(ret)):\n",
    "        imf_d[ret[i][0]] = ret[i][1]\n",
    "    ret = []\n",
    "    fdata = [imf_d[f] for f in paths]\n",
    "    fdata = np.array(fdata, dtype=np.uint8)\n",
    "    fdata = fdata.astype('float32')\n",
    "    return fdata"
   ]
  },
  {
   "cell_type": "code",
   "execution_count": 9,
   "metadata": {
    "collapsed": true
   },
   "outputs": [],
   "source": [
    "train = glob.glob('data/train/**/*.jpg') + glob.glob('data/additional/**/*.jpg')"
   ]
  },
  {
   "cell_type": "code",
   "execution_count": 10,
   "metadata": {},
   "outputs": [
    {
     "data": {
      "text/plain": [
       "'data/train/Type_3/1127.jpg'"
      ]
     },
     "execution_count": 10,
     "metadata": {},
     "output_type": "execute_result"
    }
   ],
   "source": [
    "train[1]"
   ]
  },
  {
   "cell_type": "code",
   "execution_count": 11,
   "metadata": {},
   "outputs": [
    {
     "data": {
      "text/plain": [
       "['data', 'train', 'Type_3', '1127.jpg']"
      ]
     },
     "execution_count": 11,
     "metadata": {},
     "output_type": "execute_result"
    }
   ],
   "source": [
    "train[1].split('/')"
   ]
  },
  {
   "cell_type": "code",
   "execution_count": 12,
   "metadata": {
    "collapsed": true
   },
   "outputs": [],
   "source": [
    "train = pd.DataFrame([[p.split('/')[2],p.split('/')[3],p] for p in train], columns = ['type','image','path'])#[::5] #limit for Kaggle Demo"
   ]
  },
  {
   "cell_type": "code",
   "execution_count": 13,
   "metadata": {},
   "outputs": [
    {
     "name": "stdout",
     "output_type": "stream",
     "text": [
      "data/additional/Type_2/2845.jpg\n",
      "data/additional/Type_2/5892.jpg\n",
      "data/additional/Type_1/5893.jpg\n",
      "dropped bad images\n",
      "Finished loading data!\n"
     ]
    }
   ],
   "source": [
    "train = im_stats(train)\n",
    "bad_images = train[train['size'] == '0 0']\n",
    "train = train[train['size'] != '0 0'].reset_index(drop=True) #remove bad images\n",
    "print('dropped bad images')\n",
    "train_data = normalize_image_features(train['path'])\n",
    "np.save('train.npy', train_data, allow_pickle=True, fix_imports=True)\n",
    "print('Finished loading data!')"
   ]
  },
  {
   "cell_type": "code",
   "execution_count": 14,
   "metadata": {},
   "outputs": [
    {
     "name": "stdout",
     "output_type": "stream",
     "text": [
      "        type     image                             path size\n",
      "5674  Type_2  2845.jpg  data/additional/Type_2/2845.jpg  0 0\n",
      "6119  Type_2  5892.jpg  data/additional/Type_2/5892.jpg  0 0\n",
      "7474  Type_1  5893.jpg  data/additional/Type_1/5893.jpg  0 0\n"
     ]
    }
   ],
   "source": [
    "print(bad_images)"
   ]
  },
  {
   "cell_type": "code",
   "execution_count": 15,
   "metadata": {
    "collapsed": true
   },
   "outputs": [],
   "source": [
    "le = LabelEncoder()\n",
    "train_target = le.fit_transform(train['type'].values)\n",
    "train_target = np_utils.to_categorical(train_target, num_classes=3)"
   ]
  },
  {
   "cell_type": "code",
   "execution_count": 16,
   "metadata": {},
   "outputs": [
    {
     "name": "stdout",
     "output_type": "stream",
     "text": [
      "[[ 0.  0.  1.]\n",
      " [ 0.  0.  1.]\n",
      " [ 0.  0.  1.]\n",
      " [ 0.  0.  1.]\n",
      " [ 0.  0.  1.]]\n"
     ]
    }
   ],
   "source": [
    "print(train_target[:5])"
   ]
  },
  {
   "cell_type": "code",
   "execution_count": 17,
   "metadata": {},
   "outputs": [
    {
     "name": "stdout",
     "output_type": "stream",
     "text": [
      "['Type_1' 'Type_2' 'Type_3']\n"
     ]
    }
   ],
   "source": [
    "print(le.classes_) #in case not 1 to 3 order\n",
    "np.save('train_target_add.npy', train_target, allow_pickle=True, fix_imports=True)"
   ]
  },
  {
   "cell_type": "markdown",
   "metadata": {},
   "source": [
    "Expected input to be images (as Numpy array) following the data format convention \"channels_last\" (channels on axis 3), i.e. expected either 1, 3 or 4 channels on axis 3. However, it was passed an array with shape (1480, 3, 32, 32) (32 channels)."
   ]
  },
  {
   "cell_type": "code",
   "execution_count": 18,
   "metadata": {},
   "outputs": [
    {
     "name": "stdout",
     "output_type": "stream",
     "text": [
      "(8211, 32, 32, 3)\n"
     ]
    }
   ],
   "source": [
    "print(train_data.shape)"
   ]
  },
  {
   "cell_type": "markdown",
   "metadata": {},
   "source": [
    "## Pre-processing"
   ]
  },
  {
   "cell_type": "code",
   "execution_count": 24,
   "metadata": {
    "collapsed": true
   },
   "outputs": [],
   "source": [
    "# load data\n",
    "train_data = np.load('train.npy')\n",
    "train_target = np.load('train_target_add.npy')"
   ]
  },
  {
   "cell_type": "markdown",
   "metadata": {},
   "source": [
    "### Zero Centering"
   ]
  },
  {
   "cell_type": "code",
   "execution_count": 25,
   "metadata": {
    "collapsed": true
   },
   "outputs": [],
   "source": [
    "mean = np.mean(train_data, axis = 0)"
   ]
  },
  {
   "cell_type": "code",
   "execution_count": 26,
   "metadata": {
    "collapsed": true
   },
   "outputs": [],
   "source": [
    "train_data -= np.mean(train_data, axis = 0) # zero-center the data"
   ]
  },
  {
   "cell_type": "markdown",
   "metadata": {},
   "source": [
    "### Devide by std"
   ]
  },
  {
   "cell_type": "code",
   "execution_count": 27,
   "metadata": {
    "collapsed": true
   },
   "outputs": [],
   "source": [
    "std = np.std(train_data, axis = 0)"
   ]
  },
  {
   "cell_type": "code",
   "execution_count": 28,
   "metadata": {
    "collapsed": true
   },
   "outputs": [],
   "source": [
    "train_data /= np.std(train_data, axis = 0)"
   ]
  },
  {
   "cell_type": "code",
   "execution_count": 30,
   "metadata": {
    "collapsed": true
   },
   "outputs": [
    {
     "name": "stdout",
     "output_type": "stream",
     "text": [
      "[[[[-0.57978743 -0.67437583 -0.63709021]\n",
      "   [-0.63648289 -0.72743857 -0.71886504]\n",
      "   [-0.67970455 -0.79238492 -0.74779516]\n",
      "   ..., \n",
      "   [-0.62826246 -0.74105406 -0.69575393]\n",
      "   [-0.62715232 -0.70799261 -0.69360584]\n",
      "   [-0.59142506 -0.69648713 -0.65484303]]\n",
      "\n",
      "  [[-0.5506261  -0.64775407 -0.60415184]\n",
      "   [-0.67455614 -0.78389919 -0.74378467]\n",
      "   [-0.67878437 -0.78434116 -0.74573082]\n",
      "   ..., \n",
      "   [-0.74030143 -0.80144435 -0.7648918 ]\n",
      "   [-0.65657914 -0.77183163 -0.72525138]\n",
      "   [-0.65881282 -0.77619058 -0.72624516]]\n",
      "\n",
      "  [[-0.69404757 -0.79054666 -0.77565485]\n",
      "   [-0.72249603 -0.83344954 -0.7999841 ]\n",
      "   [-0.73673767 -0.84566861 -0.799541  ]\n",
      "   ..., \n",
      "   [-0.62531322 -0.71582103 -0.71077734]\n",
      "   [-0.61915886 -0.75715697 -0.71709776]\n",
      "   [-0.68576413 -0.80234766 -0.75442439]]\n",
      "\n",
      "  ..., \n",
      "  [[-0.65991127 -0.73984611 -0.75051588]\n",
      "   [-0.65508115 -0.7647934  -0.76209873]\n",
      "   [-0.64980668 -0.72460431 -0.75910383]\n",
      "   ..., \n",
      "   [-0.60023999 -0.69549078 -0.71221095]\n",
      "   [-0.58739507 -0.71632898 -0.71207792]\n",
      "   [-0.58066452 -0.67743224 -0.64439374]]\n",
      "\n",
      "  [[-0.66398817 -0.76343507 -0.72623646]\n",
      "   [-0.60713017 -0.69935995 -0.73105901]\n",
      "   [-0.63104761 -0.73996347 -0.73924512]\n",
      "   ..., \n",
      "   [-0.55614889 -0.63442546 -0.67135835]\n",
      "   [-0.54684687 -0.64492691 -0.61720997]\n",
      "   [-0.49511242 -0.67034876 -0.62221146]]\n",
      "\n",
      "  [[-0.59161812 -0.70172495 -0.69026023]\n",
      "   [-0.57207799 -0.74575394 -0.75033903]\n",
      "   [-0.59097737 -0.68454599 -0.71722406]\n",
      "   ..., \n",
      "   [-0.5180012  -0.61468971 -0.62001586]\n",
      "   [-0.46643263 -0.59183031 -0.59364009]\n",
      "   [-0.52861875 -0.6765424  -0.61915046]]]]\n"
     ]
    }
   ],
   "source": [
    "print(train_data[:1])"
   ]
  },
  {
   "cell_type": "markdown",
   "metadata": {},
   "source": [
    "### Scale pixel values to [0,1]"
   ]
  },
  {
   "cell_type": "code",
   "execution_count": 31,
   "metadata": {
    "collapsed": true
   },
   "outputs": [],
   "source": [
    "train_data = train_data / 255"
   ]
  },
  {
   "cell_type": "code",
   "execution_count": 32,
   "metadata": {
    "collapsed": true
   },
   "outputs": [
    {
     "name": "stdout",
     "output_type": "stream",
     "text": [
      "[[[[-0.00227368 -0.00264461 -0.00249839]\n",
      "   [-0.00249601 -0.0028527  -0.00281908]\n",
      "   [-0.00266551 -0.00310739 -0.00293253]\n",
      "   ..., \n",
      "   [-0.00246377 -0.00290609 -0.00272845]\n",
      "   [-0.00245942 -0.00277644 -0.00272002]\n",
      "   [-0.00231931 -0.00273132 -0.00256801]]\n",
      "\n",
      "  [[-0.00215932 -0.00254021 -0.00236922]\n",
      "   [-0.00264532 -0.00307411 -0.0029168 ]\n",
      "   [-0.0026619  -0.00307585 -0.00292443]\n",
      "   ..., \n",
      "   [-0.00290314 -0.00314292 -0.00299958]\n",
      "   [-0.00257482 -0.00302679 -0.00284412]\n",
      "   [-0.00258358 -0.00304388 -0.00284802]]\n",
      "\n",
      "  [[-0.00272176 -0.00310018 -0.00304178]\n",
      "   [-0.00283332 -0.00326843 -0.00313719]\n",
      "   [-0.00288917 -0.00331635 -0.00313545]\n",
      "   ..., \n",
      "   [-0.00245221 -0.00280714 -0.00278736]\n",
      "   [-0.00242807 -0.00296924 -0.00281215]\n",
      "   [-0.00268927 -0.00314646 -0.00295853]]\n",
      "\n",
      "  ..., \n",
      "  [[-0.00258789 -0.00290136 -0.0029432 ]\n",
      "   [-0.00256895 -0.00299919 -0.00298862]\n",
      "   [-0.00254826 -0.00284159 -0.00297688]\n",
      "   ..., \n",
      "   [-0.00235388 -0.00272741 -0.00279298]\n",
      "   [-0.00230351 -0.00280913 -0.00279246]\n",
      "   [-0.00227712 -0.0026566  -0.00252703]]\n",
      "\n",
      "  [[-0.00260388 -0.00299386 -0.00284799]\n",
      "   [-0.0023809  -0.00274259 -0.0028669 ]\n",
      "   [-0.0024747  -0.00290182 -0.002899  ]\n",
      "   ..., \n",
      "   [-0.00218098 -0.00248794 -0.00263278]\n",
      "   [-0.0021445  -0.00252913 -0.00242043]\n",
      "   [-0.00194162 -0.00262882 -0.00244004]]\n",
      "\n",
      "  [[-0.00232007 -0.00275186 -0.0027069 ]\n",
      "   [-0.00224344 -0.00292453 -0.00294251]\n",
      "   [-0.00231756 -0.00268449 -0.00281264]\n",
      "   ..., \n",
      "   [-0.00203138 -0.00241055 -0.00243143]\n",
      "   [-0.00182915 -0.0023209  -0.002328  ]\n",
      "   [-0.00207301 -0.00265311 -0.00242804]]]]\n"
     ]
    }
   ],
   "source": [
    "print(train_data[:1])"
   ]
  },
  {
   "cell_type": "markdown",
   "metadata": {},
   "source": [
    "## Splitting the data"
   ]
  },
  {
   "cell_type": "code",
   "execution_count": 33,
   "metadata": {
    "collapsed": true
   },
   "outputs": [],
   "source": [
    "X_train, X_val, Y_train, Y_val = split_validation_set(train_data, train_target, 0.3)"
   ]
  },
  {
   "cell_type": "code",
   "execution_count": 34,
   "metadata": {},
   "outputs": [
    {
     "name": "stdout",
     "output_type": "stream",
     "text": [
      "(5747, 32, 32, 3)\n"
     ]
    }
   ],
   "source": [
    "print(X_train.shape)"
   ]
  },
  {
   "cell_type": "markdown",
   "metadata": {},
   "source": [
    "# Now building the model"
   ]
  },
  {
   "cell_type": "code",
   "execution_count": 35,
   "metadata": {
    "collapsed": true
   },
   "outputs": [],
   "source": [
    "def printTrainableLayers(model):\n",
    "    for i, layer in enumerate(model.layers):\n",
    "       if layer.trainable == True: \n",
    "           print(i, layer.name)"
   ]
  },
  {
   "cell_type": "code",
   "execution_count": 36,
   "metadata": {
    "collapsed": true
   },
   "outputs": [],
   "source": [
    "def printAllLayers(model):\n",
    "    for i, layer in enumerate(model.layers):\n",
    "       print(i, layer.name)"
   ]
  },
  {
   "cell_type": "code",
   "execution_count": 37,
   "metadata": {
    "collapsed": true
   },
   "outputs": [],
   "source": [
    "image_dim = (32, 32, 3)"
   ]
  },
  {
   "cell_type": "code",
   "execution_count": 46,
   "metadata": {},
   "outputs": [
    {
     "name": "stdout",
     "output_type": "stream",
     "text": [
      "DenseNet-40-12 created.\n"
     ]
    }
   ],
   "source": [
    "model = densenet_fast.create_dense_net(nb_classes=3, img_dim=image_dim, depth=40, growth_rate=12, dropout_rate=0.2, \n",
    "                                       verbose=True)"
   ]
  },
  {
   "cell_type": "code",
   "execution_count": 47,
   "metadata": {},
   "outputs": [
    {
     "name": "stdout",
     "output_type": "stream",
     "text": [
      "____________________________________________________________________________________________________\n",
      "Layer (type)                     Output Shape          Param #     Connected to                     \n",
      "====================================================================================================\n",
      "input_2 (InputLayer)             (None, 32, 32, 3)     0                                            \n",
      "____________________________________________________________________________________________________\n",
      "initial_conv2D (Conv2D)          (None, 32, 32, 16)    432         input_2[0][0]                    \n",
      "____________________________________________________________________________________________________\n",
      "batch_normalization_4 (BatchNorm (None, 32, 32, 16)    64          initial_conv2D[0][0]             \n",
      "____________________________________________________________________________________________________\n",
      "activation_38 (Activation)       (None, 32, 32, 16)    0           batch_normalization_4[0][0]      \n",
      "____________________________________________________________________________________________________\n",
      "conv2d_39 (Conv2D)               (None, 32, 32, 12)    1728        activation_38[0][0]              \n",
      "____________________________________________________________________________________________________\n",
      "dropout_1 (Dropout)              (None, 32, 32, 12)    0           conv2d_39[0][0]                  \n",
      "____________________________________________________________________________________________________\n",
      "merge_37 (Merge)                 (None, 32, 32, 28)    0           batch_normalization_4[0][0]      \n",
      "                                                                   dropout_1[0][0]                  \n",
      "____________________________________________________________________________________________________\n",
      "activation_39 (Activation)       (None, 32, 32, 28)    0           merge_37[0][0]                   \n",
      "____________________________________________________________________________________________________\n",
      "conv2d_40 (Conv2D)               (None, 32, 32, 12)    3024        activation_39[0][0]              \n",
      "____________________________________________________________________________________________________\n",
      "dropout_2 (Dropout)              (None, 32, 32, 12)    0           conv2d_40[0][0]                  \n",
      "____________________________________________________________________________________________________\n",
      "merge_38 (Merge)                 (None, 32, 32, 40)    0           batch_normalization_4[0][0]      \n",
      "                                                                   dropout_1[0][0]                  \n",
      "                                                                   dropout_2[0][0]                  \n",
      "____________________________________________________________________________________________________\n",
      "activation_40 (Activation)       (None, 32, 32, 40)    0           merge_38[0][0]                   \n",
      "____________________________________________________________________________________________________\n",
      "conv2d_41 (Conv2D)               (None, 32, 32, 12)    4320        activation_40[0][0]              \n",
      "____________________________________________________________________________________________________\n",
      "dropout_3 (Dropout)              (None, 32, 32, 12)    0           conv2d_41[0][0]                  \n",
      "____________________________________________________________________________________________________\n",
      "merge_39 (Merge)                 (None, 32, 32, 52)    0           batch_normalization_4[0][0]      \n",
      "                                                                   dropout_1[0][0]                  \n",
      "                                                                   dropout_2[0][0]                  \n",
      "                                                                   dropout_3[0][0]                  \n",
      "____________________________________________________________________________________________________\n",
      "activation_41 (Activation)       (None, 32, 32, 52)    0           merge_39[0][0]                   \n",
      "____________________________________________________________________________________________________\n",
      "conv2d_42 (Conv2D)               (None, 32, 32, 12)    5616        activation_41[0][0]              \n",
      "____________________________________________________________________________________________________\n",
      "dropout_4 (Dropout)              (None, 32, 32, 12)    0           conv2d_42[0][0]                  \n",
      "____________________________________________________________________________________________________\n",
      "merge_40 (Merge)                 (None, 32, 32, 64)    0           batch_normalization_4[0][0]      \n",
      "                                                                   dropout_1[0][0]                  \n",
      "                                                                   dropout_2[0][0]                  \n",
      "                                                                   dropout_3[0][0]                  \n",
      "                                                                   dropout_4[0][0]                  \n",
      "____________________________________________________________________________________________________\n",
      "activation_42 (Activation)       (None, 32, 32, 64)    0           merge_40[0][0]                   \n",
      "____________________________________________________________________________________________________\n",
      "conv2d_43 (Conv2D)               (None, 32, 32, 12)    6912        activation_42[0][0]              \n",
      "____________________________________________________________________________________________________\n",
      "dropout_5 (Dropout)              (None, 32, 32, 12)    0           conv2d_43[0][0]                  \n",
      "____________________________________________________________________________________________________\n",
      "merge_41 (Merge)                 (None, 32, 32, 76)    0           batch_normalization_4[0][0]      \n",
      "                                                                   dropout_1[0][0]                  \n",
      "                                                                   dropout_2[0][0]                  \n",
      "                                                                   dropout_3[0][0]                  \n",
      "                                                                   dropout_4[0][0]                  \n",
      "                                                                   dropout_5[0][0]                  \n",
      "____________________________________________________________________________________________________\n",
      "activation_43 (Activation)       (None, 32, 32, 76)    0           merge_41[0][0]                   \n",
      "____________________________________________________________________________________________________\n",
      "conv2d_44 (Conv2D)               (None, 32, 32, 12)    8208        activation_43[0][0]              \n",
      "____________________________________________________________________________________________________\n",
      "dropout_6 (Dropout)              (None, 32, 32, 12)    0           conv2d_44[0][0]                  \n",
      "____________________________________________________________________________________________________\n",
      "merge_42 (Merge)                 (None, 32, 32, 88)    0           batch_normalization_4[0][0]      \n",
      "                                                                   dropout_1[0][0]                  \n",
      "                                                                   dropout_2[0][0]                  \n",
      "                                                                   dropout_3[0][0]                  \n",
      "                                                                   dropout_4[0][0]                  \n",
      "                                                                   dropout_5[0][0]                  \n",
      "                                                                   dropout_6[0][0]                  \n",
      "____________________________________________________________________________________________________\n",
      "activation_44 (Activation)       (None, 32, 32, 88)    0           merge_42[0][0]                   \n",
      "____________________________________________________________________________________________________\n",
      "conv2d_45 (Conv2D)               (None, 32, 32, 12)    9504        activation_44[0][0]              \n",
      "____________________________________________________________________________________________________\n",
      "dropout_7 (Dropout)              (None, 32, 32, 12)    0           conv2d_45[0][0]                  \n",
      "____________________________________________________________________________________________________\n",
      "merge_43 (Merge)                 (None, 32, 32, 100)   0           batch_normalization_4[0][0]      \n",
      "                                                                   dropout_1[0][0]                  \n",
      "                                                                   dropout_2[0][0]                  \n",
      "                                                                   dropout_3[0][0]                  \n",
      "                                                                   dropout_4[0][0]                  \n",
      "                                                                   dropout_5[0][0]                  \n",
      "                                                                   dropout_6[0][0]                  \n",
      "                                                                   dropout_7[0][0]                  \n",
      "____________________________________________________________________________________________________\n",
      "activation_45 (Activation)       (None, 32, 32, 100)   0           merge_43[0][0]                   \n",
      "____________________________________________________________________________________________________\n",
      "conv2d_46 (Conv2D)               (None, 32, 32, 12)    10800       activation_45[0][0]              \n",
      "____________________________________________________________________________________________________\n",
      "dropout_8 (Dropout)              (None, 32, 32, 12)    0           conv2d_46[0][0]                  \n",
      "____________________________________________________________________________________________________\n",
      "merge_44 (Merge)                 (None, 32, 32, 112)   0           batch_normalization_4[0][0]      \n",
      "                                                                   dropout_1[0][0]                  \n",
      "                                                                   dropout_2[0][0]                  \n",
      "                                                                   dropout_3[0][0]                  \n",
      "                                                                   dropout_4[0][0]                  \n",
      "                                                                   dropout_5[0][0]                  \n",
      "                                                                   dropout_6[0][0]                  \n",
      "                                                                   dropout_7[0][0]                  \n",
      "                                                                   dropout_8[0][0]                  \n",
      "____________________________________________________________________________________________________\n",
      "activation_46 (Activation)       (None, 32, 32, 112)   0           merge_44[0][0]                   \n",
      "____________________________________________________________________________________________________\n",
      "conv2d_47 (Conv2D)               (None, 32, 32, 12)    12096       activation_46[0][0]              \n",
      "____________________________________________________________________________________________________\n",
      "dropout_9 (Dropout)              (None, 32, 32, 12)    0           conv2d_47[0][0]                  \n",
      "____________________________________________________________________________________________________\n",
      "merge_45 (Merge)                 (None, 32, 32, 124)   0           batch_normalization_4[0][0]      \n",
      "                                                                   dropout_1[0][0]                  \n",
      "                                                                   dropout_2[0][0]                  \n",
      "                                                                   dropout_3[0][0]                  \n",
      "                                                                   dropout_4[0][0]                  \n",
      "                                                                   dropout_5[0][0]                  \n",
      "                                                                   dropout_6[0][0]                  \n",
      "                                                                   dropout_7[0][0]                  \n",
      "                                                                   dropout_8[0][0]                  \n",
      "                                                                   dropout_9[0][0]                  \n",
      "____________________________________________________________________________________________________\n",
      "activation_47 (Activation)       (None, 32, 32, 124)   0           merge_45[0][0]                   \n",
      "____________________________________________________________________________________________________\n",
      "conv2d_48 (Conv2D)               (None, 32, 32, 12)    13392       activation_47[0][0]              \n",
      "____________________________________________________________________________________________________\n",
      "dropout_10 (Dropout)             (None, 32, 32, 12)    0           conv2d_48[0][0]                  \n",
      "____________________________________________________________________________________________________\n",
      "merge_46 (Merge)                 (None, 32, 32, 136)   0           batch_normalization_4[0][0]      \n",
      "                                                                   dropout_1[0][0]                  \n",
      "                                                                   dropout_2[0][0]                  \n",
      "                                                                   dropout_3[0][0]                  \n",
      "                                                                   dropout_4[0][0]                  \n",
      "                                                                   dropout_5[0][0]                  \n",
      "                                                                   dropout_6[0][0]                  \n",
      "                                                                   dropout_7[0][0]                  \n",
      "                                                                   dropout_8[0][0]                  \n",
      "                                                                   dropout_9[0][0]                  \n",
      "                                                                   dropout_10[0][0]                 \n",
      "____________________________________________________________________________________________________\n",
      "activation_48 (Activation)       (None, 32, 32, 136)   0           merge_46[0][0]                   \n",
      "____________________________________________________________________________________________________\n",
      "conv2d_49 (Conv2D)               (None, 32, 32, 12)    14688       activation_48[0][0]              \n",
      "____________________________________________________________________________________________________\n",
      "dropout_11 (Dropout)             (None, 32, 32, 12)    0           conv2d_49[0][0]                  \n",
      "____________________________________________________________________________________________________\n",
      "merge_47 (Merge)                 (None, 32, 32, 148)   0           batch_normalization_4[0][0]      \n",
      "                                                                   dropout_1[0][0]                  \n",
      "                                                                   dropout_2[0][0]                  \n",
      "                                                                   dropout_3[0][0]                  \n",
      "                                                                   dropout_4[0][0]                  \n",
      "                                                                   dropout_5[0][0]                  \n",
      "                                                                   dropout_6[0][0]                  \n",
      "                                                                   dropout_7[0][0]                  \n",
      "                                                                   dropout_8[0][0]                  \n",
      "                                                                   dropout_9[0][0]                  \n",
      "                                                                   dropout_10[0][0]                 \n",
      "                                                                   dropout_11[0][0]                 \n",
      "____________________________________________________________________________________________________\n",
      "activation_49 (Activation)       (None, 32, 32, 148)   0           merge_47[0][0]                   \n",
      "____________________________________________________________________________________________________\n",
      "conv2d_50 (Conv2D)               (None, 32, 32, 12)    15984       activation_49[0][0]              \n",
      "____________________________________________________________________________________________________\n",
      "dropout_12 (Dropout)             (None, 32, 32, 12)    0           conv2d_50[0][0]                  \n",
      "____________________________________________________________________________________________________\n",
      "merge_48 (Merge)                 (None, 32, 32, 160)   0           batch_normalization_4[0][0]      \n",
      "                                                                   dropout_1[0][0]                  \n",
      "                                                                   dropout_2[0][0]                  \n",
      "                                                                   dropout_3[0][0]                  \n",
      "                                                                   dropout_4[0][0]                  \n",
      "                                                                   dropout_5[0][0]                  \n",
      "                                                                   dropout_6[0][0]                  \n",
      "                                                                   dropout_7[0][0]                  \n",
      "                                                                   dropout_8[0][0]                  \n",
      "                                                                   dropout_9[0][0]                  \n",
      "                                                                   dropout_10[0][0]                 \n",
      "                                                                   dropout_11[0][0]                 \n",
      "                                                                   dropout_12[0][0]                 \n",
      "____________________________________________________________________________________________________\n",
      "conv2d_51 (Conv2D)               (None, 32, 32, 160)   25600       merge_48[0][0]                   \n",
      "____________________________________________________________________________________________________\n",
      "dropout_13 (Dropout)             (None, 32, 32, 160)   0           conv2d_51[0][0]                  \n",
      "____________________________________________________________________________________________________\n",
      "average_pooling2d_3 (AveragePool (None, 16, 16, 160)   0           dropout_13[0][0]                 \n",
      "____________________________________________________________________________________________________\n",
      "batch_normalization_5 (BatchNorm (None, 16, 16, 160)   640         average_pooling2d_3[0][0]        \n",
      "____________________________________________________________________________________________________\n",
      "activation_50 (Activation)       (None, 16, 16, 160)   0           batch_normalization_5[0][0]      \n",
      "____________________________________________________________________________________________________\n",
      "conv2d_52 (Conv2D)               (None, 16, 16, 12)    17280       activation_50[0][0]              \n",
      "____________________________________________________________________________________________________\n",
      "dropout_14 (Dropout)             (None, 16, 16, 12)    0           conv2d_52[0][0]                  \n",
      "____________________________________________________________________________________________________\n",
      "merge_49 (Merge)                 (None, 16, 16, 172)   0           batch_normalization_5[0][0]      \n",
      "                                                                   dropout_14[0][0]                 \n",
      "____________________________________________________________________________________________________\n",
      "activation_51 (Activation)       (None, 16, 16, 172)   0           merge_49[0][0]                   \n",
      "____________________________________________________________________________________________________\n",
      "conv2d_53 (Conv2D)               (None, 16, 16, 12)    18576       activation_51[0][0]              \n",
      "____________________________________________________________________________________________________\n",
      "dropout_15 (Dropout)             (None, 16, 16, 12)    0           conv2d_53[0][0]                  \n",
      "____________________________________________________________________________________________________\n",
      "merge_50 (Merge)                 (None, 16, 16, 184)   0           batch_normalization_5[0][0]      \n",
      "                                                                   dropout_14[0][0]                 \n",
      "                                                                   dropout_15[0][0]                 \n",
      "____________________________________________________________________________________________________\n",
      "activation_52 (Activation)       (None, 16, 16, 184)   0           merge_50[0][0]                   \n",
      "____________________________________________________________________________________________________\n",
      "conv2d_54 (Conv2D)               (None, 16, 16, 12)    19872       activation_52[0][0]              \n",
      "____________________________________________________________________________________________________\n",
      "dropout_16 (Dropout)             (None, 16, 16, 12)    0           conv2d_54[0][0]                  \n",
      "____________________________________________________________________________________________________\n",
      "merge_51 (Merge)                 (None, 16, 16, 196)   0           batch_normalization_5[0][0]      \n",
      "                                                                   dropout_14[0][0]                 \n",
      "                                                                   dropout_15[0][0]                 \n",
      "                                                                   dropout_16[0][0]                 \n",
      "____________________________________________________________________________________________________\n",
      "activation_53 (Activation)       (None, 16, 16, 196)   0           merge_51[0][0]                   \n",
      "____________________________________________________________________________________________________\n",
      "conv2d_55 (Conv2D)               (None, 16, 16, 12)    21168       activation_53[0][0]              \n",
      "____________________________________________________________________________________________________\n",
      "dropout_17 (Dropout)             (None, 16, 16, 12)    0           conv2d_55[0][0]                  \n",
      "____________________________________________________________________________________________________\n",
      "merge_52 (Merge)                 (None, 16, 16, 208)   0           batch_normalization_5[0][0]      \n",
      "                                                                   dropout_14[0][0]                 \n",
      "                                                                   dropout_15[0][0]                 \n",
      "                                                                   dropout_16[0][0]                 \n",
      "                                                                   dropout_17[0][0]                 \n",
      "____________________________________________________________________________________________________\n",
      "activation_54 (Activation)       (None, 16, 16, 208)   0           merge_52[0][0]                   \n",
      "____________________________________________________________________________________________________\n",
      "conv2d_56 (Conv2D)               (None, 16, 16, 12)    22464       activation_54[0][0]              \n",
      "____________________________________________________________________________________________________\n",
      "dropout_18 (Dropout)             (None, 16, 16, 12)    0           conv2d_56[0][0]                  \n",
      "____________________________________________________________________________________________________\n",
      "merge_53 (Merge)                 (None, 16, 16, 220)   0           batch_normalization_5[0][0]      \n",
      "                                                                   dropout_14[0][0]                 \n",
      "                                                                   dropout_15[0][0]                 \n",
      "                                                                   dropout_16[0][0]                 \n",
      "                                                                   dropout_17[0][0]                 \n",
      "                                                                   dropout_18[0][0]                 \n",
      "____________________________________________________________________________________________________\n",
      "activation_55 (Activation)       (None, 16, 16, 220)   0           merge_53[0][0]                   \n",
      "____________________________________________________________________________________________________\n",
      "conv2d_57 (Conv2D)               (None, 16, 16, 12)    23760       activation_55[0][0]              \n",
      "____________________________________________________________________________________________________\n",
      "dropout_19 (Dropout)             (None, 16, 16, 12)    0           conv2d_57[0][0]                  \n",
      "____________________________________________________________________________________________________\n",
      "merge_54 (Merge)                 (None, 16, 16, 232)   0           batch_normalization_5[0][0]      \n",
      "                                                                   dropout_14[0][0]                 \n",
      "                                                                   dropout_15[0][0]                 \n",
      "                                                                   dropout_16[0][0]                 \n",
      "                                                                   dropout_17[0][0]                 \n",
      "                                                                   dropout_18[0][0]                 \n",
      "                                                                   dropout_19[0][0]                 \n",
      "____________________________________________________________________________________________________\n",
      "activation_56 (Activation)       (None, 16, 16, 232)   0           merge_54[0][0]                   \n",
      "____________________________________________________________________________________________________\n",
      "conv2d_58 (Conv2D)               (None, 16, 16, 12)    25056       activation_56[0][0]              \n",
      "____________________________________________________________________________________________________\n",
      "dropout_20 (Dropout)             (None, 16, 16, 12)    0           conv2d_58[0][0]                  \n",
      "____________________________________________________________________________________________________\n",
      "merge_55 (Merge)                 (None, 16, 16, 244)   0           batch_normalization_5[0][0]      \n",
      "                                                                   dropout_14[0][0]                 \n",
      "                                                                   dropout_15[0][0]                 \n",
      "                                                                   dropout_16[0][0]                 \n",
      "                                                                   dropout_17[0][0]                 \n",
      "                                                                   dropout_18[0][0]                 \n",
      "                                                                   dropout_19[0][0]                 \n",
      "                                                                   dropout_20[0][0]                 \n",
      "____________________________________________________________________________________________________\n",
      "activation_57 (Activation)       (None, 16, 16, 244)   0           merge_55[0][0]                   \n",
      "____________________________________________________________________________________________________\n",
      "conv2d_59 (Conv2D)               (None, 16, 16, 12)    26352       activation_57[0][0]              \n",
      "____________________________________________________________________________________________________\n",
      "dropout_21 (Dropout)             (None, 16, 16, 12)    0           conv2d_59[0][0]                  \n",
      "____________________________________________________________________________________________________\n",
      "merge_56 (Merge)                 (None, 16, 16, 256)   0           batch_normalization_5[0][0]      \n",
      "                                                                   dropout_14[0][0]                 \n",
      "                                                                   dropout_15[0][0]                 \n",
      "                                                                   dropout_16[0][0]                 \n",
      "                                                                   dropout_17[0][0]                 \n",
      "                                                                   dropout_18[0][0]                 \n",
      "                                                                   dropout_19[0][0]                 \n",
      "                                                                   dropout_20[0][0]                 \n",
      "                                                                   dropout_21[0][0]                 \n",
      "____________________________________________________________________________________________________\n",
      "activation_58 (Activation)       (None, 16, 16, 256)   0           merge_56[0][0]                   \n",
      "____________________________________________________________________________________________________\n",
      "conv2d_60 (Conv2D)               (None, 16, 16, 12)    27648       activation_58[0][0]              \n",
      "____________________________________________________________________________________________________\n",
      "dropout_22 (Dropout)             (None, 16, 16, 12)    0           conv2d_60[0][0]                  \n",
      "____________________________________________________________________________________________________\n",
      "merge_57 (Merge)                 (None, 16, 16, 268)   0           batch_normalization_5[0][0]      \n",
      "                                                                   dropout_14[0][0]                 \n",
      "                                                                   dropout_15[0][0]                 \n",
      "                                                                   dropout_16[0][0]                 \n",
      "                                                                   dropout_17[0][0]                 \n",
      "                                                                   dropout_18[0][0]                 \n",
      "                                                                   dropout_19[0][0]                 \n",
      "                                                                   dropout_20[0][0]                 \n",
      "                                                                   dropout_21[0][0]                 \n",
      "                                                                   dropout_22[0][0]                 \n",
      "____________________________________________________________________________________________________\n",
      "activation_59 (Activation)       (None, 16, 16, 268)   0           merge_57[0][0]                   \n",
      "____________________________________________________________________________________________________\n",
      "conv2d_61 (Conv2D)               (None, 16, 16, 12)    28944       activation_59[0][0]              \n",
      "____________________________________________________________________________________________________\n",
      "dropout_23 (Dropout)             (None, 16, 16, 12)    0           conv2d_61[0][0]                  \n",
      "____________________________________________________________________________________________________\n",
      "merge_58 (Merge)                 (None, 16, 16, 280)   0           batch_normalization_5[0][0]      \n",
      "                                                                   dropout_14[0][0]                 \n",
      "                                                                   dropout_15[0][0]                 \n",
      "                                                                   dropout_16[0][0]                 \n",
      "                                                                   dropout_17[0][0]                 \n",
      "                                                                   dropout_18[0][0]                 \n",
      "                                                                   dropout_19[0][0]                 \n",
      "                                                                   dropout_20[0][0]                 \n",
      "                                                                   dropout_21[0][0]                 \n",
      "                                                                   dropout_22[0][0]                 \n",
      "                                                                   dropout_23[0][0]                 \n",
      "____________________________________________________________________________________________________\n",
      "activation_60 (Activation)       (None, 16, 16, 280)   0           merge_58[0][0]                   \n",
      "____________________________________________________________________________________________________\n",
      "conv2d_62 (Conv2D)               (None, 16, 16, 12)    30240       activation_60[0][0]              \n",
      "____________________________________________________________________________________________________\n",
      "dropout_24 (Dropout)             (None, 16, 16, 12)    0           conv2d_62[0][0]                  \n",
      "____________________________________________________________________________________________________\n",
      "merge_59 (Merge)                 (None, 16, 16, 292)   0           batch_normalization_5[0][0]      \n",
      "                                                                   dropout_14[0][0]                 \n",
      "                                                                   dropout_15[0][0]                 \n",
      "                                                                   dropout_16[0][0]                 \n",
      "                                                                   dropout_17[0][0]                 \n",
      "                                                                   dropout_18[0][0]                 \n",
      "                                                                   dropout_19[0][0]                 \n",
      "                                                                   dropout_20[0][0]                 \n",
      "                                                                   dropout_21[0][0]                 \n",
      "                                                                   dropout_22[0][0]                 \n",
      "                                                                   dropout_23[0][0]                 \n",
      "                                                                   dropout_24[0][0]                 \n",
      "____________________________________________________________________________________________________\n",
      "activation_61 (Activation)       (None, 16, 16, 292)   0           merge_59[0][0]                   \n",
      "____________________________________________________________________________________________________\n",
      "conv2d_63 (Conv2D)               (None, 16, 16, 12)    31536       activation_61[0][0]              \n",
      "____________________________________________________________________________________________________\n",
      "dropout_25 (Dropout)             (None, 16, 16, 12)    0           conv2d_63[0][0]                  \n",
      "____________________________________________________________________________________________________\n",
      "merge_60 (Merge)                 (None, 16, 16, 304)   0           batch_normalization_5[0][0]      \n",
      "                                                                   dropout_14[0][0]                 \n",
      "                                                                   dropout_15[0][0]                 \n",
      "                                                                   dropout_16[0][0]                 \n",
      "                                                                   dropout_17[0][0]                 \n",
      "                                                                   dropout_18[0][0]                 \n",
      "                                                                   dropout_19[0][0]                 \n",
      "                                                                   dropout_20[0][0]                 \n",
      "                                                                   dropout_21[0][0]                 \n",
      "                                                                   dropout_22[0][0]                 \n",
      "                                                                   dropout_23[0][0]                 \n",
      "                                                                   dropout_24[0][0]                 \n",
      "                                                                   dropout_25[0][0]                 \n",
      "____________________________________________________________________________________________________\n",
      "conv2d_64 (Conv2D)               (None, 16, 16, 304)   92416       merge_60[0][0]                   \n",
      "____________________________________________________________________________________________________\n",
      "dropout_26 (Dropout)             (None, 16, 16, 304)   0           conv2d_64[0][0]                  \n",
      "____________________________________________________________________________________________________\n",
      "average_pooling2d_4 (AveragePool (None, 8, 8, 304)     0           dropout_26[0][0]                 \n",
      "____________________________________________________________________________________________________\n",
      "batch_normalization_6 (BatchNorm (None, 8, 8, 304)     1216        average_pooling2d_4[0][0]        \n",
      "____________________________________________________________________________________________________\n",
      "activation_62 (Activation)       (None, 8, 8, 304)     0           batch_normalization_6[0][0]      \n",
      "____________________________________________________________________________________________________\n",
      "conv2d_65 (Conv2D)               (None, 8, 8, 12)      32832       activation_62[0][0]              \n",
      "____________________________________________________________________________________________________\n",
      "dropout_27 (Dropout)             (None, 8, 8, 12)      0           conv2d_65[0][0]                  \n",
      "____________________________________________________________________________________________________\n",
      "merge_61 (Merge)                 (None, 8, 8, 316)     0           batch_normalization_6[0][0]      \n",
      "                                                                   dropout_27[0][0]                 \n",
      "____________________________________________________________________________________________________\n",
      "activation_63 (Activation)       (None, 8, 8, 316)     0           merge_61[0][0]                   \n",
      "____________________________________________________________________________________________________\n",
      "conv2d_66 (Conv2D)               (None, 8, 8, 12)      34128       activation_63[0][0]              \n",
      "____________________________________________________________________________________________________\n",
      "dropout_28 (Dropout)             (None, 8, 8, 12)      0           conv2d_66[0][0]                  \n",
      "____________________________________________________________________________________________________\n",
      "merge_62 (Merge)                 (None, 8, 8, 328)     0           batch_normalization_6[0][0]      \n",
      "                                                                   dropout_27[0][0]                 \n",
      "                                                                   dropout_28[0][0]                 \n",
      "____________________________________________________________________________________________________\n",
      "activation_64 (Activation)       (None, 8, 8, 328)     0           merge_62[0][0]                   \n",
      "____________________________________________________________________________________________________\n",
      "conv2d_67 (Conv2D)               (None, 8, 8, 12)      35424       activation_64[0][0]              \n",
      "____________________________________________________________________________________________________\n",
      "dropout_29 (Dropout)             (None, 8, 8, 12)      0           conv2d_67[0][0]                  \n",
      "____________________________________________________________________________________________________\n",
      "merge_63 (Merge)                 (None, 8, 8, 340)     0           batch_normalization_6[0][0]      \n",
      "                                                                   dropout_27[0][0]                 \n",
      "                                                                   dropout_28[0][0]                 \n",
      "                                                                   dropout_29[0][0]                 \n",
      "____________________________________________________________________________________________________\n",
      "activation_65 (Activation)       (None, 8, 8, 340)     0           merge_63[0][0]                   \n",
      "____________________________________________________________________________________________________\n",
      "conv2d_68 (Conv2D)               (None, 8, 8, 12)      36720       activation_65[0][0]              \n",
      "____________________________________________________________________________________________________\n",
      "dropout_30 (Dropout)             (None, 8, 8, 12)      0           conv2d_68[0][0]                  \n",
      "____________________________________________________________________________________________________\n",
      "merge_64 (Merge)                 (None, 8, 8, 352)     0           batch_normalization_6[0][0]      \n",
      "                                                                   dropout_27[0][0]                 \n",
      "                                                                   dropout_28[0][0]                 \n",
      "                                                                   dropout_29[0][0]                 \n",
      "                                                                   dropout_30[0][0]                 \n",
      "____________________________________________________________________________________________________\n",
      "activation_66 (Activation)       (None, 8, 8, 352)     0           merge_64[0][0]                   \n",
      "____________________________________________________________________________________________________\n",
      "conv2d_69 (Conv2D)               (None, 8, 8, 12)      38016       activation_66[0][0]              \n",
      "____________________________________________________________________________________________________\n",
      "dropout_31 (Dropout)             (None, 8, 8, 12)      0           conv2d_69[0][0]                  \n",
      "____________________________________________________________________________________________________\n",
      "merge_65 (Merge)                 (None, 8, 8, 364)     0           batch_normalization_6[0][0]      \n",
      "                                                                   dropout_27[0][0]                 \n",
      "                                                                   dropout_28[0][0]                 \n",
      "                                                                   dropout_29[0][0]                 \n",
      "                                                                   dropout_30[0][0]                 \n",
      "                                                                   dropout_31[0][0]                 \n",
      "____________________________________________________________________________________________________\n",
      "activation_67 (Activation)       (None, 8, 8, 364)     0           merge_65[0][0]                   \n",
      "____________________________________________________________________________________________________\n",
      "conv2d_70 (Conv2D)               (None, 8, 8, 12)      39312       activation_67[0][0]              \n",
      "____________________________________________________________________________________________________\n",
      "dropout_32 (Dropout)             (None, 8, 8, 12)      0           conv2d_70[0][0]                  \n",
      "____________________________________________________________________________________________________\n",
      "merge_66 (Merge)                 (None, 8, 8, 376)     0           batch_normalization_6[0][0]      \n",
      "                                                                   dropout_27[0][0]                 \n",
      "                                                                   dropout_28[0][0]                 \n",
      "                                                                   dropout_29[0][0]                 \n",
      "                                                                   dropout_30[0][0]                 \n",
      "                                                                   dropout_31[0][0]                 \n",
      "                                                                   dropout_32[0][0]                 \n",
      "____________________________________________________________________________________________________\n",
      "activation_68 (Activation)       (None, 8, 8, 376)     0           merge_66[0][0]                   \n",
      "____________________________________________________________________________________________________\n",
      "conv2d_71 (Conv2D)               (None, 8, 8, 12)      40608       activation_68[0][0]              \n",
      "____________________________________________________________________________________________________\n",
      "dropout_33 (Dropout)             (None, 8, 8, 12)      0           conv2d_71[0][0]                  \n",
      "____________________________________________________________________________________________________\n",
      "merge_67 (Merge)                 (None, 8, 8, 388)     0           batch_normalization_6[0][0]      \n",
      "                                                                   dropout_27[0][0]                 \n",
      "                                                                   dropout_28[0][0]                 \n",
      "                                                                   dropout_29[0][0]                 \n",
      "                                                                   dropout_30[0][0]                 \n",
      "                                                                   dropout_31[0][0]                 \n",
      "                                                                   dropout_32[0][0]                 \n",
      "                                                                   dropout_33[0][0]                 \n",
      "____________________________________________________________________________________________________\n",
      "activation_69 (Activation)       (None, 8, 8, 388)     0           merge_67[0][0]                   \n",
      "____________________________________________________________________________________________________\n",
      "conv2d_72 (Conv2D)               (None, 8, 8, 12)      41904       activation_69[0][0]              \n",
      "____________________________________________________________________________________________________\n",
      "dropout_34 (Dropout)             (None, 8, 8, 12)      0           conv2d_72[0][0]                  \n",
      "____________________________________________________________________________________________________\n",
      "merge_68 (Merge)                 (None, 8, 8, 400)     0           batch_normalization_6[0][0]      \n",
      "                                                                   dropout_27[0][0]                 \n",
      "                                                                   dropout_28[0][0]                 \n",
      "                                                                   dropout_29[0][0]                 \n",
      "                                                                   dropout_30[0][0]                 \n",
      "                                                                   dropout_31[0][0]                 \n",
      "                                                                   dropout_32[0][0]                 \n",
      "                                                                   dropout_33[0][0]                 \n",
      "                                                                   dropout_34[0][0]                 \n",
      "____________________________________________________________________________________________________\n",
      "activation_70 (Activation)       (None, 8, 8, 400)     0           merge_68[0][0]                   \n",
      "____________________________________________________________________________________________________\n",
      "conv2d_73 (Conv2D)               (None, 8, 8, 12)      43200       activation_70[0][0]              \n",
      "____________________________________________________________________________________________________\n",
      "dropout_35 (Dropout)             (None, 8, 8, 12)      0           conv2d_73[0][0]                  \n",
      "____________________________________________________________________________________________________\n",
      "merge_69 (Merge)                 (None, 8, 8, 412)     0           batch_normalization_6[0][0]      \n",
      "                                                                   dropout_27[0][0]                 \n",
      "                                                                   dropout_28[0][0]                 \n",
      "                                                                   dropout_29[0][0]                 \n",
      "                                                                   dropout_30[0][0]                 \n",
      "                                                                   dropout_31[0][0]                 \n",
      "                                                                   dropout_32[0][0]                 \n",
      "                                                                   dropout_33[0][0]                 \n",
      "                                                                   dropout_34[0][0]                 \n",
      "                                                                   dropout_35[0][0]                 \n",
      "____________________________________________________________________________________________________\n",
      "activation_71 (Activation)       (None, 8, 8, 412)     0           merge_69[0][0]                   \n",
      "____________________________________________________________________________________________________\n",
      "conv2d_74 (Conv2D)               (None, 8, 8, 12)      44496       activation_71[0][0]              \n",
      "____________________________________________________________________________________________________\n",
      "dropout_36 (Dropout)             (None, 8, 8, 12)      0           conv2d_74[0][0]                  \n",
      "____________________________________________________________________________________________________\n",
      "merge_70 (Merge)                 (None, 8, 8, 424)     0           batch_normalization_6[0][0]      \n",
      "                                                                   dropout_27[0][0]                 \n",
      "                                                                   dropout_28[0][0]                 \n",
      "                                                                   dropout_29[0][0]                 \n",
      "                                                                   dropout_30[0][0]                 \n",
      "                                                                   dropout_31[0][0]                 \n",
      "                                                                   dropout_32[0][0]                 \n",
      "                                                                   dropout_33[0][0]                 \n",
      "                                                                   dropout_34[0][0]                 \n",
      "                                                                   dropout_35[0][0]                 \n",
      "                                                                   dropout_36[0][0]                 \n",
      "____________________________________________________________________________________________________\n",
      "activation_72 (Activation)       (None, 8, 8, 424)     0           merge_70[0][0]                   \n",
      "____________________________________________________________________________________________________\n",
      "conv2d_75 (Conv2D)               (None, 8, 8, 12)      45792       activation_72[0][0]              \n",
      "____________________________________________________________________________________________________\n",
      "dropout_37 (Dropout)             (None, 8, 8, 12)      0           conv2d_75[0][0]                  \n",
      "____________________________________________________________________________________________________\n",
      "merge_71 (Merge)                 (None, 8, 8, 436)     0           batch_normalization_6[0][0]      \n",
      "                                                                   dropout_27[0][0]                 \n",
      "                                                                   dropout_28[0][0]                 \n",
      "                                                                   dropout_29[0][0]                 \n",
      "                                                                   dropout_30[0][0]                 \n",
      "                                                                   dropout_31[0][0]                 \n",
      "                                                                   dropout_32[0][0]                 \n",
      "                                                                   dropout_33[0][0]                 \n",
      "                                                                   dropout_34[0][0]                 \n",
      "                                                                   dropout_35[0][0]                 \n",
      "                                                                   dropout_36[0][0]                 \n",
      "                                                                   dropout_37[0][0]                 \n",
      "____________________________________________________________________________________________________\n",
      "activation_73 (Activation)       (None, 8, 8, 436)     0           merge_71[0][0]                   \n",
      "____________________________________________________________________________________________________\n",
      "conv2d_76 (Conv2D)               (None, 8, 8, 12)      47088       activation_73[0][0]              \n",
      "____________________________________________________________________________________________________\n",
      "dropout_38 (Dropout)             (None, 8, 8, 12)      0           conv2d_76[0][0]                  \n",
      "____________________________________________________________________________________________________\n",
      "merge_72 (Merge)                 (None, 8, 8, 448)     0           batch_normalization_6[0][0]      \n",
      "                                                                   dropout_27[0][0]                 \n",
      "                                                                   dropout_28[0][0]                 \n",
      "                                                                   dropout_29[0][0]                 \n",
      "                                                                   dropout_30[0][0]                 \n",
      "                                                                   dropout_31[0][0]                 \n",
      "                                                                   dropout_32[0][0]                 \n",
      "                                                                   dropout_33[0][0]                 \n",
      "                                                                   dropout_34[0][0]                 \n",
      "                                                                   dropout_35[0][0]                 \n",
      "                                                                   dropout_36[0][0]                 \n",
      "                                                                   dropout_37[0][0]                 \n",
      "                                                                   dropout_38[0][0]                 \n",
      "____________________________________________________________________________________________________\n",
      "activation_74 (Activation)       (None, 8, 8, 448)     0           merge_72[0][0]                   \n",
      "____________________________________________________________________________________________________\n",
      "global_average_pooling2d_2 (Glob (None, 448)           0           activation_74[0][0]              \n",
      "____________________________________________________________________________________________________\n",
      "dense_2 (Dense)                  (None, 3)             1347        global_average_pooling2d_2[0][0] \n",
      "====================================================================================================\n",
      "Total params: 1,000,403\n",
      "Trainable params: 999,443\n",
      "Non-trainable params: 960\n",
      "____________________________________________________________________________________________________\n"
     ]
    }
   ],
   "source": [
    "model.summary()"
   ]
  },
  {
   "cell_type": "code",
   "execution_count": 48,
   "metadata": {
    "collapsed": true
   },
   "outputs": [],
   "source": [
    "filepath=\"densenet_fast-improve-{epoch:02d}-{val_loss:}.hdf5\"\n",
    "checkpoint = ModelCheckpoint(filepath, monitor='val_loss', verbose=1, save_best_only=True, mode='min')\n",
    "callbacks_list = [checkpoint]\n",
    "tbCallBack = TensorBoard(log_dir='./graph_densenet', histogram_freq=0, write_graph=True, write_images=True)\n",
    "callbacks_list.append(tbCallBack)"
   ]
  },
  {
   "cell_type": "code",
   "execution_count": 51,
   "metadata": {},
   "outputs": [],
   "source": [
    "#opt = RMSprop(lr=1e-2, rho=0.9, decay=0.01)\n",
    "opt = SGD(lr=0.1, momentum=0.9, decay=0.9, nesterov=True)\n",
    "model.compile(optimizer=opt, loss='categorical_crossentropy', metrics=['categorical_accuracy'])"
   ]
  },
  {
   "cell_type": "code",
   "execution_count": 52,
   "metadata": {
    "collapsed": true
   },
   "outputs": [],
   "source": [
    "batch_size = 16\n",
    "nb_classes = 3\n",
    "nb_epoch = 150\n",
    "nb_train_samples = X_train.shape[0]\n",
    "nb_val_samples = X_val.shape[0]"
   ]
  },
  {
   "cell_type": "code",
   "execution_count": 53,
   "metadata": {
    "collapsed": true
   },
   "outputs": [],
   "source": [
    "#rescale=1./255, removed because of pre_process\n",
    "datagen = ImageDataGenerator()\n",
    "datagen.fit(train_data)"
   ]
  },
  {
   "cell_type": "code",
   "execution_count": 54,
   "metadata": {
    "collapsed": true
   },
   "outputs": [],
   "source": [
    "train_generator = datagen.flow(X_train,Y_train)"
   ]
  },
  {
   "cell_type": "markdown",
   "metadata": {},
   "source": [
    "Sample hat shape: (32,32,32,3)"
   ]
  },
  {
   "cell_type": "code",
   "execution_count": null,
   "metadata": {},
   "outputs": [
    {
     "name": "stdout",
     "output_type": "stream",
     "text": [
      "Epoch 1/150\n",
      "358/359 [============================>.] - ETA: 0s - loss: 1.2194 - categorical_accuracy: 0.5351Epoch 00000: val_loss improved from inf to 1.28532, saving model to densenet_fast-improve-00-1.28532430878.hdf5\n",
      "359/359 [==============================] - 61s - loss: 1.2198 - categorical_accuracy: 0.5344 - val_loss: 1.2853 - val_categorical_accuracy: 0.5041\n",
      "Epoch 2/150\n",
      "358/359 [============================>.] - ETA: 0s - loss: 1.2045 - categorical_accuracy: 0.5395Epoch 00001: val_loss improved from 1.28532 to 1.23447, saving model to densenet_fast-improve-01-1.23446780675.hdf5\n",
      "359/359 [==============================] - 54s - loss: 1.2046 - categorical_accuracy: 0.5393 - val_loss: 1.2345 - val_categorical_accuracy: 0.5077\n",
      "Epoch 3/150\n",
      "358/359 [============================>.] - ETA: 0s - loss: 1.1983 - categorical_accuracy: 0.5400Epoch 00002: val_loss improved from 1.23447 to 1.22599, saving model to densenet_fast-improve-02-1.22599308057.hdf5\n",
      "359/359 [==============================] - 54s - loss: 1.1984 - categorical_accuracy: 0.5398 - val_loss: 1.2260 - val_categorical_accuracy: 0.5069\n",
      "Epoch 4/150\n",
      "358/359 [============================>.] - ETA: 0s - loss: 1.2005 - categorical_accuracy: 0.5406Epoch 00003: val_loss did not improve\n",
      "359/359 [==============================] - 54s - loss: 1.2006 - categorical_accuracy: 0.5404 - val_loss: 1.2261 - val_categorical_accuracy: 0.5045\n",
      "Epoch 5/150\n",
      "358/359 [============================>.] - ETA: 0s - loss: 1.1987 - categorical_accuracy: 0.5407Epoch 00004: val_loss improved from 1.22599 to 1.22498, saving model to densenet_fast-improve-04-1.22498346768.hdf5\n",
      "359/359 [==============================] - 54s - loss: 1.1987 - categorical_accuracy: 0.5404 - val_loss: 1.2250 - val_categorical_accuracy: 0.5045\n",
      "Epoch 6/150\n",
      "358/359 [============================>.] - ETA: 0s - loss: 1.1999 - categorical_accuracy: 0.5395Epoch 00005: val_loss did not improve\n",
      "359/359 [==============================] - 54s - loss: 1.1999 - categorical_accuracy: 0.5395 - val_loss: 1.2253 - val_categorical_accuracy: 0.5045\n",
      "Epoch 7/150\n",
      "358/359 [============================>.] - ETA: 0s - loss: 1.1979 - categorical_accuracy: 0.5390Epoch 00006: val_loss improved from 1.22498 to 1.22362, saving model to densenet_fast-improve-06-1.22362109283.hdf5\n",
      "359/359 [==============================] - 54s - loss: 1.1978 - categorical_accuracy: 0.5390 - val_loss: 1.2236 - val_categorical_accuracy: 0.5053\n",
      "Epoch 8/150\n",
      "358/359 [============================>.] - ETA: 0s - loss: 1.1973 - categorical_accuracy: 0.5412Epoch 00007: val_loss improved from 1.22362 to 1.22297, saving model to densenet_fast-improve-07-1.22297276924.hdf5\n",
      "359/359 [==============================] - 54s - loss: 1.1978 - categorical_accuracy: 0.5409 - val_loss: 1.2230 - val_categorical_accuracy: 0.5065\n",
      "Epoch 9/150\n",
      "358/359 [============================>.] - ETA: 0s - loss: 1.1993 - categorical_accuracy: 0.5395Epoch 00008: val_loss improved from 1.22297 to 1.22287, saving model to densenet_fast-improve-08-1.22287021829.hdf5\n",
      "359/359 [==============================] - 54s - loss: 1.1991 - categorical_accuracy: 0.5400 - val_loss: 1.2229 - val_categorical_accuracy: 0.5041\n",
      "Epoch 10/150\n",
      "358/359 [============================>.] - ETA: 0s - loss: 1.1976 - categorical_accuracy: 0.5411Epoch 00009: val_loss did not improve\n",
      "359/359 [==============================] - 54s - loss: 1.1974 - categorical_accuracy: 0.5414 - val_loss: 1.2229 - val_categorical_accuracy: 0.5061\n",
      "Epoch 11/150\n",
      "358/359 [============================>.] - ETA: 0s - loss: 1.1967 - categorical_accuracy: 0.5406Epoch 00010: val_loss improved from 1.22287 to 1.22278, saving model to densenet_fast-improve-10-1.22278157767.hdf5\n",
      "359/359 [==============================] - 54s - loss: 1.1963 - categorical_accuracy: 0.5409 - val_loss: 1.2228 - val_categorical_accuracy: 0.5057\n",
      "Epoch 12/150\n",
      "358/359 [============================>.] - ETA: 0s - loss: 1.1981 - categorical_accuracy: 0.5394Epoch 00011: val_loss improved from 1.22278 to 1.22245, saving model to densenet_fast-improve-11-1.22244603293.hdf5\n",
      "359/359 [==============================] - 54s - loss: 1.1979 - categorical_accuracy: 0.5396 - val_loss: 1.2224 - val_categorical_accuracy: 0.5073\n",
      "Epoch 13/150\n",
      "358/359 [============================>.] - ETA: 0s - loss: 1.1953 - categorical_accuracy: 0.5400Epoch 00012: val_loss did not improve\n",
      "359/359 [==============================] - 54s - loss: 1.1957 - categorical_accuracy: 0.5396 - val_loss: 1.2226 - val_categorical_accuracy: 0.5057\n",
      "Epoch 14/150\n",
      "358/359 [============================>.] - ETA: 0s - loss: 1.1986 - categorical_accuracy: 0.5397Epoch 00013: val_loss improved from 1.22245 to 1.22230, saving model to densenet_fast-improve-13-1.2223013624.hdf5\n",
      "359/359 [==============================] - 54s - loss: 1.1988 - categorical_accuracy: 0.5395 - val_loss: 1.2223 - val_categorical_accuracy: 0.5053\n",
      "Epoch 15/150\n",
      "358/359 [============================>.] - ETA: 0s - loss: 1.1947 - categorical_accuracy: 0.5412Epoch 00014: val_loss improved from 1.22230 to 1.22221, saving model to densenet_fast-improve-14-1.22221299116.hdf5\n",
      "359/359 [==============================] - 54s - loss: 1.1946 - categorical_accuracy: 0.5411 - val_loss: 1.2222 - val_categorical_accuracy: 0.5073\n",
      "Epoch 16/150\n",
      "358/359 [============================>.] - ETA: 0s - loss: 1.1969 - categorical_accuracy: 0.5420Epoch 00015: val_loss did not improve\n",
      "359/359 [==============================] - 54s - loss: 1.1968 - categorical_accuracy: 0.5420 - val_loss: 1.2224 - val_categorical_accuracy: 0.5053\n",
      "Epoch 17/150\n",
      "358/359 [============================>.] - ETA: 0s - loss: 1.1968 - categorical_accuracy: 0.5395Epoch 00016: val_loss improved from 1.22221 to 1.22198, saving model to densenet_fast-improve-16-1.22197662545.hdf5\n",
      "359/359 [==============================] - 54s - loss: 1.1968 - categorical_accuracy: 0.5394 - val_loss: 1.2220 - val_categorical_accuracy: 0.5073\n",
      "Epoch 18/150\n",
      "358/359 [============================>.] - ETA: 0s - loss: 1.1967 - categorical_accuracy: 0.5401Epoch 00017: val_loss improved from 1.22198 to 1.22187, saving model to densenet_fast-improve-17-1.2218661974.hdf5\n",
      "359/359 [==============================] - 54s - loss: 1.1961 - categorical_accuracy: 0.5407 - val_loss: 1.2219 - val_categorical_accuracy: 0.5061\n",
      "Epoch 19/150\n",
      "358/359 [============================>.] - ETA: 0s - loss: 1.1966 - categorical_accuracy: 0.5393Epoch 00018: val_loss improved from 1.22187 to 1.22153, saving model to densenet_fast-improve-18-1.22152912772.hdf5\n",
      "359/359 [==============================] - 54s - loss: 1.1969 - categorical_accuracy: 0.5391 - val_loss: 1.2215 - val_categorical_accuracy: 0.5081\n",
      "Epoch 20/150\n",
      "358/359 [============================>.] - ETA: 0s - loss: 1.1972 - categorical_accuracy: 0.5395Epoch 00019: val_loss did not improve\n",
      "359/359 [==============================] - 54s - loss: 1.1971 - categorical_accuracy: 0.5395 - val_loss: 1.2222 - val_categorical_accuracy: 0.5053\n",
      "Epoch 21/150\n",
      "358/359 [============================>.] - ETA: 0s - loss: 1.1932 - categorical_accuracy: 0.5423Epoch 00020: val_loss did not improve\n",
      "359/359 [==============================] - 54s - loss: 1.1933 - categorical_accuracy: 0.5420 - val_loss: 1.2216 - val_categorical_accuracy: 0.5077\n",
      "Epoch 22/150\n",
      "358/359 [============================>.] - ETA: 0s - loss: 1.1957 - categorical_accuracy: 0.5386Epoch 00021: val_loss did not improve\n",
      "359/359 [==============================] - 54s - loss: 1.1958 - categorical_accuracy: 0.5387 - val_loss: 1.2216 - val_categorical_accuracy: 0.5069\n",
      "Epoch 23/150\n",
      "316/359 [=========================>....] - ETA: 6s - loss: 1.1968 - categorical_accuracy: 0.5391"
     ]
    }
   ],
   "source": [
    "history = model.fit_generator(\n",
    "        train_generator,\n",
    "        steps_per_epoch=nb_train_samples // batch_size,\n",
    "        epochs=nb_epoch,\n",
    "        validation_data=(X_val, Y_val),\n",
    "        validation_steps=nb_val_samples // batch_size,\n",
    "        callbacks=callbacks_list)\n",
    "print('Finished!')"
   ]
  },
  {
   "cell_type": "code",
   "execution_count": null,
   "metadata": {
    "collapsed": true
   },
   "outputs": [],
   "source": [
    "# serialize model to JSON\n",
    "model_json = model.to_json()\n",
    "with open(\"xcep_top_only.json\", \"w\") as json_file:\n",
    "    json_file.write(model_json)\n",
    "# serialize weights to HDF5\n",
    "model.save_weights(\"xcep_top_only.h5\")\n",
    "print(\"Saved model to disk\")"
   ]
  },
  {
   "cell_type": "markdown",
   "metadata": {
    "collapsed": true
   },
   "source": [
    "# Submit to kaggle for testing purposes"
   ]
  },
  {
   "cell_type": "markdown",
   "metadata": {},
   "source": [
    "## Loading test data"
   ]
  },
  {
   "cell_type": "code",
   "execution_count": null,
   "metadata": {
    "collapsed": true
   },
   "outputs": [],
   "source": [
    "test = glob.glob('data/test/**/*.jpg')\n",
    "test = pd.DataFrame([[p.split('/')[3],p] for p in test], columns = ['image','path']) #[::20] #limit for Kaggle Demo\n",
    "test_data = normalize_image_features(test['path'])\n",
    "np.save('test.npy', test_data, allow_pickle=True, fix_imports=True)\n",
    "\n",
    "test_id = test.image.values\n",
    "np.save('test_id.npy', test_id, allow_pickle=True, fix_imports=True)"
   ]
  },
  {
   "cell_type": "code",
   "execution_count": null,
   "metadata": {
    "collapsed": true
   },
   "outputs": [],
   "source": [
    "print(test_data.shape)"
   ]
  },
  {
   "cell_type": "code",
   "execution_count": null,
   "metadata": {
    "collapsed": true
   },
   "outputs": [],
   "source": [
    "test_data_channels_last = np.transpose(test_data, (0, 2, 3, 1))"
   ]
  },
  {
   "cell_type": "code",
   "execution_count": null,
   "metadata": {
    "collapsed": true
   },
   "outputs": [],
   "source": [
    "print(test_data_channels_last.shape)"
   ]
  },
  {
   "cell_type": "code",
   "execution_count": null,
   "metadata": {
    "collapsed": true
   },
   "outputs": [],
   "source": [
    "# Calculate class posteriors probabilities\n",
    "y_probabilities = model.predict(test_data_channels_last, batch_size=16, verbose=0)\n",
    "print(len(y_probabilities))"
   ]
  },
  {
   "cell_type": "code",
   "execution_count": null,
   "metadata": {
    "collapsed": true
   },
   "outputs": [],
   "source": [
    "print(y_probabilities[:5])"
   ]
  },
  {
   "cell_type": "code",
   "execution_count": null,
   "metadata": {
    "collapsed": true
   },
   "outputs": [],
   "source": [
    "df = pd.DataFrame(y_probabilities, columns=['Type_1','Type_2','Type_3'])\n",
    "df['image_name'] = test_id\n",
    "df.to_csv('submission.csv', index=False)"
   ]
  },
  {
   "cell_type": "code",
   "execution_count": null,
   "metadata": {
    "collapsed": true
   },
   "outputs": [],
   "source": [
    "%ls"
   ]
  },
  {
   "cell_type": "code",
   "execution_count": null,
   "metadata": {
    "collapsed": true
   },
   "outputs": [],
   "source": []
  },
  {
   "cell_type": "code",
   "execution_count": null,
   "metadata": {
    "collapsed": true
   },
   "outputs": [],
   "source": []
  }
 ],
 "metadata": {
  "kernelspec": {
   "display_name": "Python 2",
   "language": "python",
   "name": "python2"
  },
  "language_info": {
   "codemirror_mode": {
    "name": "ipython",
    "version": 2
   },
   "file_extension": ".py",
   "mimetype": "text/x-python",
   "name": "python",
   "nbconvert_exporter": "python",
   "pygments_lexer": "ipython2",
   "version": "2.7.13"
  }
 },
 "nbformat": 4,
 "nbformat_minor": 2
}
