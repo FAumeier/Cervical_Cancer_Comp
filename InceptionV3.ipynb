{
 "cells": [
  {
   "cell_type": "code",
   "execution_count": 1,
   "metadata": {},
   "outputs": [
    {
     "name": "stderr",
     "output_type": "stream",
     "text": [
      "Using TensorFlow backend.\n"
     ]
    }
   ],
   "source": [
    "from keras import applications\n",
    "from keras.preprocessing.image import ImageDataGenerator\n",
    "from keras import optimizers\n",
    "from keras.optimizers import SGD, RMSprop\n",
    "from keras.models import Sequential\n",
    "from keras.layers import Dropout, Flatten, Dense, GlobalAveragePooling2D\n",
    "from keras.applications.inception_v3 import InceptionV3\n",
    "from keras.applications.inception_v3 import preprocess_input\n",
    "from keras import optimizers\n",
    "from keras import regularizers\n",
    "from keras.preprocessing import image\n",
    "from keras.models import Model\n",
    "from keras import backend as K\n",
    "from keras.callbacks import ModelCheckpoint\n",
    "from keras.models import model_from_json\n",
    "from keras.callbacks import TensorBoard\n",
    "from keras.utils.np_utils import to_categorical\n",
    "\n",
    "import csv\n",
    "import numpy as np\n",
    "import PIL"
   ]
  },
  {
   "cell_type": "markdown",
   "metadata": {},
   "source": [
    "# Setting up train and val set"
   ]
  },
  {
   "cell_type": "code",
   "execution_count": 3,
   "metadata": {},
   "outputs": [
    {
     "data": {
      "text/plain": [
       "u'/home/paperspace/Cervical_Cancer_Comp'"
      ]
     },
     "execution_count": 3,
     "metadata": {},
     "output_type": "execute_result"
    }
   ],
   "source": [
    "%pwd"
   ]
  },
  {
   "cell_type": "code",
   "execution_count": 4,
   "metadata": {
    "collapsed": true
   },
   "outputs": [],
   "source": [
    "import os, sys\n",
    "current_dir = os.getcwd()\n",
    "LESSON_HOME_DIR = current_dir\n",
    "DATA_HOME_DIR = current_dir+'/data/'"
   ]
  },
  {
   "cell_type": "code",
   "execution_count": 5,
   "metadata": {
    "collapsed": true
   },
   "outputs": [],
   "source": [
    "import matplotlib\n",
    "%matplotlib inline"
   ]
  },
  {
   "cell_type": "markdown",
   "metadata": {},
   "source": [
    "# Create validation set "
   ]
  },
  {
   "cell_type": "code",
   "execution_count": 31,
   "metadata": {},
   "outputs": [
    {
     "name": "stdout",
     "output_type": "stream",
     "text": [
      "/home/paperspace/Cervical_Cancer_Comp/data\n"
     ]
    }
   ],
   "source": [
    "%cd $DATA_HOME_DIR"
   ]
  },
  {
   "cell_type": "code",
   "execution_count": 32,
   "metadata": {},
   "outputs": [
    {
     "name": "stdout",
     "output_type": "stream",
     "text": [
      "/home/paperspace/Cervical_Cancer_Comp/data/valid\n"
     ]
    }
   ],
   "source": [
    "%mkdir valid\n",
    "%cd valid\n",
    "%mkdir Type_1\n",
    "%mkdir Type_2\n",
    "%mkdir Type_3"
   ]
  },
  {
   "cell_type": "code",
   "execution_count": 33,
   "metadata": {},
   "outputs": [
    {
     "name": "stdout",
     "output_type": "stream",
     "text": [
      "/home/paperspace/Cervical_Cancer_Comp/data/train\n"
     ]
    }
   ],
   "source": [
    "%cd $DATA_HOME_DIR/train"
   ]
  },
  {
   "cell_type": "code",
   "execution_count": 26,
   "metadata": {
    "collapsed": true
   },
   "outputs": [],
   "source": [
    "from glob import glob"
   ]
  },
  {
   "cell_type": "code",
   "execution_count": 34,
   "metadata": {},
   "outputs": [
    {
     "data": {
      "text/plain": [
       "u'/home/paperspace/Cervical_Cancer_Comp/data/train'"
      ]
     },
     "execution_count": 34,
     "metadata": {},
     "output_type": "execute_result"
    }
   ],
   "source": [
    "%pwd"
   ]
  },
  {
   "cell_type": "code",
   "execution_count": 35,
   "metadata": {},
   "outputs": [
    {
     "name": "stdout",
     "output_type": "stream",
     "text": [
      "['Type_2/777.jpg' 'Type_2/366.jpg' 'Type_1/481.jpg' ..., 'Type_2/705.jpg'\n",
      " 'Type_2/451.jpg' 'Type_2/297.jpg']\n"
     ]
    }
   ],
   "source": [
    "g = glob('**/*.jpg')\n",
    "shuf = np.random.permutation(g)\n",
    "print(shuf)\n",
    "for i in range(355): os.rename(shuf[i], DATA_HOME_DIR+'/valid/' + shuf[i])"
   ]
  },
  {
   "cell_type": "markdown",
   "metadata": {},
   "source": [
    "## Sanity Check"
   ]
  },
  {
   "cell_type": "code",
   "execution_count": 36,
   "metadata": {},
   "outputs": [
    {
     "name": "stdout",
     "output_type": "stream",
     "text": [
      "/home/paperspace/Cervical_Cancer_Comp/data/valid\n"
     ]
    }
   ],
   "source": [
    "%cd $DATA_HOME_DIR/valid"
   ]
  },
  {
   "cell_type": "code",
   "execution_count": 41,
   "metadata": {},
   "outputs": [
    {
     "data": {
      "text/plain": [
       "u'/home/paperspace/Cervical_Cancer_Comp/data/valid/Type_1'"
      ]
     },
     "execution_count": 41,
     "metadata": {},
     "output_type": "execute_result"
    }
   ],
   "source": [
    "%pwd"
   ]
  },
  {
   "cell_type": "code",
   "execution_count": 42,
   "metadata": {},
   "outputs": [
    {
     "name": "stdout",
     "output_type": "stream",
     "text": [
      "65\r\n"
     ]
    }
   ],
   "source": [
    "%ls -1 | wc -l"
   ]
  },
  {
   "cell_type": "code",
   "execution_count": 43,
   "metadata": {},
   "outputs": [
    {
     "name": "stdout",
     "output_type": "stream",
     "text": [
      "/home/paperspace/Cervical_Cancer_Comp/data/valid/Type_2\n"
     ]
    }
   ],
   "source": [
    "%cd $DATA_HOME_DIR/valid/Type_2"
   ]
  },
  {
   "cell_type": "code",
   "execution_count": 44,
   "metadata": {},
   "outputs": [
    {
     "name": "stdout",
     "output_type": "stream",
     "text": [
      "186\r\n"
     ]
    }
   ],
   "source": [
    "%ls -1 | wc -l"
   ]
  },
  {
   "cell_type": "code",
   "execution_count": 45,
   "metadata": {},
   "outputs": [
    {
     "name": "stdout",
     "output_type": "stream",
     "text": [
      "/home/paperspace/Cervical_Cancer_Comp/data/valid/Type_2\n"
     ]
    }
   ],
   "source": [
    "%cd $DATA_HOME_DIR/valid/Type_2"
   ]
  },
  {
   "cell_type": "code",
   "execution_count": 46,
   "metadata": {},
   "outputs": [
    {
     "name": "stdout",
     "output_type": "stream",
     "text": [
      "/home/paperspace/Cervical_Cancer_Comp/data/valid/Type_3\n"
     ]
    }
   ],
   "source": [
    "%cd $DATA_HOME_DIR/valid/Type_3"
   ]
  },
  {
   "cell_type": "code",
   "execution_count": 47,
   "metadata": {},
   "outputs": [
    {
     "name": "stdout",
     "output_type": "stream",
     "text": [
      "104\r\n"
     ]
    }
   ],
   "source": [
    "%ls -1 | wc -l"
   ]
  },
  {
   "cell_type": "markdown",
   "metadata": {},
   "source": [
    "# Building the Model"
   ]
  },
  {
   "cell_type": "code",
   "execution_count": 6,
   "metadata": {},
   "outputs": [],
   "source": [
    "validation_data_dir = DATA_HOME_DIR+'/valid'\n",
    "train_data_dir = DATA_HOME_DIR+'train'"
   ]
  },
  {
   "cell_type": "code",
   "execution_count": 49,
   "metadata": {
    "collapsed": true
   },
   "outputs": [],
   "source": [
    "base_model = InceptionV3(weights='imagenet', include_top=False)"
   ]
  },
  {
   "cell_type": "code",
   "execution_count": 50,
   "metadata": {
    "collapsed": true
   },
   "outputs": [],
   "source": [
    "# add a global spatial average pooling layer\n",
    "x = base_model.output\n",
    "x = GlobalAveragePooling2D()(x)\n",
    "# let's add a fully-connected layer\n",
    "x = Dense(1024, activation='relu', kernel_initializer='glorot_uniform')(x)\n",
    "x = Dropout(0.5)(x)\n",
    "x = Dense(256, activation='relu', kernel_initializer='glorot_uniform')(x)\n",
    "# and a logistic layer -- let's say we have 200 classes\n",
    "x = Dropout(0.5)(x)\n",
    "predictions = Dense(3, activation='softmax', kernel_initializer='glorot_uniform')(x)"
   ]
  },
  {
   "cell_type": "code",
   "execution_count": 51,
   "metadata": {
    "collapsed": true
   },
   "outputs": [],
   "source": [
    "# this is the model we will train\n",
    "model = Model(inputs=base_model.input, outputs=predictions)"
   ]
  },
  {
   "cell_type": "code",
   "execution_count": 7,
   "metadata": {
    "collapsed": true
   },
   "outputs": [],
   "source": [
    "def printAllLayers():\n",
    "    for i, layer in enumerate(model.layers):\n",
    "       print(i, layer.name)"
   ]
  },
  {
   "cell_type": "code",
   "execution_count": 8,
   "metadata": {
    "collapsed": true
   },
   "outputs": [],
   "source": [
    "def printTrainableLayers():\n",
    "    for i, layer in enumerate(model.layers):\n",
    "       if layer.trainable == True: \n",
    "           print(i, layer.name)"
   ]
  },
  {
   "cell_type": "code",
   "execution_count": 54,
   "metadata": {
    "collapsed": true
   },
   "outputs": [
    {
     "name": "stdout",
     "output_type": "stream",
     "text": [
      "(0, 'input_2')\n",
      "(1, 'conv2d_95')\n",
      "(2, 'batch_normalization_95')\n",
      "(3, 'activation_95')\n",
      "(4, 'conv2d_96')\n",
      "(5, 'batch_normalization_96')\n",
      "(6, 'activation_96')\n",
      "(7, 'conv2d_97')\n",
      "(8, 'batch_normalization_97')\n",
      "(9, 'activation_97')\n",
      "(10, 'max_pooling2d_5')\n",
      "(11, 'conv2d_98')\n",
      "(12, 'batch_normalization_98')\n",
      "(13, 'activation_98')\n",
      "(14, 'conv2d_99')\n",
      "(15, 'batch_normalization_99')\n",
      "(16, 'activation_99')\n",
      "(17, 'max_pooling2d_6')\n",
      "(18, 'conv2d_103')\n",
      "(19, 'batch_normalization_103')\n",
      "(20, 'activation_103')\n",
      "(21, 'conv2d_101')\n",
      "(22, 'conv2d_104')\n",
      "(23, 'batch_normalization_101')\n",
      "(24, 'batch_normalization_104')\n",
      "(25, 'activation_101')\n",
      "(26, 'activation_104')\n",
      "(27, 'average_pooling2d_10')\n",
      "(28, 'conv2d_100')\n",
      "(29, 'conv2d_102')\n",
      "(30, 'conv2d_105')\n",
      "(31, 'conv2d_106')\n",
      "(32, 'batch_normalization_100')\n",
      "(33, 'batch_normalization_102')\n",
      "(34, 'batch_normalization_105')\n",
      "(35, 'batch_normalization_106')\n",
      "(36, 'activation_100')\n",
      "(37, 'activation_102')\n",
      "(38, 'activation_105')\n",
      "(39, 'activation_106')\n",
      "(40, 'mixed0')\n",
      "(41, 'conv2d_110')\n",
      "(42, 'batch_normalization_110')\n",
      "(43, 'activation_110')\n",
      "(44, 'conv2d_108')\n",
      "(45, 'conv2d_111')\n",
      "(46, 'batch_normalization_108')\n",
      "(47, 'batch_normalization_111')\n",
      "(48, 'activation_108')\n",
      "(49, 'activation_111')\n",
      "(50, 'average_pooling2d_11')\n",
      "(51, 'conv2d_107')\n",
      "(52, 'conv2d_109')\n",
      "(53, 'conv2d_112')\n",
      "(54, 'conv2d_113')\n",
      "(55, 'batch_normalization_107')\n",
      "(56, 'batch_normalization_109')\n",
      "(57, 'batch_normalization_112')\n",
      "(58, 'batch_normalization_113')\n",
      "(59, 'activation_107')\n",
      "(60, 'activation_109')\n",
      "(61, 'activation_112')\n",
      "(62, 'activation_113')\n",
      "(63, 'mixed1')\n",
      "(64, 'conv2d_117')\n",
      "(65, 'batch_normalization_117')\n",
      "(66, 'activation_117')\n",
      "(67, 'conv2d_115')\n",
      "(68, 'conv2d_118')\n",
      "(69, 'batch_normalization_115')\n",
      "(70, 'batch_normalization_118')\n",
      "(71, 'activation_115')\n",
      "(72, 'activation_118')\n",
      "(73, 'average_pooling2d_12')\n",
      "(74, 'conv2d_114')\n",
      "(75, 'conv2d_116')\n",
      "(76, 'conv2d_119')\n",
      "(77, 'conv2d_120')\n",
      "(78, 'batch_normalization_114')\n",
      "(79, 'batch_normalization_116')\n",
      "(80, 'batch_normalization_119')\n",
      "(81, 'batch_normalization_120')\n",
      "(82, 'activation_114')\n",
      "(83, 'activation_116')\n",
      "(84, 'activation_119')\n",
      "(85, 'activation_120')\n",
      "(86, 'mixed2')\n",
      "(87, 'conv2d_122')\n",
      "(88, 'batch_normalization_122')\n",
      "(89, 'activation_122')\n",
      "(90, 'conv2d_123')\n",
      "(91, 'batch_normalization_123')\n",
      "(92, 'activation_123')\n",
      "(93, 'conv2d_121')\n",
      "(94, 'conv2d_124')\n",
      "(95, 'batch_normalization_121')\n",
      "(96, 'batch_normalization_124')\n",
      "(97, 'activation_121')\n",
      "(98, 'activation_124')\n",
      "(99, 'max_pooling2d_7')\n",
      "(100, 'mixed3')\n",
      "(101, 'conv2d_129')\n",
      "(102, 'batch_normalization_129')\n",
      "(103, 'activation_129')\n",
      "(104, 'conv2d_130')\n",
      "(105, 'batch_normalization_130')\n",
      "(106, 'activation_130')\n",
      "(107, 'conv2d_126')\n",
      "(108, 'conv2d_131')\n",
      "(109, 'batch_normalization_126')\n",
      "(110, 'batch_normalization_131')\n",
      "(111, 'activation_126')\n",
      "(112, 'activation_131')\n",
      "(113, 'conv2d_127')\n",
      "(114, 'conv2d_132')\n",
      "(115, 'batch_normalization_127')\n",
      "(116, 'batch_normalization_132')\n",
      "(117, 'activation_127')\n",
      "(118, 'activation_132')\n",
      "(119, 'average_pooling2d_13')\n",
      "(120, 'conv2d_125')\n",
      "(121, 'conv2d_128')\n",
      "(122, 'conv2d_133')\n",
      "(123, 'conv2d_134')\n",
      "(124, 'batch_normalization_125')\n",
      "(125, 'batch_normalization_128')\n",
      "(126, 'batch_normalization_133')\n",
      "(127, 'batch_normalization_134')\n",
      "(128, 'activation_125')\n",
      "(129, 'activation_128')\n",
      "(130, 'activation_133')\n",
      "(131, 'activation_134')\n",
      "(132, 'mixed4')\n",
      "(133, 'conv2d_139')\n",
      "(134, 'batch_normalization_139')\n",
      "(135, 'activation_139')\n",
      "(136, 'conv2d_140')\n",
      "(137, 'batch_normalization_140')\n",
      "(138, 'activation_140')\n",
      "(139, 'conv2d_136')\n",
      "(140, 'conv2d_141')\n",
      "(141, 'batch_normalization_136')\n",
      "(142, 'batch_normalization_141')\n",
      "(143, 'activation_136')\n",
      "(144, 'activation_141')\n",
      "(145, 'conv2d_137')\n",
      "(146, 'conv2d_142')\n",
      "(147, 'batch_normalization_137')\n",
      "(148, 'batch_normalization_142')\n",
      "(149, 'activation_137')\n",
      "(150, 'activation_142')\n",
      "(151, 'average_pooling2d_14')\n",
      "(152, 'conv2d_135')\n",
      "(153, 'conv2d_138')\n",
      "(154, 'conv2d_143')\n",
      "(155, 'conv2d_144')\n",
      "(156, 'batch_normalization_135')\n",
      "(157, 'batch_normalization_138')\n",
      "(158, 'batch_normalization_143')\n",
      "(159, 'batch_normalization_144')\n",
      "(160, 'activation_135')\n",
      "(161, 'activation_138')\n",
      "(162, 'activation_143')\n",
      "(163, 'activation_144')\n",
      "(164, 'mixed5')\n",
      "(165, 'conv2d_149')\n",
      "(166, 'batch_normalization_149')\n",
      "(167, 'activation_149')\n",
      "(168, 'conv2d_150')\n",
      "(169, 'batch_normalization_150')\n",
      "(170, 'activation_150')\n",
      "(171, 'conv2d_146')\n",
      "(172, 'conv2d_151')\n",
      "(173, 'batch_normalization_146')\n",
      "(174, 'batch_normalization_151')\n",
      "(175, 'activation_146')\n",
      "(176, 'activation_151')\n",
      "(177, 'conv2d_147')\n",
      "(178, 'conv2d_152')\n",
      "(179, 'batch_normalization_147')\n",
      "(180, 'batch_normalization_152')\n",
      "(181, 'activation_147')\n",
      "(182, 'activation_152')\n",
      "(183, 'average_pooling2d_15')\n",
      "(184, 'conv2d_145')\n",
      "(185, 'conv2d_148')\n",
      "(186, 'conv2d_153')\n",
      "(187, 'conv2d_154')\n",
      "(188, 'batch_normalization_145')\n",
      "(189, 'batch_normalization_148')\n",
      "(190, 'batch_normalization_153')\n",
      "(191, 'batch_normalization_154')\n",
      "(192, 'activation_145')\n",
      "(193, 'activation_148')\n",
      "(194, 'activation_153')\n",
      "(195, 'activation_154')\n",
      "(196, 'mixed6')\n",
      "(197, 'conv2d_159')\n",
      "(198, 'batch_normalization_159')\n",
      "(199, 'activation_159')\n",
      "(200, 'conv2d_160')\n",
      "(201, 'batch_normalization_160')\n",
      "(202, 'activation_160')\n",
      "(203, 'conv2d_156')\n",
      "(204, 'conv2d_161')\n",
      "(205, 'batch_normalization_156')\n",
      "(206, 'batch_normalization_161')\n",
      "(207, 'activation_156')\n",
      "(208, 'activation_161')\n",
      "(209, 'conv2d_157')\n",
      "(210, 'conv2d_162')\n",
      "(211, 'batch_normalization_157')\n",
      "(212, 'batch_normalization_162')\n",
      "(213, 'activation_157')\n",
      "(214, 'activation_162')\n",
      "(215, 'average_pooling2d_16')\n",
      "(216, 'conv2d_155')\n",
      "(217, 'conv2d_158')\n",
      "(218, 'conv2d_163')\n",
      "(219, 'conv2d_164')\n",
      "(220, 'batch_normalization_155')\n",
      "(221, 'batch_normalization_158')\n",
      "(222, 'batch_normalization_163')\n",
      "(223, 'batch_normalization_164')\n",
      "(224, 'activation_155')\n",
      "(225, 'activation_158')\n",
      "(226, 'activation_163')\n",
      "(227, 'activation_164')\n",
      "(228, 'mixed7')\n",
      "(229, 'conv2d_167')\n",
      "(230, 'batch_normalization_167')\n",
      "(231, 'activation_167')\n",
      "(232, 'conv2d_168')\n",
      "(233, 'batch_normalization_168')\n",
      "(234, 'activation_168')\n",
      "(235, 'conv2d_165')\n",
      "(236, 'conv2d_169')\n",
      "(237, 'batch_normalization_165')\n",
      "(238, 'batch_normalization_169')\n",
      "(239, 'activation_165')\n",
      "(240, 'activation_169')\n",
      "(241, 'conv2d_166')\n",
      "(242, 'conv2d_170')\n",
      "(243, 'batch_normalization_166')\n",
      "(244, 'batch_normalization_170')\n",
      "(245, 'activation_166')\n",
      "(246, 'activation_170')\n",
      "(247, 'max_pooling2d_8')\n",
      "(248, 'mixed8')\n",
      "(249, 'conv2d_175')\n",
      "(250, 'batch_normalization_175')\n",
      "(251, 'activation_175')\n",
      "(252, 'conv2d_172')\n",
      "(253, 'conv2d_176')\n",
      "(254, 'batch_normalization_172')\n",
      "(255, 'batch_normalization_176')\n",
      "(256, 'activation_172')\n",
      "(257, 'activation_176')\n",
      "(258, 'conv2d_173')\n",
      "(259, 'conv2d_174')\n",
      "(260, 'conv2d_177')\n",
      "(261, 'conv2d_178')\n",
      "(262, 'average_pooling2d_17')\n",
      "(263, 'conv2d_171')\n",
      "(264, 'batch_normalization_173')\n",
      "(265, 'batch_normalization_174')\n",
      "(266, 'batch_normalization_177')\n",
      "(267, 'batch_normalization_178')\n",
      "(268, 'conv2d_179')\n",
      "(269, 'batch_normalization_171')\n",
      "(270, 'activation_173')\n",
      "(271, 'activation_174')\n",
      "(272, 'activation_177')\n",
      "(273, 'activation_178')\n",
      "(274, 'batch_normalization_179')\n",
      "(275, 'activation_171')\n",
      "(276, 'mixed9_0')\n",
      "(277, 'concatenate_3')\n",
      "(278, 'activation_179')\n",
      "(279, 'mixed9')\n",
      "(280, 'conv2d_184')\n",
      "(281, 'batch_normalization_184')\n",
      "(282, 'activation_184')\n",
      "(283, 'conv2d_181')\n",
      "(284, 'conv2d_185')\n",
      "(285, 'batch_normalization_181')\n",
      "(286, 'batch_normalization_185')\n",
      "(287, 'activation_181')\n",
      "(288, 'activation_185')\n",
      "(289, 'conv2d_182')\n",
      "(290, 'conv2d_183')\n",
      "(291, 'conv2d_186')\n",
      "(292, 'conv2d_187')\n",
      "(293, 'average_pooling2d_18')\n",
      "(294, 'conv2d_180')\n",
      "(295, 'batch_normalization_182')\n",
      "(296, 'batch_normalization_183')\n",
      "(297, 'batch_normalization_186')\n",
      "(298, 'batch_normalization_187')\n",
      "(299, 'conv2d_188')\n",
      "(300, 'batch_normalization_180')\n",
      "(301, 'activation_182')\n",
      "(302, 'activation_183')\n",
      "(303, 'activation_186')\n",
      "(304, 'activation_187')\n",
      "(305, 'batch_normalization_188')\n",
      "(306, 'activation_180')\n",
      "(307, 'mixed9_1')\n",
      "(308, 'concatenate_4')\n",
      "(309, 'activation_188')\n",
      "(310, 'mixed10')\n",
      "(311, 'global_average_pooling2d_2')\n",
      "(312, 'dense_4')\n",
      "(313, 'dropout_3')\n",
      "(314, 'dense_5')\n",
      "(315, 'dropout_4')\n",
      "(316, 'dense_6')\n"
     ]
    }
   ],
   "source": [
    "printAllLayers()"
   ]
  },
  {
   "cell_type": "code",
   "execution_count": 55,
   "metadata": {
    "collapsed": true
   },
   "outputs": [],
   "source": [
    "# set the first 25 layers (up to the last conv block)\n",
    "# to non-trainable (weights will not be updated)\n",
    "for layer in model.layers[:311]:\n",
    "    layer.trainable = False"
   ]
  },
  {
   "cell_type": "code",
   "execution_count": null,
   "metadata": {},
   "outputs": [],
   "source": [
    "printTrainableLayers()"
   ]
  },
  {
   "cell_type": "code",
   "execution_count": 57,
   "metadata": {
    "collapsed": true
   },
   "outputs": [],
   "source": [
    "opt = RMSprop(lr=1e-5, rho=0.9, decay=0.01)\n",
    "#opt = SGD(lr=1e-2, momentum=0.9, decay=0.01, nesterov=True)\n",
    "model.compile(optimizer='rmsprop', loss='categorical_crossentropy', metrics=['categorical_accuracy'])"
   ]
  },
  {
   "cell_type": "code",
   "execution_count": 58,
   "metadata": {
    "collapsed": true
   },
   "outputs": [],
   "source": [
    "filepath=\"inception-top-weights-droput-50-2-improvement-{epoch:02d}-{val_loss:}.hdf5\"\n",
    "checkpoint = ModelCheckpoint(filepath, monitor='val_loss', verbose=1, save_best_only=True, mode='min')\n",
    "callbacks_list = [checkpoint]\n",
    "tbCallBack = TensorBoard(log_dir='./graph_incep_top_dropout_50_2', histogram_freq=0, write_graph=True, write_images=True)\n",
    "callbacks_list.append(tbCallBack)"
   ]
  },
  {
   "cell_type": "code",
   "execution_count": 10,
   "metadata": {
    "collapsed": true
   },
   "outputs": [],
   "source": [
    "from PIL import ImageFile\n",
    "ImageFile.LOAD_TRUNCATED_IMAGES = True"
   ]
  },
  {
   "cell_type": "code",
   "execution_count": 11,
   "metadata": {
    "collapsed": true
   },
   "outputs": [],
   "source": [
    "batch_size = 16\n",
    "nb_classes = 3\n",
    "img_height = 299 \n",
    "img_width = 299\n",
    "nb_train_samples = 1126"
   ]
  },
  {
   "cell_type": "code",
   "execution_count": 61,
   "metadata": {
    "collapsed": true
   },
   "outputs": [],
   "source": [
    "train_datagen = ImageDataGenerator(\n",
    "        width_shift_range=0.2,\n",
    "        height_shift_range=0.2,\n",
    "        rescale=1. / 255,\n",
    "        zoom_range=0.2,\n",
    "        fill_mode='nearest')"
   ]
  },
  {
   "cell_type": "code",
   "execution_count": 62,
   "metadata": {},
   "outputs": [
    {
     "name": "stdout",
     "output_type": "stream",
     "text": [
      "Found 1126 images belonging to 3 classes.\n"
     ]
    }
   ],
   "source": [
    "train_generator = train_datagen.flow_from_directory(\n",
    "    train_data_dir,\n",
    "    target_size=(img_height, img_width),\n",
    "    batch_size=batch_size,\n",
    "    class_mode='categorical')"
   ]
  },
  {
   "cell_type": "code",
   "execution_count": 12,
   "metadata": {
    "collapsed": true
   },
   "outputs": [],
   "source": [
    "# this is the augmentation configuration we will use for testing:\n",
    "# only rescaling\n",
    "test_datagen = ImageDataGenerator(rescale=1./255)"
   ]
  },
  {
   "cell_type": "code",
   "execution_count": 65,
   "metadata": {},
   "outputs": [
    {
     "name": "stdout",
     "output_type": "stream",
     "text": [
      "Found 355 images belonging to 3 classes.\n"
     ]
    }
   ],
   "source": [
    "# this is a similar generator, for validation data\n",
    "validation_generator = test_datagen.flow_from_directory(\n",
    "        validation_data_dir,\n",
    "        target_size=(img_height, img_width),\n",
    "        batch_size=batch_size,\n",
    "        class_mode='categorical')"
   ]
  },
  {
   "cell_type": "code",
   "execution_count": null,
   "metadata": {},
   "outputs": [
    {
     "name": "stdout",
     "output_type": "stream",
     "text": [
      "Epoch 1/200\n",
      "69/70 [============================>.] - ETA: 3s - loss: 1.9217 - categorical_accuracy: 0.4303Epoch 00000: val_loss improved from inf to 1.02694, saving model to inception-top-weights-droput-50-2-improvement-00-1.02693938396.hdf5\n",
      "70/70 [==============================] - 322s - loss: 1.9075 - categorical_accuracy: 0.4321 - val_loss: 1.0269 - val_categorical_accuracy: 0.5256\n",
      "Epoch 2/200\n",
      "69/70 [============================>.] - ETA: 2s - loss: 0.9315 - categorical_accuracy: 0.5716"
     ]
    }
   ],
   "source": [
    "history = model.fit_generator(\n",
    "        train_generator,\n",
    "        steps_per_epoch=nb_train_samples // batch_size,\n",
    "        epochs=200,\n",
    "        validation_data=validation_generator,\n",
    "        validation_steps=355 // batch_size,\n",
    "        callbacks=callbacks_list)"
   ]
  },
  {
   "cell_type": "code",
   "execution_count": null,
   "metadata": {
    "collapsed": true
   },
   "outputs": [],
   "source": [
    "# serialize model to JSON\n",
    "model_json = model.to_json()\n",
    "with open(\"incep_top_only_dropout_50_2.json\", \"w\") as json_file:\n",
    "    json_file.write(model_json)\n",
    "# serialize weights to HDF5\n",
    "model.save_weights(\"incep_top_only_dropout_2.h5\")\n",
    "print(\"Saved model to disk\")"
   ]
  },
  {
   "cell_type": "markdown",
   "metadata": {
    "collapsed": true
   },
   "source": [
    "# Lets test it on kaggle"
   ]
  },
  {
   "cell_type": "code",
   "execution_count": 13,
   "metadata": {
    "collapsed": true
   },
   "outputs": [],
   "source": [
    "test_data_dir = 'data/test'"
   ]
  },
  {
   "cell_type": "code",
   "execution_count": 14,
   "metadata": {},
   "outputs": [
    {
     "name": "stdout",
     "output_type": "stream",
     "text": [
      "Found 512 images belonging to 1 classes.\n"
     ]
    }
   ],
   "source": [
    "# Read Data\n",
    "test_datagen = ImageDataGenerator(rescale=1. / 255)\n",
    "test_generator = test_datagen.flow_from_directory(test_data_dir,\n",
    "                                                  target_size=(img_width, img_height),\n",
    "                                                  batch_size=16,\n",
    "                                                  shuffle=False)"
   ]
  },
  {
   "cell_type": "code",
   "execution_count": 15,
   "metadata": {
    "collapsed": true
   },
   "outputs": [],
   "source": [
    "# load json and create model\n",
    "json_file = open(\"good_run/incep_top_only_dropout_50_2.json\", 'r')\n",
    "loaded_model_json = json_file.read()\n",
    "json_file.close()\n",
    "model = model_from_json(loaded_model_json)\n",
    "model.load_weights(\"good_run/inception-top-weights-droput-50-2-improvement-36-0.902600862763.hdf5\")"
   ]
  },
  {
   "cell_type": "code",
   "execution_count": 16,
   "metadata": {},
   "outputs": [
    {
     "name": "stdout",
     "output_type": "stream",
     "text": [
      "512\n"
     ]
    }
   ],
   "source": [
    "# Calculate class posteriors probabilities\n",
    "y_probabilities = model.predict_generator(test_generator, 32)\n",
    "print(len(y_probabilities))"
   ]
  },
  {
   "cell_type": "code",
   "execution_count": 17,
   "metadata": {},
   "outputs": [
    {
     "name": "stdout",
     "output_type": "stream",
     "text": [
      "[[ 0.12600601  0.6601392   0.21385479]\n",
      " [ 0.27472854  0.50746393  0.21780752]\n",
      " [ 0.04537117  0.48514774  0.46948111]\n",
      " [ 0.03214805  0.42386901  0.54398292]\n",
      " [ 0.21812342  0.5947724   0.18710423]]\n"
     ]
    }
   ],
   "source": [
    "print(y_probabilities[:5])"
   ]
  },
  {
   "cell_type": "code",
   "execution_count": 20,
   "metadata": {
    "collapsed": true
   },
   "outputs": [],
   "source": [
    "# Calculate class labels\n",
    "filenames = [filename.split('/')[1] for filename in test_generator.filenames]\n",
    "ids = [filename.split('.')[0] for filename in filenames]"
   ]
  },
  {
   "cell_type": "code",
   "execution_count": 21,
   "metadata": {
    "collapsed": true
   },
   "outputs": [],
   "source": [
    "results_path = 'results/'\n",
    "results_name = 'predictions.csv'\n",
    "# save results as a csv file in the specified results directory\n",
    "with open(os.path.join(results_path, results_name), 'w') as file:\n",
    "    writer = csv.writer(file)\n",
    "    writer.writerow(('image_name', 'Type_1', 'Type_2', 'Type_3'))\n",
    "    writer.writerows(zip(filenames, y_probabilities[:, 0], y_probabilities[:, 1], y_probabilities[:, 2]))"
   ]
  },
  {
   "cell_type": "code",
   "execution_count": null,
   "metadata": {
    "collapsed": true
   },
   "outputs": [],
   "source": []
  }
 ],
 "metadata": {
  "kernelspec": {
   "display_name": "Python 2",
   "language": "python",
   "name": "python2"
  },
  "language_info": {
   "codemirror_mode": {
    "name": "ipython",
    "version": 2
   },
   "file_extension": ".py",
   "mimetype": "text/x-python",
   "name": "python",
   "nbconvert_exporter": "python",
   "pygments_lexer": "ipython2",
   "version": "2.7.13"
  }
 },
 "nbformat": 4,
 "nbformat_minor": 2
}
